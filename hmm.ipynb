{
 "cells": [
  {
   "cell_type": "code",
   "execution_count": 1,
   "id": "worldwide-envelope",
   "metadata": {},
   "outputs": [],
   "source": [
    "import pandas as pd\n",
    "import numpy as np\n",
    "import glob\n",
    "import datetime"
   ]
  },
  {
   "cell_type": "code",
   "execution_count": 2,
   "id": "dramatic-phoenix",
   "metadata": {},
   "outputs": [],
   "source": [
    "path = \"E:/Data/Monitor Data/data_frames/\"\n",
    "\n",
    "# df_wrist = pd.read_csv(path + \"wrist.csv\")\n",
    "# df_hip = pd.read_csv(path + \"hip.csv\")\n",
    "df_chest = pd.read_csv(path + \"chest.csv\")\n",
    "df_thigh = pd.read_csv(path + \"thigh.csv\")"
   ]
  },
  {
   "cell_type": "code",
   "execution_count": 3,
   "id": "central-genre",
   "metadata": {},
   "outputs": [
    {
     "data": {
      "text/plain": [
       "Accelerometer X        float64\n",
       "Accelerometer Y        float64\n",
       "Accelerometer Z        float64\n",
       "actual_datetime         object\n",
       "time                    object\n",
       "primary_behavior        object\n",
       "primary_posture         object\n",
       "primary_upperbody       object\n",
       "primary_intensity       object\n",
       "secondary_behavior      object\n",
       "secondary_posture       object\n",
       "secondary_upperbody     object\n",
       "secondary_intensity     object\n",
       "num_postures             int64\n",
       "transition               int64\n",
       "actual_time             object\n",
       "type                    object\n",
       "start.time              object\n",
       "broad_activity          object\n",
       "detailed_activity       object\n",
       "updated_activity        object\n",
       "act_type                object\n",
       "act_type_broad          object\n",
       "time_int                 int64\n",
       "dtype: object"
      ]
     },
     "execution_count": 3,
     "metadata": {},
     "output_type": "execute_result"
    }
   ],
   "source": [
    "df_chest.dtypes"
   ]
  },
  {
   "cell_type": "code",
   "execution_count": 4,
   "id": "physical-tyler",
   "metadata": {},
   "outputs": [
    {
     "data": {
      "text/plain": [
       "array(['sit/stand', 'mixed-activity', 'walking', 'vehicle', 'bicycling'],\n",
       "      dtype=object)"
      ]
     },
     "execution_count": 4,
     "metadata": {},
     "output_type": "execute_result"
    }
   ],
   "source": [
    "df_chest[\"broad_activity\"].unique()"
   ]
  },
  {
   "cell_type": "code",
   "execution_count": 5,
   "id": "contained-gasoline",
   "metadata": {},
   "outputs": [
    {
     "name": "stdout",
     "output_type": "stream",
     "text": [
      "353710\n",
      "351279\n"
     ]
    }
   ],
   "source": [
    "print(len(df_chest))\n",
    "print(len(df_thigh))"
   ]
  },
  {
   "cell_type": "code",
   "execution_count": 6,
   "id": "standard-difference",
   "metadata": {},
   "outputs": [],
   "source": [
    "response_activity = \"broad_activity\"\n",
    "\n",
    "categorical_variables = [\"primary_behavior\", \"primary_posture\", \"primary_upperbody\", \"primary_intensity\", \n",
    "                         \"secondary_behavior\", \"secondary_posture\", \"secondary_upperbody\", \"secondary_intensity\",\n",
    "                         \"type\", \"broad_activity\", \"detailed_activity\", \"act_type\", \"act_type_broad\"]\n",
    "\n",
    "float_variables = [\"Accelerometer X\", \"Accelerometer Y\", \"Accelerometer Z\"]\n",
    "\n",
    "int_variables = [\"num_postures\", \"transition\", \"time_int\"]\n",
    "\n",
    "datetime_variables = [\"actual_datetime\", \"time\", \"actual_time\", \"start.time\"]"
   ]
  },
  {
   "cell_type": "code",
   "execution_count": 7,
   "id": "sized-right",
   "metadata": {
    "scrolled": true
   },
   "outputs": [
    {
     "data": {
      "text/html": [
       "<div>\n",
       "<style scoped>\n",
       "    .dataframe tbody tr th:only-of-type {\n",
       "        vertical-align: middle;\n",
       "    }\n",
       "\n",
       "    .dataframe tbody tr th {\n",
       "        vertical-align: top;\n",
       "    }\n",
       "\n",
       "    .dataframe thead th {\n",
       "        text-align: right;\n",
       "    }\n",
       "</style>\n",
       "<table border=\"1\" class=\"dataframe\">\n",
       "  <thead>\n",
       "    <tr style=\"text-align: right;\">\n",
       "      <th></th>\n",
       "      <th>Accelerometer X</th>\n",
       "      <th>Accelerometer Y</th>\n",
       "      <th>Accelerometer Z</th>\n",
       "      <th>num_postures</th>\n",
       "      <th>transition</th>\n",
       "      <th>time_int</th>\n",
       "    </tr>\n",
       "  </thead>\n",
       "  <tbody>\n",
       "    <tr>\n",
       "      <th>count</th>\n",
       "      <td>353710.000000</td>\n",
       "      <td>353710.000000</td>\n",
       "      <td>353710.000000</td>\n",
       "      <td>353710.000000</td>\n",
       "      <td>353710.000000</td>\n",
       "      <td>3.537100e+05</td>\n",
       "    </tr>\n",
       "    <tr>\n",
       "      <th>mean</th>\n",
       "      <td>0.035532</td>\n",
       "      <td>0.825666</td>\n",
       "      <td>0.324303</td>\n",
       "      <td>1.024642</td>\n",
       "      <td>0.024619</td>\n",
       "      <td>2.606352e+07</td>\n",
       "    </tr>\n",
       "    <tr>\n",
       "      <th>std</th>\n",
       "      <td>0.149071</td>\n",
       "      <td>0.227845</td>\n",
       "      <td>0.389453</td>\n",
       "      <td>0.155268</td>\n",
       "      <td>0.154961</td>\n",
       "      <td>6.767063e+06</td>\n",
       "    </tr>\n",
       "    <tr>\n",
       "      <th>min</th>\n",
       "      <td>-1.165490</td>\n",
       "      <td>-0.341416</td>\n",
       "      <td>-1.324940</td>\n",
       "      <td>1.000000</td>\n",
       "      <td>0.000000</td>\n",
       "      <td>1.766983e+07</td>\n",
       "    </tr>\n",
       "    <tr>\n",
       "      <th>25%</th>\n",
       "      <td>-0.042127</td>\n",
       "      <td>0.791177</td>\n",
       "      <td>0.131676</td>\n",
       "      <td>1.000000</td>\n",
       "      <td>0.000000</td>\n",
       "      <td>2.198731e+07</td>\n",
       "    </tr>\n",
       "    <tr>\n",
       "      <th>50%</th>\n",
       "      <td>0.034582</td>\n",
       "      <td>0.915029</td>\n",
       "      <td>0.352631</td>\n",
       "      <td>1.000000</td>\n",
       "      <td>0.000000</td>\n",
       "      <td>2.417077e+07</td>\n",
       "    </tr>\n",
       "    <tr>\n",
       "      <th>75%</th>\n",
       "      <td>0.122301</td>\n",
       "      <td>0.968851</td>\n",
       "      <td>0.570392</td>\n",
       "      <td>1.000000</td>\n",
       "      <td>0.000000</td>\n",
       "      <td>3.295340e+07</td>\n",
       "    </tr>\n",
       "    <tr>\n",
       "      <th>max</th>\n",
       "      <td>0.967276</td>\n",
       "      <td>1.368665</td>\n",
       "      <td>1.040457</td>\n",
       "      <td>3.000000</td>\n",
       "      <td>1.000000</td>\n",
       "      <td>4.343850e+07</td>\n",
       "    </tr>\n",
       "  </tbody>\n",
       "</table>\n",
       "</div>"
      ],
      "text/plain": [
       "       Accelerometer X  Accelerometer Y  Accelerometer Z   num_postures  \\\n",
       "count    353710.000000    353710.000000    353710.000000  353710.000000   \n",
       "mean          0.035532         0.825666         0.324303       1.024642   \n",
       "std           0.149071         0.227845         0.389453       0.155268   \n",
       "min          -1.165490        -0.341416        -1.324940       1.000000   \n",
       "25%          -0.042127         0.791177         0.131676       1.000000   \n",
       "50%           0.034582         0.915029         0.352631       1.000000   \n",
       "75%           0.122301         0.968851         0.570392       1.000000   \n",
       "max           0.967276         1.368665         1.040457       3.000000   \n",
       "\n",
       "          transition      time_int  \n",
       "count  353710.000000  3.537100e+05  \n",
       "mean        0.024619  2.606352e+07  \n",
       "std         0.154961  6.767063e+06  \n",
       "min         0.000000  1.766983e+07  \n",
       "25%         0.000000  2.198731e+07  \n",
       "50%         0.000000  2.417077e+07  \n",
       "75%         0.000000  3.295340e+07  \n",
       "max         1.000000  4.343850e+07  "
      ]
     },
     "execution_count": 7,
     "metadata": {},
     "output_type": "execute_result"
    }
   ],
   "source": [
    "df_chest[float_variables + int_variables].describe()"
   ]
  },
  {
   "cell_type": "code",
   "execution_count": 8,
   "id": "inappropriate-stereo",
   "metadata": {},
   "outputs": [],
   "source": [
    "from sklearn.feature_selection import SelectKBest, f_classif\n",
    "\n",
    "#dropped_vars = [response_activity] + datetime_variables + categorical_variables + int_variables\n",
    "\n",
    "X = df_chest[float_variables + [\"time_int\"]]\n",
    "y = df_chest[response_activity]\n",
    "\n",
    "best_features = SelectKBest(f_classif, k=\"all\").fit(X,y)"
   ]
  },
  {
   "cell_type": "code",
   "execution_count": 9,
   "id": "coordinated-council",
   "metadata": {},
   "outputs": [
    {
     "data": {
      "text/plain": [
       "Accelerometer X     660.982425\n",
       "Accelerometer Y    3279.608722\n",
       "Accelerometer Z    9561.485042\n",
       "time_int           1276.379056\n",
       "dtype: float64"
      ]
     },
     "execution_count": 9,
     "metadata": {},
     "output_type": "execute_result"
    }
   ],
   "source": [
    "features_results = pd.Series(best_features.scores_)\n",
    "features_results.index = float_variables + [\"time_int\"]\n",
    "features_results"
   ]
  },
  {
   "cell_type": "code",
   "execution_count": 10,
   "id": "pacific-rhythm",
   "metadata": {},
   "outputs": [],
   "source": [
    "activity_vars = [\"primary_behavior\", \"primary_posture\", \"primary_upperbody\", \"primary_intensity\", \n",
    "                 \"secondary_behavior\", \"secondary_posture\", \"secondary_upperbody\", \"secondary_intensity\",\n",
    "                 \"num_postures\", \"transition\", \"type\", \"broad_activity\", \"detailed_activity\", \"act_type\", \"act_type_broad\"]\n",
    "\n",
    "X_vars = [\"Accelerometer X\", \"Accelerometer Y\", \"Accelerometer Z\", \"time_int\"]\n",
    "y_var = \"broad_activity\""
   ]
  },
  {
   "cell_type": "code",
   "execution_count": 11,
   "id": "floating-faculty",
   "metadata": {},
   "outputs": [],
   "source": [
    "def cv_split(X, y, num_splits=4):\n",
    "    n = len(X)\n",
    "    X_trains, X_tests, y_trains, y_tests = [], [], [], []\n",
    "    \n",
    "    for i in range(num_splits):\n",
    "        current_range = list(range(n*i//num_splits, n*(i+1)//num_splits))\n",
    "        \n",
    "        X_train = X.drop(current_range, axis=0)\n",
    "        X_test = X.iloc[current_range]\n",
    "        y_train = y.drop(current_range)\n",
    "        y_test = y.iloc[current_range]\n",
    "        \n",
    "        X_trains.append(X_train)\n",
    "        X_tests.append(X_test)\n",
    "        y_trains.append(y_train)\n",
    "        y_tests.append(y_test)\n",
    "        \n",
    "    return (X_trains, X_tests, y_trains, y_tests)"
   ]
  },
  {
   "cell_type": "code",
   "execution_count": 12,
   "id": "apart-degree",
   "metadata": {},
   "outputs": [],
   "source": [
    "train_test_dict = {}\n",
    "\n",
    "dfs = [#df_wrist, df_hip, \n",
    "       df_chest, df_thigh]\n",
    "\n",
    "bodyparts = [#\"wrist\", \"hip\",\n",
    "             \"chest\", \"thigh\"]\n",
    "\n",
    "for i in range(len(dfs)):\n",
    "    df = dfs[i]\n",
    "    bodypart = bodyparts[i]\n",
    "    \n",
    "    X = df[X_vars]\n",
    "    y = df[y_var]\n",
    "    \n",
    "    X_trains, X_tests, y_trains, y_tests = cv_split(X, y)\n",
    "    \n",
    "    train_test_dict[bodypart] = {}\n",
    "    \n",
    "    train_test_dict[bodypart][\"X_trains\"] = X_trains\n",
    "    train_test_dict[bodypart][\"X_tests\"] = X_tests\n",
    "    train_test_dict[bodypart][\"y_trains\"] = y_trains\n",
    "    train_test_dict[bodypart][\"y_tests\"] = y_tests"
   ]
  },
  {
   "cell_type": "code",
   "execution_count": 13,
   "id": "extraordinary-congress",
   "metadata": {},
   "outputs": [
    {
     "name": "stdout",
     "output_type": "stream",
     "text": [
      "353710\n",
      "351279\n"
     ]
    }
   ],
   "source": [
    "print(len(df_chest))\n",
    "print(len(df_thigh))"
   ]
  },
  {
   "cell_type": "code",
   "execution_count": 14,
   "id": "cutting-point",
   "metadata": {},
   "outputs": [
    {
     "data": {
      "text/html": [
       "<div>\n",
       "<style scoped>\n",
       "    .dataframe tbody tr th:only-of-type {\n",
       "        vertical-align: middle;\n",
       "    }\n",
       "\n",
       "    .dataframe tbody tr th {\n",
       "        vertical-align: top;\n",
       "    }\n",
       "\n",
       "    .dataframe thead th {\n",
       "        text-align: right;\n",
       "    }\n",
       "</style>\n",
       "<table border=\"1\" class=\"dataframe\">\n",
       "  <thead>\n",
       "    <tr style=\"text-align: right;\">\n",
       "      <th></th>\n",
       "      <th>Accelerometer X</th>\n",
       "      <th>Accelerometer Y</th>\n",
       "      <th>Accelerometer Z</th>\n",
       "      <th>time_int</th>\n",
       "    </tr>\n",
       "  </thead>\n",
       "  <tbody>\n",
       "    <tr>\n",
       "      <th>88427</th>\n",
       "      <td>-0.179619</td>\n",
       "      <td>0.986887</td>\n",
       "      <td>0.113732</td>\n",
       "      <td>18446380</td>\n",
       "    </tr>\n",
       "    <tr>\n",
       "      <th>88428</th>\n",
       "      <td>-0.164073</td>\n",
       "      <td>0.989076</td>\n",
       "      <td>0.097650</td>\n",
       "      <td>18446381</td>\n",
       "    </tr>\n",
       "    <tr>\n",
       "      <th>88429</th>\n",
       "      <td>-0.124584</td>\n",
       "      <td>0.990998</td>\n",
       "      <td>0.135610</td>\n",
       "      <td>18446382</td>\n",
       "    </tr>\n",
       "    <tr>\n",
       "      <th>88430</th>\n",
       "      <td>-0.002103</td>\n",
       "      <td>0.997960</td>\n",
       "      <td>0.134051</td>\n",
       "      <td>18446383</td>\n",
       "    </tr>\n",
       "    <tr>\n",
       "      <th>88431</th>\n",
       "      <td>0.042394</td>\n",
       "      <td>0.995566</td>\n",
       "      <td>0.143470</td>\n",
       "      <td>18446384</td>\n",
       "    </tr>\n",
       "  </tbody>\n",
       "</table>\n",
       "</div>"
      ],
      "text/plain": [
       "       Accelerometer X  Accelerometer Y  Accelerometer Z  time_int\n",
       "88427        -0.179619         0.986887         0.113732  18446380\n",
       "88428        -0.164073         0.989076         0.097650  18446381\n",
       "88429        -0.124584         0.990998         0.135610  18446382\n",
       "88430        -0.002103         0.997960         0.134051  18446383\n",
       "88431         0.042394         0.995566         0.143470  18446384"
      ]
     },
     "metadata": {},
     "output_type": "display_data"
    },
    {
     "data": {
      "text/html": [
       "<div>\n",
       "<style scoped>\n",
       "    .dataframe tbody tr th:only-of-type {\n",
       "        vertical-align: middle;\n",
       "    }\n",
       "\n",
       "    .dataframe tbody tr th {\n",
       "        vertical-align: top;\n",
       "    }\n",
       "\n",
       "    .dataframe thead th {\n",
       "        text-align: right;\n",
       "    }\n",
       "</style>\n",
       "<table border=\"1\" class=\"dataframe\">\n",
       "  <thead>\n",
       "    <tr style=\"text-align: right;\">\n",
       "      <th></th>\n",
       "      <th>Accelerometer X</th>\n",
       "      <th>Accelerometer Y</th>\n",
       "      <th>Accelerometer Z</th>\n",
       "      <th>time_int</th>\n",
       "    </tr>\n",
       "  </thead>\n",
       "  <tbody>\n",
       "    <tr>\n",
       "      <th>0</th>\n",
       "      <td>0.067628</td>\n",
       "      <td>0.870894</td>\n",
       "      <td>0.493904</td>\n",
       "      <td>23823885</td>\n",
       "    </tr>\n",
       "    <tr>\n",
       "      <th>1</th>\n",
       "      <td>0.010120</td>\n",
       "      <td>0.876218</td>\n",
       "      <td>0.485257</td>\n",
       "      <td>23823886</td>\n",
       "    </tr>\n",
       "    <tr>\n",
       "      <th>2</th>\n",
       "      <td>0.027951</td>\n",
       "      <td>0.922685</td>\n",
       "      <td>0.398483</td>\n",
       "      <td>23823887</td>\n",
       "    </tr>\n",
       "    <tr>\n",
       "      <th>3</th>\n",
       "      <td>0.026076</td>\n",
       "      <td>0.905878</td>\n",
       "      <td>0.429324</td>\n",
       "      <td>23823888</td>\n",
       "    </tr>\n",
       "    <tr>\n",
       "      <th>4</th>\n",
       "      <td>0.061737</td>\n",
       "      <td>0.872926</td>\n",
       "      <td>0.485052</td>\n",
       "      <td>23823889</td>\n",
       "    </tr>\n",
       "  </tbody>\n",
       "</table>\n",
       "</div>"
      ],
      "text/plain": [
       "   Accelerometer X  Accelerometer Y  Accelerometer Z  time_int\n",
       "0         0.067628         0.870894         0.493904  23823885\n",
       "1         0.010120         0.876218         0.485257  23823886\n",
       "2         0.027951         0.922685         0.398483  23823887\n",
       "3         0.026076         0.905878         0.429324  23823888\n",
       "4         0.061737         0.872926         0.485052  23823889"
      ]
     },
     "metadata": {},
     "output_type": "display_data"
    },
    {
     "data": {
      "text/plain": [
       "88427    sit/stand\n",
       "88428    sit/stand\n",
       "88429    sit/stand\n",
       "88430    sit/stand\n",
       "88431    sit/stand\n",
       "Name: broad_activity, dtype: object"
      ]
     },
     "metadata": {},
     "output_type": "display_data"
    },
    {
     "data": {
      "text/plain": [
       "0    sit/stand\n",
       "1    sit/stand\n",
       "2    sit/stand\n",
       "3    sit/stand\n",
       "4    sit/stand\n",
       "Name: broad_activity, dtype: object"
      ]
     },
     "metadata": {},
     "output_type": "display_data"
    }
   ],
   "source": [
    "display(train_test_dict[\"chest\"][\"X_trains\"][0].head())\n",
    "display(train_test_dict[\"chest\"][\"X_tests\"][0].head())\n",
    "display(train_test_dict[\"chest\"][\"y_trains\"][0].head())\n",
    "display(train_test_dict[\"chest\"][\"y_tests\"][0].head())"
   ]
  },
  {
   "cell_type": "code",
   "execution_count": 15,
   "id": "daily-burning",
   "metadata": {},
   "outputs": [
    {
     "data": {
      "text/html": [
       "<div>\n",
       "<style scoped>\n",
       "    .dataframe tbody tr th:only-of-type {\n",
       "        vertical-align: middle;\n",
       "    }\n",
       "\n",
       "    .dataframe tbody tr th {\n",
       "        vertical-align: top;\n",
       "    }\n",
       "\n",
       "    .dataframe thead th {\n",
       "        text-align: right;\n",
       "    }\n",
       "</style>\n",
       "<table border=\"1\" class=\"dataframe\">\n",
       "  <thead>\n",
       "    <tr style=\"text-align: right;\">\n",
       "      <th></th>\n",
       "      <th>Accelerometer X</th>\n",
       "      <th>Accelerometer Y</th>\n",
       "      <th>Accelerometer Z</th>\n",
       "      <th>time_int</th>\n",
       "    </tr>\n",
       "  </thead>\n",
       "  <tbody>\n",
       "    <tr>\n",
       "      <th>0</th>\n",
       "      <td>-0.920621</td>\n",
       "      <td>-0.155646</td>\n",
       "      <td>-0.318593</td>\n",
       "      <td>23823885</td>\n",
       "    </tr>\n",
       "    <tr>\n",
       "      <th>1</th>\n",
       "      <td>-0.928607</td>\n",
       "      <td>-0.150999</td>\n",
       "      <td>-0.310559</td>\n",
       "      <td>23823886</td>\n",
       "    </tr>\n",
       "    <tr>\n",
       "      <th>2</th>\n",
       "      <td>-0.962693</td>\n",
       "      <td>-0.028313</td>\n",
       "      <td>-0.205231</td>\n",
       "      <td>23823887</td>\n",
       "    </tr>\n",
       "    <tr>\n",
       "      <th>3</th>\n",
       "      <td>-0.967954</td>\n",
       "      <td>-0.025304</td>\n",
       "      <td>-0.199450</td>\n",
       "      <td>23823888</td>\n",
       "    </tr>\n",
       "    <tr>\n",
       "      <th>4</th>\n",
       "      <td>-0.953352</td>\n",
       "      <td>-0.088372</td>\n",
       "      <td>-0.257887</td>\n",
       "      <td>23823889</td>\n",
       "    </tr>\n",
       "  </tbody>\n",
       "</table>\n",
       "</div>"
      ],
      "text/plain": [
       "   Accelerometer X  Accelerometer Y  Accelerometer Z  time_int\n",
       "0        -0.920621        -0.155646        -0.318593  23823885\n",
       "1        -0.928607        -0.150999        -0.310559  23823886\n",
       "2        -0.962693        -0.028313        -0.205231  23823887\n",
       "3        -0.967954        -0.025304        -0.199450  23823888\n",
       "4        -0.953352        -0.088372        -0.257887  23823889"
      ]
     },
     "metadata": {},
     "output_type": "display_data"
    },
    {
     "data": {
      "text/html": [
       "<div>\n",
       "<style scoped>\n",
       "    .dataframe tbody tr th:only-of-type {\n",
       "        vertical-align: middle;\n",
       "    }\n",
       "\n",
       "    .dataframe tbody tr th {\n",
       "        vertical-align: top;\n",
       "    }\n",
       "\n",
       "    .dataframe thead th {\n",
       "        text-align: right;\n",
       "    }\n",
       "</style>\n",
       "<table border=\"1\" class=\"dataframe\">\n",
       "  <thead>\n",
       "    <tr style=\"text-align: right;\">\n",
       "      <th></th>\n",
       "      <th>Accelerometer X</th>\n",
       "      <th>Accelerometer Y</th>\n",
       "      <th>Accelerometer Z</th>\n",
       "      <th>time_int</th>\n",
       "    </tr>\n",
       "  </thead>\n",
       "  <tbody>\n",
       "    <tr>\n",
       "      <th>175639</th>\n",
       "      <td>-0.090578</td>\n",
       "      <td>0.065754</td>\n",
       "      <td>1.009694</td>\n",
       "      <td>24660595</td>\n",
       "    </tr>\n",
       "    <tr>\n",
       "      <th>175640</th>\n",
       "      <td>-0.110487</td>\n",
       "      <td>0.066195</td>\n",
       "      <td>1.004670</td>\n",
       "      <td>24660596</td>\n",
       "    </tr>\n",
       "    <tr>\n",
       "      <th>175641</th>\n",
       "      <td>-0.033857</td>\n",
       "      <td>0.060414</td>\n",
       "      <td>1.013868</td>\n",
       "      <td>24660597</td>\n",
       "    </tr>\n",
       "    <tr>\n",
       "      <th>175642</th>\n",
       "      <td>-0.068053</td>\n",
       "      <td>0.047057</td>\n",
       "      <td>1.010435</td>\n",
       "      <td>24660598</td>\n",
       "    </tr>\n",
       "    <tr>\n",
       "      <th>175643</th>\n",
       "      <td>-0.056445</td>\n",
       "      <td>0.052570</td>\n",
       "      <td>1.006355</td>\n",
       "      <td>24660599</td>\n",
       "    </tr>\n",
       "  </tbody>\n",
       "</table>\n",
       "</div>"
      ],
      "text/plain": [
       "        Accelerometer X  Accelerometer Y  Accelerometer Z  time_int\n",
       "175639        -0.090578         0.065754         1.009694  24660595\n",
       "175640        -0.110487         0.066195         1.004670  24660596\n",
       "175641        -0.033857         0.060414         1.013868  24660597\n",
       "175642        -0.068053         0.047057         1.010435  24660598\n",
       "175643        -0.056445         0.052570         1.006355  24660599"
      ]
     },
     "metadata": {},
     "output_type": "display_data"
    },
    {
     "data": {
      "text/plain": [
       "0    sit/stand\n",
       "1    sit/stand\n",
       "2    sit/stand\n",
       "3    sit/stand\n",
       "4    sit/stand\n",
       "Name: broad_activity, dtype: object"
      ]
     },
     "metadata": {},
     "output_type": "display_data"
    },
    {
     "data": {
      "text/plain": [
       "175639    sit/stand\n",
       "175640    sit/stand\n",
       "175641    sit/stand\n",
       "175642    sit/stand\n",
       "175643    sit/stand\n",
       "Name: broad_activity, dtype: object"
      ]
     },
     "metadata": {},
     "output_type": "display_data"
    }
   ],
   "source": [
    "display(train_test_dict[\"thigh\"][\"X_trains\"][2].head())\n",
    "display(train_test_dict[\"thigh\"][\"X_tests\"][2].head())\n",
    "display(train_test_dict[\"thigh\"][\"y_trains\"][2].head())\n",
    "display(train_test_dict[\"thigh\"][\"y_tests\"][2].head())"
   ]
  },
  {
   "cell_type": "code",
   "execution_count": 16,
   "id": "enclosed-cisco",
   "metadata": {},
   "outputs": [],
   "source": [
    "# Created a function to split with cross-validation in mind\n",
    "# Since time is a variable, I did not randomly assign indexes to train and test, but rather grouped them together"
   ]
  },
  {
   "cell_type": "code",
   "execution_count": 17,
   "id": "welsh-business",
   "metadata": {},
   "outputs": [],
   "source": [
    "# Any other explanatory features we should use besides the 4 above? All the others seem too closely related to activity\n",
    "# Are we going to try using different response variables? There are so many activity variables we could try several"
   ]
  },
  {
   "cell_type": "code",
   "execution_count": 18,
   "id": "desperate-alert",
   "metadata": {},
   "outputs": [],
   "source": [
    "from hmmlearn import hmm"
   ]
  },
  {
   "cell_type": "code",
   "execution_count": 19,
   "id": "seven-dinner",
   "metadata": {},
   "outputs": [],
   "source": [
    "# First runthrough\n",
    "\n",
    "#time will have to be made into int or float variable\n",
    "X = df_chest[X_vars]\n",
    "y = df_chest[y_var]\n",
    "states = list(y.unique())\n",
    "\n",
    "hm_model = hmm.GaussianHMM(n_components = len(states))\n",
    "\n",
    "\n",
    "hm_model.fit(X)\n",
    "predictions = hm_model.predict(X)"
   ]
  },
  {
   "cell_type": "code",
   "execution_count": 20,
   "id": "caroline-friendly",
   "metadata": {},
   "outputs": [
    {
     "data": {
      "text/plain": [
       "['sit/stand', 'mixed-activity', 'walking', 'vehicle', 'bicycling']"
      ]
     },
     "execution_count": 20,
     "metadata": {},
     "output_type": "execute_result"
    }
   ],
   "source": [
    "states"
   ]
  },
  {
   "cell_type": "code",
   "execution_count": 21,
   "id": "entertaining-fourth",
   "metadata": {},
   "outputs": [],
   "source": [
    "def print_highest_accuracy(pred, y):\n",
    "    num_list = []\n",
    "    for state in y.unique():\n",
    "        subset = y[y == state]\n",
    "        indexes = list(subset.index)\n",
    "        \n",
    "        numbers = pred.iloc[indexes].value_counts()\n",
    "\n",
    "        for i in range(len(states)):\n",
    "            if i not in numbers.index:\n",
    "                numbers[i] = 0\n",
    "        \n",
    "        numbers.sort_index(inplace=True)\n",
    "        \n",
    "        print(\"State:\", state)\n",
    "        print(pd.Series(numbers))\n",
    "        print(\"\\n\")\n",
    "        \n",
    "        num_list.append(list(numbers))\n",
    "\n",
    "    return highest_accuracy(num_list)\n",
    "\n",
    "#With n as number of states:\n",
    "# O(n!) -- incredibly inefficient\n",
    "def highest_accuracy(numbers):\n",
    "    n = len(numbers)\n",
    "    \n",
    "#     highest_count, best_sequence = correct_count(numbers, [], 0)\n",
    "    highest_count, best_sequence = lazy_correct_count(numbers)\n",
    "    \n",
    "    return highest_count, best_sequence\n",
    "    \n",
    "# def correct_count(numbers, illegal_nums, count):\n",
    "#     n = len(numbers)\n",
    "#     results = {}\n",
    "    \n",
    "#     #state\n",
    "#     for i in range(n):\n",
    "#         if i not in illegal_nums:\n",
    "#         #numbers\n",
    "#             for j in range(n):\n",
    "#                 print(i, j)\n",
    "#                 count += numbers[i][j]\n",
    "#                 print(count)\n",
    "#                 illegal_nums.append(i)\n",
    "\n",
    "#                 if len(illegal_nums) == n:\n",
    "#                     sequence = \"\"\n",
    "#                     for number in illegal_nums:\n",
    "#                         sequence = sequence + str(number)\n",
    "#                     results[sequence] = count\n",
    "#                 else:\n",
    "#                     correct_count(numbers, illegal_nums, count)\n",
    "#     return results\n",
    "\n",
    "def lazy_correct_count(numbers):\n",
    "    results = {}\n",
    "    n = len(numbers)\n",
    "    \n",
    "    for a in range(n):\n",
    "        a_count = numbers[0][a]\n",
    "        \n",
    "        for b in range(n):\n",
    "            if b == a:\n",
    "                continue\n",
    "                \n",
    "            b_count = a_count + numbers[1][b]\n",
    "            \n",
    "            for c in range(n):\n",
    "                if c in [a,b]:\n",
    "                    continue\n",
    "                    \n",
    "                c_count = b_count + numbers[2][c]\n",
    "                \n",
    "                for d in range(n):\n",
    "                    if d in [a,b,c]:\n",
    "                        continue\n",
    "                        \n",
    "                    d_count = c_count + numbers[3][d]\n",
    "                                        \n",
    "                    for e in range(n):\n",
    "                        if e in [a,b,c,d]:\n",
    "                            continue\n",
    "\n",
    "                        e_count = d_count + numbers[4][e]\n",
    "                        results[e_count] = [a,b,c,d,e]\n",
    "    \n",
    "    highest_count = max(results.keys())\n",
    "    best_sequence = results[highest_count]\n",
    "    return highest_count, best_sequence"
   ]
  },
  {
   "cell_type": "code",
   "execution_count": 22,
   "id": "material-switch",
   "metadata": {},
   "outputs": [
    {
     "name": "stdout",
     "output_type": "stream",
     "text": [
      "State: sit/stand\n",
      "0    28463\n",
      "1    64792\n",
      "2    40973\n",
      "3    44858\n",
      "4    73052\n",
      "dtype: int64\n",
      "\n",
      "\n",
      "State: mixed-activity\n",
      "0    1226\n",
      "1    7496\n",
      "2    7455\n",
      "3    5462\n",
      "4    7056\n",
      "dtype: int64\n",
      "\n",
      "\n",
      "State: walking\n",
      "0     2812\n",
      "1     2154\n",
      "2    16148\n",
      "3    15510\n",
      "4    17782\n",
      "dtype: int64\n",
      "\n",
      "\n",
      "State: vehicle\n",
      "0    3041\n",
      "1     144\n",
      "2    4323\n",
      "3    3416\n",
      "4    1373\n",
      "dtype: int64\n",
      "\n",
      "\n",
      "State: bicycling\n",
      "0       0\n",
      "1       4\n",
      "2     670\n",
      "3    5500\n",
      "4       0\n",
      "dtype: int64\n",
      "\n",
      "\n"
     ]
    },
    {
     "data": {
      "text/plain": [
       "[4, 1, 2, 0, 3]"
      ]
     },
     "execution_count": 22,
     "metadata": {},
     "output_type": "execute_result"
    }
   ],
   "source": [
    "highest_count, best_sequence = print_highest_accuracy(pd.Series(predictions), y)\n",
    "best_sequence"
   ]
  },
  {
   "cell_type": "code",
   "execution_count": 23,
   "id": "cathedral-travel",
   "metadata": {},
   "outputs": [
    {
     "data": {
      "text/plain": [
       "105237"
      ]
     },
     "execution_count": 23,
     "metadata": {},
     "output_type": "execute_result"
    }
   ],
   "source": [
    "highest_count"
   ]
  },
  {
   "cell_type": "code",
   "execution_count": 24,
   "id": "north-beauty",
   "metadata": {},
   "outputs": [],
   "source": [
    "def assign_hidden_states(val, states, results):\n",
    "    for i in range(len(states)):\n",
    "        if val == results[i]:\n",
    "            return states[i]\n",
    "\n",
    "y_pred = pd.Series(predictions).apply(lambda x: assign_hidden_states(x, states, best_sequence))"
   ]
  },
  {
   "cell_type": "code",
   "execution_count": 25,
   "id": "opened-saudi",
   "metadata": {},
   "outputs": [
    {
     "name": "stdout",
     "output_type": "stream",
     "text": [
      "Accuracy: 29.752339487150493%\n"
     ]
    }
   ],
   "source": [
    "correct = y_pred == y\n",
    "print(\"Accuracy: \" + str(sum(correct)/len(y)*100) + \"%\")"
   ]
  },
  {
   "cell_type": "code",
   "execution_count": 26,
   "id": "nearby-means",
   "metadata": {},
   "outputs": [
    {
     "data": {
      "text/plain": [
       "True"
      ]
     },
     "execution_count": 26,
     "metadata": {},
     "output_type": "execute_result"
    }
   ],
   "source": [
    "sum(correct) == highest_count"
   ]
  },
  {
   "cell_type": "code",
   "execution_count": 27,
   "id": "nuclear-composer",
   "metadata": {},
   "outputs": [
    {
     "data": {
      "text/plain": [
       "sit/stand         252138\n",
       "walking            54406\n",
       "mixed-activity     28695\n",
       "vehicle            12297\n",
       "bicycling           6174\n",
       "Name: broad_activity, dtype: int64"
      ]
     },
     "metadata": {},
     "output_type": "display_data"
    },
    {
     "data": {
      "text/plain": [
       "sit/stand         73052\n",
       "walking           16148\n",
       "mixed-activity     7496\n",
       "bicycling          5500\n",
       "vehicle            3041\n",
       "Name: broad_activity, dtype: int64"
      ]
     },
     "metadata": {},
     "output_type": "display_data"
    }
   ],
   "source": [
    "display(y.value_counts())\n",
    "display(y[correct].value_counts())"
   ]
  }
 ],
 "metadata": {
  "kernelspec": {
   "display_name": "Python 3",
   "language": "python",
   "name": "python3"
  },
  "language_info": {
   "codemirror_mode": {
    "name": "ipython",
    "version": 3
   },
   "file_extension": ".py",
   "mimetype": "text/x-python",
   "name": "python",
   "nbconvert_exporter": "python",
   "pygments_lexer": "ipython3",
   "version": "3.7.4"
  }
 },
 "nbformat": 4,
 "nbformat_minor": 5
}
