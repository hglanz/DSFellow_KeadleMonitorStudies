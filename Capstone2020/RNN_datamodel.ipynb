{
 "cells": [
  {
   "cell_type": "code",
   "execution_count": 1,
   "metadata": {},
   "outputs": [
    {
     "name": "stderr",
     "output_type": "stream",
     "text": [
      "Using TensorFlow backend.\n",
      "/home/sasthana/.local/lib/python3.6/site-packages/tensorflow/python/framework/dtypes.py:516: FutureWarning: Passing (type, 1) or '1type' as a synonym of type is deprecated; in a future version of numpy, it will be understood as (type, (1,)) / '(1,)type'.\n",
      "  _np_qint8 = np.dtype([(\"qint8\", np.int8, 1)])\n",
      "/home/sasthana/.local/lib/python3.6/site-packages/tensorflow/python/framework/dtypes.py:517: FutureWarning: Passing (type, 1) or '1type' as a synonym of type is deprecated; in a future version of numpy, it will be understood as (type, (1,)) / '(1,)type'.\n",
      "  _np_quint8 = np.dtype([(\"quint8\", np.uint8, 1)])\n",
      "/home/sasthana/.local/lib/python3.6/site-packages/tensorflow/python/framework/dtypes.py:518: FutureWarning: Passing (type, 1) or '1type' as a synonym of type is deprecated; in a future version of numpy, it will be understood as (type, (1,)) / '(1,)type'.\n",
      "  _np_qint16 = np.dtype([(\"qint16\", np.int16, 1)])\n",
      "/home/sasthana/.local/lib/python3.6/site-packages/tensorflow/python/framework/dtypes.py:519: FutureWarning: Passing (type, 1) or '1type' as a synonym of type is deprecated; in a future version of numpy, it will be understood as (type, (1,)) / '(1,)type'.\n",
      "  _np_quint16 = np.dtype([(\"quint16\", np.uint16, 1)])\n",
      "/home/sasthana/.local/lib/python3.6/site-packages/tensorflow/python/framework/dtypes.py:520: FutureWarning: Passing (type, 1) or '1type' as a synonym of type is deprecated; in a future version of numpy, it will be understood as (type, (1,)) / '(1,)type'.\n",
      "  _np_qint32 = np.dtype([(\"qint32\", np.int32, 1)])\n",
      "/home/sasthana/.local/lib/python3.6/site-packages/tensorflow/python/framework/dtypes.py:525: FutureWarning: Passing (type, 1) or '1type' as a synonym of type is deprecated; in a future version of numpy, it will be understood as (type, (1,)) / '(1,)type'.\n",
      "  np_resource = np.dtype([(\"resource\", np.ubyte, 1)])\n",
      "/home/sasthana/.local/lib/python3.6/site-packages/tensorboard/compat/tensorflow_stub/dtypes.py:541: FutureWarning: Passing (type, 1) or '1type' as a synonym of type is deprecated; in a future version of numpy, it will be understood as (type, (1,)) / '(1,)type'.\n",
      "  _np_qint8 = np.dtype([(\"qint8\", np.int8, 1)])\n",
      "/home/sasthana/.local/lib/python3.6/site-packages/tensorboard/compat/tensorflow_stub/dtypes.py:542: FutureWarning: Passing (type, 1) or '1type' as a synonym of type is deprecated; in a future version of numpy, it will be understood as (type, (1,)) / '(1,)type'.\n",
      "  _np_quint8 = np.dtype([(\"quint8\", np.uint8, 1)])\n",
      "/home/sasthana/.local/lib/python3.6/site-packages/tensorboard/compat/tensorflow_stub/dtypes.py:543: FutureWarning: Passing (type, 1) or '1type' as a synonym of type is deprecated; in a future version of numpy, it will be understood as (type, (1,)) / '(1,)type'.\n",
      "  _np_qint16 = np.dtype([(\"qint16\", np.int16, 1)])\n",
      "/home/sasthana/.local/lib/python3.6/site-packages/tensorboard/compat/tensorflow_stub/dtypes.py:544: FutureWarning: Passing (type, 1) or '1type' as a synonym of type is deprecated; in a future version of numpy, it will be understood as (type, (1,)) / '(1,)type'.\n",
      "  _np_quint16 = np.dtype([(\"quint16\", np.uint16, 1)])\n",
      "/home/sasthana/.local/lib/python3.6/site-packages/tensorboard/compat/tensorflow_stub/dtypes.py:545: FutureWarning: Passing (type, 1) or '1type' as a synonym of type is deprecated; in a future version of numpy, it will be understood as (type, (1,)) / '(1,)type'.\n",
      "  _np_qint32 = np.dtype([(\"qint32\", np.int32, 1)])\n",
      "/home/sasthana/.local/lib/python3.6/site-packages/tensorboard/compat/tensorflow_stub/dtypes.py:550: FutureWarning: Passing (type, 1) or '1type' as a synonym of type is deprecated; in a future version of numpy, it will be understood as (type, (1,)) / '(1,)type'.\n",
      "  np_resource = np.dtype([(\"resource\", np.ubyte, 1)])\n"
     ]
    }
   ],
   "source": [
    "import pandas as pd\n",
    "import numpy as np\n",
    "from collections import Counter\n",
    "from sklearn.model_selection import train_test_split\n",
    "import keras\n",
    "import tensorflow as tf\n",
    "from keras import layers\n",
    "from keras.layers import Dropout\n",
    "from scipy import stats\n",
    "from sklearn.metrics import confusion_matrix\n",
    "import matplotlib.pyplot as plt\n",
    "import seaborn as sns\n",
    "from keras.models import Sequential\n",
    "from keras.layers import LSTM\n",
    "from keras.layers import Dense\n",
    "from keras.layers import Flatten\n",
    "from keras.layers import TimeDistributed\n",
    "from keras.layers.convolutional import Conv1D\n",
    "from keras.layers.convolutional import MaxPooling1D"
   ]
  },
  {
   "cell_type": "code",
   "execution_count": 1,
   "metadata": {},
   "outputs": [
    {
     "ename": "NameError",
     "evalue": "name 'pd' is not defined",
     "output_type": "error",
     "traceback": [
      "\u001b[0;31m---------------------------------------------------------------------------\u001b[0m",
      "\u001b[0;31mNameError\u001b[0m                                 Traceback (most recent call last)",
      "\u001b[0;32m<ipython-input-1-f1e744ee623c>\u001b[0m in \u001b[0;36m<module>\u001b[0;34m\u001b[0m\n\u001b[1;32m      1\u001b[0m \u001b[0mpath\u001b[0m \u001b[0;34m=\u001b[0m \u001b[0;34m\"../../../mnt/storage/Datasets/final_data/\"\u001b[0m\u001b[0;34m\u001b[0m\u001b[0;34m\u001b[0m\u001b[0m\n\u001b[0;32m----> 2\u001b[0;31m \u001b[0mhip\u001b[0m \u001b[0;34m=\u001b[0m \u001b[0mpd\u001b[0m\u001b[0;34m.\u001b[0m\u001b[0mread_csv\u001b[0m\u001b[0;34m(\u001b[0m\u001b[0mpath\u001b[0m\u001b[0;34m+\u001b[0m\u001b[0;34m\"Hip.csv\"\u001b[0m\u001b[0;34m,\u001b[0m \u001b[0mlow_memory\u001b[0m \u001b[0;34m=\u001b[0m \u001b[0;32mFalse\u001b[0m\u001b[0;34m)\u001b[0m\u001b[0;34m\u001b[0m\u001b[0;34m\u001b[0m\u001b[0m\n\u001b[0m\u001b[1;32m      3\u001b[0m \u001b[0mwrist\u001b[0m \u001b[0;34m=\u001b[0m \u001b[0mpd\u001b[0m\u001b[0;34m.\u001b[0m\u001b[0mread_csv\u001b[0m\u001b[0;34m(\u001b[0m\u001b[0mpath\u001b[0m\u001b[0;34m+\u001b[0m\u001b[0;34m\"Wrist.csv\"\u001b[0m\u001b[0;34m,\u001b[0m \u001b[0mlow_memory\u001b[0m \u001b[0;34m=\u001b[0m \u001b[0;32mFalse\u001b[0m\u001b[0;34m)\u001b[0m\u001b[0;34m\u001b[0m\u001b[0;34m\u001b[0m\u001b[0m\n\u001b[1;32m      4\u001b[0m \u001b[0mthigh\u001b[0m \u001b[0;34m=\u001b[0m \u001b[0mpd\u001b[0m\u001b[0;34m.\u001b[0m\u001b[0mread_csv\u001b[0m\u001b[0;34m(\u001b[0m\u001b[0mpath\u001b[0m\u001b[0;34m+\u001b[0m\u001b[0;34m\"Thigh.csv\"\u001b[0m\u001b[0;34m,\u001b[0m \u001b[0mlow_memory\u001b[0m \u001b[0;34m=\u001b[0m \u001b[0;32mFalse\u001b[0m\u001b[0;34m)\u001b[0m\u001b[0;34m\u001b[0m\u001b[0;34m\u001b[0m\u001b[0m\n\u001b[1;32m      5\u001b[0m \u001b[0mchest\u001b[0m \u001b[0;34m=\u001b[0m \u001b[0mpd\u001b[0m\u001b[0;34m.\u001b[0m\u001b[0mread_csv\u001b[0m\u001b[0;34m(\u001b[0m\u001b[0mpath\u001b[0m\u001b[0;34m+\u001b[0m\u001b[0;34m\"Chest.csv\"\u001b[0m\u001b[0;34m,\u001b[0m \u001b[0mlow_memory\u001b[0m\u001b[0;34m=\u001b[0m\u001b[0;32mFalse\u001b[0m\u001b[0;34m)\u001b[0m\u001b[0;34m\u001b[0m\u001b[0;34m\u001b[0m\u001b[0m\n",
      "\u001b[0;31mNameError\u001b[0m: name 'pd' is not defined"
     ]
    }
   ],
   "source": [
    "path = \"../../../mnt/storage/Datasets/final_data/\"\n",
    "hip = pd.read_csv(path+\"Hip.csv\", low_memory = False)\n",
    "wrist = pd.read_csv(path+\"Wrist.csv\", low_memory = False)\n",
    "thigh = pd.read_csv(path+\"Thigh.csv\", low_memory = False)\n",
    "chest = pd.read_csv(path+\"Chest.csv\", low_memory=False)"
   ]
  },
  {
   "cell_type": "markdown",
   "metadata": {},
   "source": [
    "To process the data in the correct shape for RNN, we will group the data into sequential time intervals. So the input for the model will be a 3-d array with each subarray representing a sequence of n seconds."
   ]
  },
  {
   "cell_type": "code",
   "execution_count": 10,
   "metadata": {},
   "outputs": [],
   "source": [
    "def clean_data(data, halved = False):\n",
    "    data.drop([col for col in data.columns if \"Unnamed\" in col], axis=1, inplace = True)\n",
    "    # Drop un-encoded data\n",
    "    data = data[data['updated_final_activity'] != 'private/not coded']\n",
    "    if not halved:\n",
    "        return data\n",
    "    else:\n",
    "        data_halved = data[data.updated_final_activity != 'sit/lie']\n",
    "        data2 = data[data.updated_final_activity == 'sit/lie'].sample(frac = 0.5)\n",
    "        data_halved = data_halved.append(data2)\n",
    "    return data_halved\n",
    "hip = clean_data(hip)\n",
    "wrist = clean_data(wrist)\n",
    "thigh = clean_data(thigh)\n",
    "chest = clean_data(chest)"
   ]
  },
  {
   "cell_type": "code",
   "execution_count": 11,
   "metadata": {},
   "outputs": [
    {
     "data": {
      "text/plain": [
       "((257300, 107), (257300, 107), (203912, 107), (271896, 107))"
      ]
     },
     "execution_count": 11,
     "metadata": {},
     "output_type": "execute_result"
    }
   ],
   "source": [
    "x_cols = pd.read_csv('columns.csv')\n",
    "x_cols = x_cols['0'].to_list()\n",
    "activities = wrist.updated_final_activity.unique()\n",
    "activities\n",
    "hip.shape, wrist.shape, thigh.shape, chest.shape"
   ]
  },
  {
   "cell_type": "code",
   "execution_count": 5,
   "metadata": {},
   "outputs": [],
   "source": [
    "def aggregate(data,step=135):\n",
    "    agged = []\n",
    "    agged_y = []\n",
    "    x_cols = pd.read_csv('columns.csv')\n",
    "    x_cols = x_cols['0'].to_list()\n",
    "    activities = data.updated_final_activity.unique()\n",
    "\n",
    "    X = np.array(data[x_cols])\n",
    "    Y = np.array(data.updated_final_activity)\n",
    "    Y = pd.get_dummies(Y).values\n",
    "    #print(X[-2:,])\n",
    "    X = np.concatenate((X,X[-2:,]), axis =0)\n",
    "    Y = np.concatenate((Y,Y[-2:,]), axis =0)\n",
    "    #print(X[0:135,])\n",
    "    i=0\n",
    "    while i < len(data):\n",
    "        #print(i)\n",
    "        x = X[i:i+step,]\n",
    "        y = Y[i:i+step,]\n",
    "        #print(x.shape)\n",
    "        i+= step\n",
    "        agged.append(x)\n",
    "        agged_y.append(y)\n",
    "    agged = np.array(agged)\n",
    "    agged_y = np.array(agged_y)\n",
    "    return agged, agged_y"
   ]
  },
  {
   "cell_type": "code",
   "execution_count": 6,
   "metadata": {},
   "outputs": [
    {
     "data": {
      "text/plain": [
       "((1511,), (1906,), (2015,))"
      ]
     },
     "execution_count": 6,
     "metadata": {},
     "output_type": "execute_result"
    }
   ],
   "source": [
    "aggregate(thigh)[0].shape, aggregate(hip)[0].shape, aggregate(chest)[0].shape"
   ]
  },
  {
   "cell_type": "code",
   "execution_count": 7,
   "metadata": {},
   "outputs": [],
   "source": [
    "# def reshape(agged,agged_y):\n",
    "#     X_data = []\n",
    "#     Y_data = []\n",
    "#     for i in range(5):\n",
    "#         x = agged[i]\n",
    "#         y = agged_y[i]\n",
    "#         num_rows = 167687- len(x)\n",
    "#         if num_rows == 0:\n",
    "#             X_data.append(x)\n",
    "#             Y_data.append(y)\n",
    "#             continue\n",
    "\n",
    "#         sample = x[np.random.choice(x.shape[0], num_rows, replace=True)]\n",
    "#         sd = np.std(sample, axis = 0)\n",
    "#         mean = np.mean(sample,axis = 0)\n",
    "#         sample = np.array([mean - x + np.random.normal()*sd/2 for x in sample])\n",
    "#         #print(np.mean(sample,axis = 0))\n",
    "#         sample_y = y[np.random.choice(y.shape[0], num_rows, replace=True)]\n",
    "#         #print(sample.shape, x.shape)\n",
    "#         #print(num_rows,len(x[np.random.choice(x.shape[0], num_rows, replace=True)]))\n",
    "#         true_x = np.concatenate((x,sample),axis = 0)\n",
    "#         true_y = np.concatenate((y,sample_y), axis = 0)\n",
    "#         X_data.append(true_x)\n",
    "#         Y_data.append(true_y)\n",
    "#     X_data = np.array(X_data)\n",
    "#     Y_data = np.array(Y_data)\n",
    "#     return X_data, Y_data"
   ]
  },
  {
   "cell_type": "markdown",
   "metadata": {},
   "source": [
    "This block runs the RNN on wrist with 2 LSTM layers and the data split into 45 second sequences and is run over 20 epochs."
   ]
  },
  {
   "cell_type": "code",
   "execution_count": 35,
   "metadata": {},
   "outputs": [
    {
     "name": "stdout",
     "output_type": "stream",
     "text": [
      "Model: \"sequential_14\"\n",
      "_________________________________________________________________\n",
      "Layer (type)                 Output Shape              Param #   \n",
      "=================================================================\n",
      "lstm_18 (LSTM)               (None, 45, 128)           108544    \n",
      "_________________________________________________________________\n",
      "lstm_19 (LSTM)               (None, 45, 64)            49408     \n",
      "_________________________________________________________________\n",
      "dropout_9 (Dropout)          (None, 45, 64)            0         \n",
      "_________________________________________________________________\n",
      "lstm_20 (LSTM)               (None, 45, 32)            12416     \n",
      "_________________________________________________________________\n",
      "dense_55 (Dense)             (None, 45, 256)           8448      \n",
      "_________________________________________________________________\n",
      "dense_56 (Dense)             (None, 45, 128)           32896     \n",
      "_________________________________________________________________\n",
      "dropout_10 (Dropout)         (None, 45, 128)           0         \n",
      "_________________________________________________________________\n",
      "dense_57 (Dense)             (None, 45, 64)            8256      \n",
      "_________________________________________________________________\n",
      "dense_58 (Dense)             (None, 45, 32)            2080      \n",
      "_________________________________________________________________\n",
      "dense_59 (Dense)             (None, 45, 5)             165       \n",
      "=================================================================\n",
      "Total params: 222,213\n",
      "Trainable params: 222,213\n",
      "Non-trainable params: 0\n",
      "_________________________________________________________________\n",
      "None\n",
      "Epoch 1/20\n",
      "5685/5685 [==============================] - 15s 3ms/step - loss: 0.8632 - accuracy: 0.6217\n",
      "Epoch 2/20\n",
      "5685/5685 [==============================] - 14s 2ms/step - loss: 0.6558 - accuracy: 0.7255\n",
      "Epoch 3/20\n",
      "5685/5685 [==============================] - 14s 2ms/step - loss: 0.6029 - accuracy: 0.7524\n",
      "Epoch 4/20\n",
      "5685/5685 [==============================] - 14s 2ms/step - loss: 0.5857 - accuracy: 0.7599\n",
      "Epoch 5/20\n",
      "5685/5685 [==============================] - 14s 2ms/step - loss: 0.5507 - accuracy: 0.7730\n",
      "Epoch 6/20\n",
      "5685/5685 [==============================] - 14s 2ms/step - loss: 0.5371 - accuracy: 0.7809\n",
      "Epoch 7/20\n",
      "5685/5685 [==============================] - 14s 2ms/step - loss: 0.5266 - accuracy: 0.7852\n",
      "Epoch 8/20\n",
      "5685/5685 [==============================] - 14s 2ms/step - loss: 0.5090 - accuracy: 0.7938\n",
      "Epoch 9/20\n",
      "5685/5685 [==============================] - 14s 2ms/step - loss: 0.4902 - accuracy: 0.8033\n",
      "Epoch 10/20\n",
      "5685/5685 [==============================] - 14s 2ms/step - loss: 0.4805 - accuracy: 0.8034\n",
      "Epoch 11/20\n",
      "5685/5685 [==============================] - 14s 2ms/step - loss: 0.4727 - accuracy: 0.8092\n",
      "Epoch 12/20\n",
      "5685/5685 [==============================] - 14s 2ms/step - loss: 0.4595 - accuracy: 0.8122\n",
      "Epoch 13/20\n",
      "5685/5685 [==============================] - 14s 2ms/step - loss: 0.4531 - accuracy: 0.8159\n",
      "Epoch 14/20\n",
      "5685/5685 [==============================] - 14s 2ms/step - loss: 0.4371 - accuracy: 0.8237\n",
      "Epoch 15/20\n",
      "5685/5685 [==============================] - 13s 2ms/step - loss: 0.4303 - accuracy: 0.8299\n",
      "Epoch 16/20\n",
      "5685/5685 [==============================] - 14s 2ms/step - loss: 0.4219 - accuracy: 0.8316\n",
      "Epoch 17/20\n",
      "5685/5685 [==============================] - 14s 2ms/step - loss: 0.4140 - accuracy: 0.8350\n",
      "Epoch 18/20\n",
      "5685/5685 [==============================] - 14s 2ms/step - loss: 0.4044 - accuracy: 0.8377\n",
      "Epoch 19/20\n",
      "5685/5685 [==============================] - 14s 2ms/step - loss: 0.3985 - accuracy: 0.8404\n",
      "Epoch 20/20\n",
      "5685/5685 [==============================] - 14s 2ms/step - loss: 0.3885 - accuracy: 0.8436\n",
      "1896/1896 [==============================] - 2s 1ms/step\n"
     ]
    },
    {
     "data": {
      "text/plain": [
       "[0.5094038006625597, 0.7994139790534973]"
      ]
     },
     "execution_count": 35,
     "metadata": {},
     "output_type": "execute_result"
    }
   ],
   "source": [
    "from matplotlib import pyplot as plt\n",
    "from sklearn.model_selection import train_test_split\n",
    "x,y = aggregate(wrist,45)\n",
    "# x_train = x[:int(len(x)*0.7),]\n",
    "# x_test = x[int(len(x)*0.7):,]\n",
    "# y_train = y[:int(len(x)*0.7),]\n",
    "# y_test = y[int(len(x)*0.7):,]\n",
    "X_train, X_test, y_train, y_test = train_test_split(x,y)\n",
    "model = Sequential()\n",
    "model.add(LSTM(128,input_shape = (X_train.shape[1],X_train.shape[2]), return_sequences = True))\n",
    "#model.add(Dropout(0.5))\n",
    "model.add(LSTM(64, return_sequences = True))\n",
    "model.add(Dropout(0.2))\n",
    "model.add(LSTM(32, return_sequences = True))\n",
    "model.add(Dense(256, activation='relu'))\n",
    "model.add(Dense(128, activation='relu'))\n",
    "model.add(Dropout(0.2))\n",
    "model.add(Dense(64, activation='relu'))\n",
    "#model.add(Dropout(0.4))\n",
    "model.add(Dense(32, activation='relu'))\n",
    "model.add(Dense(5, activation='softmax'))\n",
    "\n",
    "model.compile(loss = 'categorical_crossentropy', optimizer='adam',metrics = ['accuracy'])\n",
    "print(model.summary())\n",
    "\n",
    "\n",
    "model.fit(X_train,y_train, epochs = 20, batch_size = 50)\n",
    "model.evaluate(X_test,y_test)"
   ]
  },
  {
   "cell_type": "markdown",
   "metadata": {},
   "source": [
    "This code block runs the RNN on hip with 2 LSTM layers with a timestep of 45 seconds and  20 epochs"
   ]
  },
  {
   "cell_type": "code",
   "execution_count": 36,
   "metadata": {},
   "outputs": [
    {
     "name": "stdout",
     "output_type": "stream",
     "text": [
      "Model: \"sequential_15\"\n",
      "_________________________________________________________________\n",
      "Layer (type)                 Output Shape              Param #   \n",
      "=================================================================\n",
      "lstm_21 (LSTM)               (None, 45, 128)           108544    \n",
      "_________________________________________________________________\n",
      "lstm_22 (LSTM)               (None, 45, 64)            49408     \n",
      "_________________________________________________________________\n",
      "dropout_11 (Dropout)         (None, 45, 64)            0         \n",
      "_________________________________________________________________\n",
      "lstm_23 (LSTM)               (None, 45, 32)            12416     \n",
      "_________________________________________________________________\n",
      "dense_60 (Dense)             (None, 45, 256)           8448      \n",
      "_________________________________________________________________\n",
      "dense_61 (Dense)             (None, 45, 128)           32896     \n",
      "_________________________________________________________________\n",
      "dropout_12 (Dropout)         (None, 45, 128)           0         \n",
      "_________________________________________________________________\n",
      "dense_62 (Dense)             (None, 45, 64)            8256      \n",
      "_________________________________________________________________\n",
      "dense_63 (Dense)             (None, 45, 32)            2080      \n",
      "_________________________________________________________________\n",
      "dense_64 (Dense)             (None, 45, 5)             165       \n",
      "=================================================================\n",
      "Total params: 222,213\n",
      "Trainable params: 222,213\n",
      "Non-trainable params: 0\n",
      "_________________________________________________________________\n",
      "None\n",
      "Epoch 1/20\n",
      "5685/5685 [==============================] - 15s 3ms/step - loss: 0.5672 - accuracy: 0.7863\n",
      "Epoch 2/20\n",
      "5685/5685 [==============================] - 14s 2ms/step - loss: 0.3323 - accuracy: 0.8720\n",
      "Epoch 3/20\n",
      "5685/5685 [==============================] - 14s 2ms/step - loss: 0.3091 - accuracy: 0.8826\n",
      "Epoch 4/20\n",
      "5685/5685 [==============================] - 14s 2ms/step - loss: 0.2969 - accuracy: 0.8864\n",
      "Epoch 5/20\n",
      "5685/5685 [==============================] - 14s 2ms/step - loss: 0.2836 - accuracy: 0.8949\n",
      "Epoch 6/20\n",
      "5685/5685 [==============================] - 14s 2ms/step - loss: 0.2765 - accuracy: 0.8947\n",
      "Epoch 7/20\n",
      "5685/5685 [==============================] - 14s 2ms/step - loss: 0.2647 - accuracy: 0.8976\n",
      "Epoch 8/20\n",
      "5685/5685 [==============================] - 14s 2ms/step - loss: 0.2623 - accuracy: 0.8949\n",
      "Epoch 9/20\n",
      "5685/5685 [==============================] - 14s 2ms/step - loss: 0.2462 - accuracy: 0.9049\n",
      "Epoch 10/20\n",
      "5685/5685 [==============================] - 14s 2ms/step - loss: 0.2494 - accuracy: 0.9045\n",
      "Epoch 11/20\n",
      "5685/5685 [==============================] - 14s 2ms/step - loss: 0.2442 - accuracy: 0.9081\n",
      "Epoch 12/20\n",
      "5685/5685 [==============================] - 14s 2ms/step - loss: 0.2365 - accuracy: 0.9091\n",
      "Epoch 13/20\n",
      "5685/5685 [==============================] - 14s 2ms/step - loss: 0.2344 - accuracy: 0.9095\n",
      "Epoch 14/20\n",
      "5685/5685 [==============================] - 14s 2ms/step - loss: 0.2329 - accuracy: 0.9085\n",
      "Epoch 15/20\n",
      "5685/5685 [==============================] - 14s 2ms/step - loss: 0.2320 - accuracy: 0.9097\n",
      "Epoch 16/20\n",
      "5685/5685 [==============================] - 14s 2ms/step - loss: 0.2277 - accuracy: 0.9124\n",
      "Epoch 17/20\n",
      "5685/5685 [==============================] - 14s 2ms/step - loss: 0.2188 - accuracy: 0.9154\n",
      "Epoch 18/20\n",
      "5685/5685 [==============================] - 14s 2ms/step - loss: 0.2148 - accuracy: 0.9172\n",
      "Epoch 19/20\n",
      "5685/5685 [==============================] - 14s 2ms/step - loss: 0.2118 - accuracy: 0.9172\n",
      "Epoch 20/20\n",
      "5685/5685 [==============================] - 14s 2ms/step - loss: 0.2090 - accuracy: 0.9200\n",
      "1896/1896 [==============================] - 2s 1ms/step\n"
     ]
    },
    {
     "data": {
      "text/plain": [
       "[0.24158988169979947, 0.906258761882782]"
      ]
     },
     "execution_count": 36,
     "metadata": {},
     "output_type": "execute_result"
    }
   ],
   "source": [
    "from matplotlib import pyplot as plt\n",
    "from sklearn.model_selection import train_test_split\n",
    "x,y = aggregate(hip,45)\n",
    "# x_train = x[:int(len(x)*0.7),]\n",
    "# x_test = x[int(len(x)*0.7):,]\n",
    "# y_train = y[:int(len(x)*0.7),]\n",
    "# y_test = y[int(len(x)*0.7):,]\n",
    "X_train, X_test, y_train, y_test = train_test_split(x,y)\n",
    "model = Sequential()\n",
    "model.add(LSTM(128,input_shape = (X_train.shape[1],X_train.shape[2]), return_sequences = True))\n",
    "#model.add(Dropout(0.5))\n",
    "model.add(LSTM(64, return_sequences = True))\n",
    "model.add(Dropout(0.2))\n",
    "model.add(LSTM(32, return_sequences = True))\n",
    "model.add(Dense(256, activation='relu'))\n",
    "model.add(Dense(128, activation='relu'))\n",
    "model.add(Dropout(0.2))\n",
    "model.add(Dense(64, activation='relu'))\n",
    "#model.add(Dropout(0.4))\n",
    "model.add(Dense(32, activation='relu'))\n",
    "model.add(Dense(5, activation='softmax'))\n",
    "\n",
    "model.compile(loss = 'categorical_crossentropy', optimizer='adam',metrics = ['accuracy'])\n",
    "print(model.summary())\n",
    "\n",
    "\n",
    "model.fit(X_train,y_train, epochs = 20, batch_size = 50)\n",
    "model.evaluate(X_test,y_test)"
   ]
  },
  {
   "cell_type": "code",
   "execution_count": 28,
   "metadata": {},
   "outputs": [
    {
     "name": "stdout",
     "output_type": "stream",
     "text": [
      "759/759 [==============================] - 2s 3ms/step\n"
     ]
    },
    {
     "data": {
      "text/plain": [
       "[0.4090566622566957, 0.8281266689300537]"
      ]
     },
     "execution_count": 28,
     "metadata": {},
     "output_type": "execute_result"
    }
   ],
   "source": []
  },
  {
   "cell_type": "markdown",
   "metadata": {},
   "source": [
    "sit/lie represented half"
   ]
  },
  {
   "cell_type": "code",
   "execution_count": 14,
   "metadata": {},
   "outputs": [
    {
     "name": "stdout",
     "output_type": "stream",
     "text": [
      "Model: \"sequential_4\"\n",
      "_________________________________________________________________\n",
      "Layer (type)                 Output Shape              Param #   \n",
      "=================================================================\n",
      "lstm_10 (LSTM)               (None, 100, 128)          108544    \n",
      "_________________________________________________________________\n",
      "lstm_11 (LSTM)               (None, 100, 64)           49408     \n",
      "_________________________________________________________________\n",
      "dropout_7 (Dropout)          (None, 100, 64)           0         \n",
      "_________________________________________________________________\n",
      "lstm_12 (LSTM)               (None, 100, 32)           12416     \n",
      "_________________________________________________________________\n",
      "dense_16 (Dense)             (None, 100, 256)          8448      \n",
      "_________________________________________________________________\n",
      "dense_17 (Dense)             (None, 100, 128)          32896     \n",
      "_________________________________________________________________\n",
      "dropout_8 (Dropout)          (None, 100, 128)          0         \n",
      "_________________________________________________________________\n",
      "dense_18 (Dense)             (None, 100, 64)           8256      \n",
      "_________________________________________________________________\n",
      "dense_19 (Dense)             (None, 100, 32)           2080      \n",
      "_________________________________________________________________\n",
      "dense_20 (Dense)             (None, 100, 5)            165       \n",
      "=================================================================\n",
      "Total params: 222,213\n",
      "Trainable params: 222,213\n",
      "Non-trainable params: 0\n",
      "_________________________________________________________________\n",
      "None\n",
      "Epoch 1/20\n",
      "1929/1929 [==============================] - 11s 6ms/step - loss: 0.6548 - accuracy: 0.8041\n",
      "Epoch 2/20\n",
      "1929/1929 [==============================] - 10s 5ms/step - loss: 0.2108 - accuracy: 0.9308\n",
      "Epoch 3/20\n",
      "1929/1929 [==============================] - 10s 5ms/step - loss: 0.1829 - accuracy: 0.9453\n",
      "Epoch 4/20\n",
      "1929/1929 [==============================] - 10s 5ms/step - loss: 0.1464 - accuracy: 0.9535\n",
      "Epoch 5/20\n",
      "1929/1929 [==============================] - 10s 5ms/step - loss: 0.1354 - accuracy: 0.9565\n",
      "Epoch 6/20\n",
      "1929/1929 [==============================] - 10s 5ms/step - loss: 0.1286 - accuracy: 0.9575\n",
      "Epoch 7/20\n",
      "1929/1929 [==============================] - 10s 5ms/step - loss: 0.1350 - accuracy: 0.9566\n",
      "Epoch 8/20\n",
      "1929/1929 [==============================] - 10s 5ms/step - loss: 0.1224 - accuracy: 0.9591\n",
      "Epoch 9/20\n",
      "1929/1929 [==============================] - 10s 5ms/step - loss: 0.1180 - accuracy: 0.9625\n",
      "Epoch 10/20\n",
      "1929/1929 [==============================] - 10s 5ms/step - loss: 0.1109 - accuracy: 0.9626\n",
      "Epoch 11/20\n",
      "1929/1929 [==============================] - 10s 5ms/step - loss: 0.1125 - accuracy: 0.9619\n",
      "Epoch 12/20\n",
      "1929/1929 [==============================] - 10s 5ms/step - loss: 0.1097 - accuracy: 0.9637\n",
      "Epoch 13/20\n",
      "1929/1929 [==============================] - 10s 5ms/step - loss: 0.1039 - accuracy: 0.9646\n",
      "Epoch 14/20\n",
      "1929/1929 [==============================] - 10s 5ms/step - loss: 0.0984 - accuracy: 0.9678\n",
      "Epoch 15/20\n",
      "1929/1929 [==============================] - 10s 5ms/step - loss: 0.0922 - accuracy: 0.9689\n",
      "Epoch 16/20\n",
      "1929/1929 [==============================] - 10s 5ms/step - loss: 0.0921 - accuracy: 0.9689\n",
      "Epoch 17/20\n",
      "1929/1929 [==============================] - 10s 5ms/step - loss: 0.0900 - accuracy: 0.9699\n",
      "Epoch 18/20\n",
      "1929/1929 [==============================] - 10s 5ms/step - loss: 0.0901 - accuracy: 0.9693\n",
      "Epoch 19/20\n",
      "1929/1929 [==============================] - 10s 5ms/step - loss: 0.0904 - accuracy: 0.9692\n",
      "Epoch 20/20\n",
      "1929/1929 [==============================] - 10s 5ms/step - loss: 0.0871 - accuracy: 0.9702\n",
      "644/644 [==============================] - 1s 2ms/step\n"
     ]
    },
    {
     "data": {
      "text/plain": [
       "[0.11525638463982144, 0.960900604724884]"
      ]
     },
     "execution_count": 14,
     "metadata": {},
     "output_type": "execute_result"
    }
   ],
   "source": [
    "from matplotlib import pyplot as plt\n",
    "from sklearn.model_selection import train_test_split\n",
    "x,y = aggregate(hip,100)\n",
    "# x_train = x[:int(len(x)*0.7),]\n",
    "# x_test = x[int(len(x)*0.7):,]\n",
    "# y_train = y[:int(len(x)*0.7),]\n",
    "# y_test = y[int(len(x)*0.7):,]\n",
    "X_train, X_test, y_train, y_test = train_test_split(x,y)\n",
    "model = Sequential()\n",
    "model.add(LSTM(128,input_shape = (X_train.shape[1],X_train.shape[2]), return_sequences = True))\n",
    "#model.add(Dropout(0.5))\n",
    "model.add(LSTM(64, return_sequences = True))\n",
    "model.add(Dropout(0.2))\n",
    "model.add(LSTM(32, return_sequences = True))\n",
    "model.add(Dense(256, activation='relu'))\n",
    "model.add(Dense(128, activation='relu'))\n",
    "model.add(Dropout(0.2))\n",
    "model.add(Dense(64, activation='relu'))\n",
    "#model.add(Dropout(0.4))\n",
    "model.add(Dense(32, activation='relu'))\n",
    "model.add(Dense(5, activation='softmax'))\n",
    "\n",
    "model.compile(loss = 'categorical_crossentropy', optimizer='adam',metrics = ['accuracy'])\n",
    "print(model.summary())\n",
    "\n",
    "\n",
    "model.fit(X_train,y_train, epochs = 20, batch_size = 50)\n",
    "model.evaluate(X_test,y_test)"
   ]
  },
  {
   "cell_type": "markdown",
   "metadata": {},
   "source": [
    "Wrist with sit/lie scaled back by 1/2"
   ]
  },
  {
   "cell_type": "code",
   "execution_count": 13,
   "metadata": {},
   "outputs": [
    {
     "name": "stdout",
     "output_type": "stream",
     "text": [
      "Model: \"sequential_3\"\n",
      "_________________________________________________________________\n",
      "Layer (type)                 Output Shape              Param #   \n",
      "=================================================================\n",
      "lstm_7 (LSTM)                (None, 100, 128)          108544    \n",
      "_________________________________________________________________\n",
      "lstm_8 (LSTM)                (None, 100, 64)           49408     \n",
      "_________________________________________________________________\n",
      "dropout_5 (Dropout)          (None, 100, 64)           0         \n",
      "_________________________________________________________________\n",
      "lstm_9 (LSTM)                (None, 100, 32)           12416     \n",
      "_________________________________________________________________\n",
      "dense_11 (Dense)             (None, 100, 256)          8448      \n",
      "_________________________________________________________________\n",
      "dense_12 (Dense)             (None, 100, 128)          32896     \n",
      "_________________________________________________________________\n",
      "dropout_6 (Dropout)          (None, 100, 128)          0         \n",
      "_________________________________________________________________\n",
      "dense_13 (Dense)             (None, 100, 64)           8256      \n",
      "_________________________________________________________________\n",
      "dense_14 (Dense)             (None, 100, 32)           2080      \n",
      "_________________________________________________________________\n",
      "dense_15 (Dense)             (None, 100, 5)            165       \n",
      "=================================================================\n",
      "Total params: 222,213\n",
      "Trainable params: 222,213\n",
      "Non-trainable params: 0\n",
      "_________________________________________________________________\n",
      "None\n",
      "Epoch 1/20\n",
      "1929/1929 [==============================] - 11s 6ms/step - loss: 0.8253 - accuracy: 0.7027\n",
      "Epoch 2/20\n",
      "1929/1929 [==============================] - 10s 5ms/step - loss: 0.3325 - accuracy: 0.8868\n",
      "Epoch 3/20\n",
      "1929/1929 [==============================] - 10s 5ms/step - loss: 0.2747 - accuracy: 0.9142\n",
      "Epoch 4/20\n",
      "1929/1929 [==============================] - 10s 5ms/step - loss: 0.2464 - accuracy: 0.9220\n",
      "Epoch 5/20\n",
      "1929/1929 [==============================] - 10s 5ms/step - loss: 0.2292 - accuracy: 0.9284\n",
      "Epoch 6/20\n",
      "1929/1929 [==============================] - 10s 5ms/step - loss: 0.2176 - accuracy: 0.9307\n",
      "Epoch 7/20\n",
      "1929/1929 [==============================] - 10s 5ms/step - loss: 0.1949 - accuracy: 0.9394\n",
      "Epoch 8/20\n",
      "1929/1929 [==============================] - 10s 5ms/step - loss: 0.2000 - accuracy: 0.9366\n",
      "Epoch 9/20\n",
      "1929/1929 [==============================] - 10s 5ms/step - loss: 0.1787 - accuracy: 0.9431\n",
      "Epoch 10/20\n",
      "1929/1929 [==============================] - 10s 5ms/step - loss: 0.1709 - accuracy: 0.9458\n",
      "Epoch 11/20\n",
      "1929/1929 [==============================] - 10s 5ms/step - loss: 0.1623 - accuracy: 0.9458\n",
      "Epoch 12/20\n",
      "1929/1929 [==============================] - 10s 5ms/step - loss: 0.1509 - accuracy: 0.9510\n",
      "Epoch 13/20\n",
      "1929/1929 [==============================] - 10s 5ms/step - loss: 0.1603 - accuracy: 0.9496\n",
      "Epoch 14/20\n",
      "1929/1929 [==============================] - 10s 5ms/step - loss: 0.1444 - accuracy: 0.9523\n",
      "Epoch 15/20\n",
      "1929/1929 [==============================] - 10s 5ms/step - loss: 0.1431 - accuracy: 0.9535\n",
      "Epoch 16/20\n",
      "1929/1929 [==============================] - 10s 5ms/step - loss: 0.1324 - accuracy: 0.9569\n",
      "Epoch 17/20\n",
      "1929/1929 [==============================] - 10s 5ms/step - loss: 0.1201 - accuracy: 0.9585\n",
      "Epoch 18/20\n",
      "1929/1929 [==============================] - 10s 5ms/step - loss: 0.1189 - accuracy: 0.9613\n",
      "Epoch 19/20\n",
      "1929/1929 [==============================] - 10s 5ms/step - loss: 0.1201 - accuracy: 0.9592\n",
      "Epoch 20/20\n",
      "1929/1929 [==============================] - 10s 5ms/step - loss: 0.1108 - accuracy: 0.9617\n",
      "644/644 [==============================] - 1s 2ms/step\n"
     ]
    },
    {
     "data": {
      "text/plain": [
       "[0.1801559747376057, 0.9443633556365967]"
      ]
     },
     "execution_count": 13,
     "metadata": {},
     "output_type": "execute_result"
    }
   ],
   "source": [
    "from matplotlib import pyplot as plt\n",
    "from sklearn.model_selection import train_test_split\n",
    "x,y = aggregate(wrist,100)\n",
    "# x_train = x[:int(len(x)*0.7),]\n",
    "# x_test = x[int(len(x)*0.7):,]\n",
    "# y_train = y[:int(len(x)*0.7),]\n",
    "# y_test = y[int(len(x)*0.7):,]\n",
    "X_train, X_test, y_train, y_test = train_test_split(x,y)\n",
    "model = Sequential()\n",
    "model.add(LSTM(128,input_shape = (X_train.shape[1],X_train.shape[2]), return_sequences = True))\n",
    "#model.add(Dropout(0.5))\n",
    "model.add(LSTM(64, return_sequences = True))\n",
    "model.add(Dropout(0.2))\n",
    "model.add(LSTM(32, return_sequences = True))\n",
    "model.add(Dense(256, activation='relu'))\n",
    "model.add(Dense(128, activation='relu'))\n",
    "model.add(Dropout(0.2))\n",
    "model.add(Dense(64, activation='relu'))\n",
    "#model.add(Dropout(0.4))\n",
    "model.add(Dense(32, activation='relu'))\n",
    "model.add(Dense(5, activation='softmax'))\n",
    "\n",
    "model.compile(loss = 'categorical_crossentropy', optimizer='adam',metrics = ['accuracy'])\n",
    "print(model.summary())\n",
    "\n",
    "\n",
    "model.fit(X_train,y_train, epochs = 20, batch_size = 50)\n",
    "model.evaluate(X_test,y_test)"
   ]
  },
  {
   "cell_type": "code",
   "execution_count": null,
   "metadata": {},
   "outputs": [],
   "source": []
  }
 ],
 "metadata": {
  "kernelspec": {
   "display_name": "Python 3",
   "language": "python",
   "name": "python3"
  },
  "language_info": {
   "codemirror_mode": {
    "name": "ipython",
    "version": 3
   },
   "file_extension": ".py",
   "mimetype": "text/x-python",
   "name": "python",
   "nbconvert_exporter": "python",
   "pygments_lexer": "ipython3",
   "version": "3.6.9"
  }
 },
 "nbformat": 4,
 "nbformat_minor": 4
}
