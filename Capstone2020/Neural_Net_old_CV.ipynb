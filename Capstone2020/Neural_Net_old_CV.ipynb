{
 "cells": [
  {
   "cell_type": "markdown",
   "metadata": {},
   "source": [
    "# Imports"
   ]
  },
  {
   "cell_type": "code",
   "execution_count": 47,
   "metadata": {},
   "outputs": [],
   "source": [
    "import pandas as pd\n",
    "import numpy as np\n",
    "import tensorflow as tf\n",
    "import itertools\n",
    "from tensorflow.keras import layers\n",
    "import matplotlib.pyplot as plt\n",
    "import keras\n",
    "import math\n",
    "from sklearn.model_selection import KFold\n",
    "import sklearn.metrics\n",
    "from sklearn.model_selection import train_test_split\n",
    "from operator import itemgetter\n",
    "import warnings\n",
    "warnings.filterwarnings('ignore')\n",
    "import seaborn as sns"
   ]
  },
  {
   "cell_type": "markdown",
   "metadata": {},
   "source": [
    "# Setting Global Variables"
   ]
  },
  {
   "cell_type": "markdown",
   "metadata": {},
   "source": [
    "The `segments` dictionary translates the primary behaviors to the overall segemnts"
   ]
  },
  {
   "cell_type": "code",
   "execution_count": 48,
   "metadata": {},
   "outputs": [],
   "source": [
    "# Number of epochs for neural network training\n",
    "NUM_EPOCHS = 30\n",
    "# Sensors for training\n",
    "sensors = ['Hip', 'Wrist', 'Chest', 'Thigh']\n",
    "segments = {\n",
    "    \"LES- socializing, communicating, leisure time not screen\":\"LES\",\n",
    "      \"LES- screen based leisure time (TV, video game, computer)\":\"LES\",\n",
    "      \"HA- animals and pets\":\"HA\",\n",
    "      \"HA- housework\":\"HA\",\n",
    "      \"HA- food prep and cleanup\":\"HA\",\n",
    "      \"HA- household management/other household activities\":\"HA\",\n",
    "      \"HA- interior maintenance, repair, & decoration\":\"HA\",\n",
    "      \"HA- lawn, garden and houseplants\":\"HA\",\n",
    "      \"HA- exterior maintenance, repair, & decoration\":\"HA\",\n",
    "      \"CA- caring for and helping adults\":\"HA\",\n",
    "      \"CA- caring for and helping children\":\"HA\",\n",
    "      \"WRK- screen based - Education and Health Services\":\"WRK\",\n",
    "      \"WRK- screen based - Office (business, professional services, finance, info)\":\"WRK\",\n",
    "      \"WRK- general - Education and Health Services\":\"WRK\",\n",
    "      \"WRK- general - Office (business, professional services, finance, info)\":\"WRK\",\n",
    "      \"EDU- taking class, research, homework\":\"WRK\",\n",
    "      \"PC- groom, health-related\":\"HA\",\n",
    "      \"PC- other personal care\":\"HA\",\n",
    "      \"EAT- eating and drinking, waiting\":\"HA\",\n",
    "      \"PUR- purchasing goods and services\":\"HA\",\n",
    "      \"ORG- organizational civic, volunteer, and religious activities\":\"COM\",\n",
    "      \"EX- attending sport, recreational event, or performance\":\"COM\",\n",
    "      \"EX- walking\":\"EX\",\n",
    "      \"EX- jogging\":\"EX\",\n",
    "      \"EX- baseball\":\"EX\",\n",
    "      \"EX- other\":\"EX\",\n",
    "      \"TRAV- walking\":\"COM\",\n",
    "      \"TRAV- passenger bus or train\":\"COM\",\n",
    "      \"TRAV- biking\":\"COM\",\n",
    "      \"TRAV- driver (car/truck/motorcycle)\":\"COM\",\n",
    "      \"OTHER- non codable\":\"OTHER\",\n",
    "      \"None\":\"OTHER\"\n",
    "}"
   ]
  },
  {
   "cell_type": "markdown",
   "metadata": {},
   "source": [
    "# Running the Pipeline"
   ]
  },
  {
   "cell_type": "markdown",
   "metadata": {},
   "source": [
    "These are the blocks that to run the network on"
   ]
  },
  {
   "cell_type": "markdown",
   "metadata": {},
   "source": [
    "## Hip"
   ]
  },
  {
   "cell_type": "code",
   "execution_count": 56,
   "metadata": {},
   "outputs": [
    {
     "name": "stdout",
     "output_type": "stream",
     "text": [
      "Index(['mean.x', 'std.x', 'min.x', 'max.x', 'mean.y', 'std.y', 'min.y',\n",
      "       'max.y', 'mean.z', 'std.z', 'min.z', 'max.z', 'mean.vm', 'std.vm',\n",
      "       'pct25.vm', 'pct50.vm', 'pct75.vm', 'mean.ang', 'std.ang', 'mean.xy',\n",
      "       'mean.xz', 'mean.yz', 'mean.xyz', 'xfft1', 'xfft2', 'xfft3', 'xfft4',\n",
      "       'xfft5', 'xfft6', 'xfft7', 'xfft8', 'xfft9', 'xfft10', 'xfft11',\n",
      "       'xfft12', 'xfft13', 'xfft14', 'xfft15', 'yfft1', 'yfft2', 'yfft3',\n",
      "       'yfft4', 'yfft5', 'yfft6', 'yfft7', 'yfft8', 'yfft9', 'yfft10',\n",
      "       'yfft11', 'yfft12', 'yfft13', 'yfft14', 'yfft15', 'zfft1', 'zfft2',\n",
      "       'zfft3', 'zfft4', 'zfft5', 'zfft6', 'zfft7', 'zfft8', 'zfft9', 'zfft10',\n",
      "       'zfft11', 'zfft12', 'zfft13', 'zfft14', 'zfft15', 'mfft1', 'mfft2',\n",
      "       'mfft3', 'mfft4', 'mfft5', 'mfft6', 'mfft7', 'mfft8', 'mfft9', 'mfft10',\n",
      "       'mfft11', 'mfft12', 'mfft13', 'mfft14', 'mfft15'],\n",
      "      dtype='object')\n",
      "KFold: 1, loss: 0.474, accuracy: 0.815\n",
      "34115/34115 [==============================] - 2s 54us/sample\n",
      "KFold: 2, loss: 0.62, accuracy: 0.777\n",
      "34115/34115 [==============================] - 2s 51us/sample\n",
      "KFold: 3, loss: 0.734, accuracy: 0.742\n",
      "34115/34115 [==============================] - 2s 49us/sample\n",
      "KFold: 4, loss: 0.246, accuracy: 0.913\n",
      "34114/34114 [==============================] - 2s 58us/sample\n",
      "KFold: 5, loss: 0.433, accuracy: 0.827\n",
      "34114/34114 [==============================] - 2s 49us/sample\n",
      "KFold: 6, loss: 2.019, accuracy: 0.789\n",
      "34114/34114 [==============================] - 2s 56us/sample\n",
      "KFold: 7, loss: 0.441, accuracy: 0.817\n",
      "34114/34114 [==============================] - 2s 55us/sample\n",
      "KFold: 8, loss: 0.695, accuracy: 0.766\n",
      "34114/34114 [==============================] - 2s 53us/sample\n",
      "KFold: 9, loss: 0.453, accuracy: 0.814\n",
      "34114/34114 [==============================] - 2s 54us/sample\n",
      "KFold: 10, loss: 0.303, accuracy: 0.89\n",
      "34114/34114 [==============================] - 2s 64us/sample\n",
      "F1  sit/lie : 0.8711645106327348\n",
      "F1  stand and move : 0.7808149982533733\n",
      "F1  walking : 0.7515026144718624\n",
      "F1  running : 0.9522333412299664\n",
      "F1  bicycling : 0.0\n",
      "Precision  sit/lie : 0.8941568814307314\n",
      "Precision  stand and move : 0.776111286614729\n",
      "Precision  walking : 0.8570868097773684\n",
      "Precision  running : 0.9715896120846386\n",
      "Precision  bicycling : 0.0\n",
      "Recall  sit/lie : 0.8622016017938182\n",
      "Recall  stand and move : 0.8143910341697059\n",
      "Recall  walking : 0.686462997102976\n",
      "Recall  running : 0.9352033050663188\n",
      "Recall  bicycling : 0.0\n",
      "---------------------------------------------\n",
      "Accuracy:  0.815\n",
      "[[1.44580e+05 2.28770e+04 1.46000e+02 0.00000e+00 8.40000e+01]\n",
      " [1.90910e+04 1.04058e+05 4.17100e+03 2.19000e+02 2.35000e+02]\n",
      " [8.70000e+01 9.27100e+03 2.08520e+04 1.17000e+02 4.90000e+01]\n",
      " [1.00000e+00 2.98000e+02 2.87000e+02 8.60200e+03 1.00000e+01]\n",
      " [6.26000e+02 5.03500e+03 4.39000e+02 8.00000e+00 0.00000e+00]]\n"
     ]
    },
    {
     "data": {
      "image/png": "[encoded data removed]",
      "text/plain": [
       "<Figure size 432x288 with 2 Axes>"
      ]
     },
     "metadata": {
      "needs_background": "light"
     },
     "output_type": "display_data"
    }
   ],
   "source": [
    "# Run single sensor neural network for detailed activity labels\n",
    "activity = 'updated_final_activity'\n",
    "losses = []\n",
    "accs = []\n",
    "preds = []\n",
    "s = \"Hip\"\n",
    "# attain dataset for running the model \n",
    "data = clean_data(s, activity)\n",
    "\n",
    "# run the model and output revelant results \n",
    "acc, cnf_mat = run_nn(data, \"Hip\", activity)\n",
    "print(\"---------------------------------------------\")\n",
    "print(\"Accuracy: \",acc)\n",
    "print(cnf_mat)\n",
    "print_confusion_matrix(cnf_mat, ['sit/lie', 'stand and move', 'walking', 'running','bicycling'])"
   ]
  },
  {
   "cell_type": "markdown",
   "metadata": {},
   "source": [
    "## Chest"
   ]
  },
  {
   "cell_type": "code",
   "execution_count": 57,
   "metadata": {},
   "outputs": [
    {
     "name": "stdout",
     "output_type": "stream",
     "text": [
      "Index(['mean.x', 'std.x', 'min.x', 'max.x', 'mean.y', 'std.y', 'min.y',\n",
      "       'max.y', 'mean.z', 'std.z', 'min.z', 'max.z', 'mean.vm', 'std.vm',\n",
      "       'pct25.vm', 'pct50.vm', 'pct75.vm', 'mean.ang', 'std.ang', 'mean.xy',\n",
      "       'mean.xz', 'mean.yz', 'mean.xyz', 'xfft1', 'xfft2', 'xfft3', 'xfft4',\n",
      "       'xfft5', 'xfft6', 'xfft7', 'xfft8', 'xfft9', 'xfft10', 'xfft11',\n",
      "       'xfft12', 'xfft13', 'xfft14', 'xfft15', 'yfft1', 'yfft2', 'yfft3',\n",
      "       'yfft4', 'yfft5', 'yfft6', 'yfft7', 'yfft8', 'yfft9', 'yfft10',\n",
      "       'yfft11', 'yfft12', 'yfft13', 'yfft14', 'yfft15', 'zfft1', 'zfft2',\n",
      "       'zfft3', 'zfft4', 'zfft5', 'zfft6', 'zfft7', 'zfft8', 'zfft9', 'zfft10',\n",
      "       'zfft11', 'zfft12', 'zfft13', 'zfft14', 'zfft15', 'mfft1', 'mfft2',\n",
      "       'mfft3', 'mfft4', 'mfft5', 'mfft6', 'mfft7', 'mfft8', 'mfft9', 'mfft10',\n",
      "       'mfft11', 'mfft12', 'mfft13', 'mfft14', 'mfft15'],\n",
      "      dtype='object')\n",
      "KFold: 1, loss: 0.26, accuracy: 0.903\n",
      "36218/36218 [==============================] - 2s 54us/sample\n",
      "KFold: 2, loss: 0.258, accuracy: 0.911\n",
      "36218/36218 [==============================] - 2s 54us/sample\n",
      "KFold: 3, loss: 0.239, accuracy: 0.905\n",
      "36218/36218 [==============================] - 2s 56us/sample\n",
      "KFold: 4, loss: 0.177, accuracy: 0.947\n",
      "36218/36218 [==============================] - 2s 53us/sample\n",
      "KFold: 5, loss: 0.179, accuracy: 0.939\n",
      "36218/36218 [==============================] - 2s 64us/sample\n",
      "KFold: 6, loss: 0.434, accuracy: 0.891\n",
      "36218/36218 [==============================] - 2s 57us/sample\n",
      "KFold: 7, loss: 0.211, accuracy: 0.926\n",
      "36218/36218 [==============================] - 2s 67us/sample\n",
      "KFold: 8, loss: 0.204, accuracy: 0.925\n",
      "36217/36217 [==============================] - 2s 58us/sample\n",
      "KFold: 9, loss: 0.168, accuracy: 0.946\n",
      "36217/36217 [==============================] - 2s 53us/sample\n",
      "KFold: 10, loss: 0.263, accuracy: 0.905\n",
      "36217/36217 [==============================] - 3s 71us/sample\n",
      "F1  sit/lie : 0.9654673286872323\n",
      "F1  stand and move : 0.8987977257683707\n",
      "F1  walking : 0.8026506598483397\n",
      "F1  running : 0.9494364644629165\n",
      "F1  bicycling : 0.7616447997018669\n",
      "Precision  sit/lie : 0.9713830143684199\n",
      "Precision  stand and move : 0.8804520995239189\n",
      "Precision  walking : 0.8842899971905133\n",
      "Precision  running : 0.9709787086171622\n",
      "Precision  bicycling : 0.986414763473049\n",
      "Recall  sit/lie : 0.9599530357825247\n",
      "Recall  stand and move : 0.9233585734669072\n",
      "Recall  walking : 0.7417445851580069\n",
      "Recall  running : 0.929505892528922\n",
      "Recall  bicycling : 0.6240995415848068\n",
      "---------------------------------------------\n",
      "Accuracy:  0.92\n"
     ]
    },
    {
     "data": {
      "image/png": "[encoded data removed]",
      "text/plain": [
       "<Figure size 432x288 with 2 Axes>"
      ]
     },
     "metadata": {
      "needs_background": "light"
     },
     "output_type": "display_data"
    }
   ],
   "source": [
    "# Run single sensor neural network for detailed activity labels\n",
    "activity = 'updated_final_activity'\n",
    "losses = []\n",
    "accs = []\n",
    "preds = []\n",
    "s = \"Chest\"\n",
    "data = clean_data(s, activity)\n",
    "#res = run_nn(data, s, activity)\n",
    "#sum_cnf_matrix = np.sum(res[2], axis = 0)\n",
    "\n",
    "acc, cnf_mat = run_nn(data, \"Chest\", activity)\n",
    "print(\"---------------------------------------------\")\n",
    "print(\"Accuracy: \",acc)\n",
    "print_confusion_matrix(cnf_mat, ['sit/lie', 'stand and move', 'walking', 'running','bicycling'])"
   ]
  },
  {
   "cell_type": "markdown",
   "metadata": {},
   "source": [
    "## Wrist"
   ]
  },
  {
   "cell_type": "code",
   "execution_count": 61,
   "metadata": {},
   "outputs": [
    {
     "ename": "KeyboardInterrupt",
     "evalue": "",
     "output_type": "error",
     "traceback": [
      "\u001b[0;31m---------------------------------------------------------------------------\u001b[0m",
      "\u001b[0;31mKeyboardInterrupt\u001b[0m                         Traceback (most recent call last)",
      "\u001b[0;32m~/.local/lib/python3.6/site-packages/pandas/io/parsers.py\u001b[0m in \u001b[0;36m_read\u001b[0;34m(filepath_or_buffer, kwds)\u001b[0m\n\u001b[1;32m    453\u001b[0m     \u001b[0;32mtry\u001b[0m\u001b[0;34m:\u001b[0m\u001b[0;34m\u001b[0m\u001b[0;34m\u001b[0m\u001b[0m\n\u001b[0;32m--> 454\u001b[0;31m         \u001b[0mdata\u001b[0m \u001b[0;34m=\u001b[0m \u001b[0mparser\u001b[0m\u001b[0;34m.\u001b[0m\u001b[0mread\u001b[0m\u001b[0;34m(\u001b[0m\u001b[0mnrows\u001b[0m\u001b[0;34m)\u001b[0m\u001b[0;34m\u001b[0m\u001b[0;34m\u001b[0m\u001b[0m\n\u001b[0m\u001b[1;32m    455\u001b[0m     \u001b[0;32mfinally\u001b[0m\u001b[0;34m:\u001b[0m\u001b[0;34m\u001b[0m\u001b[0;34m\u001b[0m\u001b[0m\n",
      "\u001b[0;32m~/.local/lib/python3.6/site-packages/pandas/io/parsers.py\u001b[0m in \u001b[0;36mread\u001b[0;34m(self, nrows)\u001b[0m\n\u001b[1;32m   1132\u001b[0m         \u001b[0mnrows\u001b[0m \u001b[0;34m=\u001b[0m \u001b[0m_validate_integer\u001b[0m\u001b[0;34m(\u001b[0m\u001b[0;34m\"nrows\"\u001b[0m\u001b[0;34m,\u001b[0m \u001b[0mnrows\u001b[0m\u001b[0;34m)\u001b[0m\u001b[0;34m\u001b[0m\u001b[0;34m\u001b[0m\u001b[0m\n\u001b[0;32m-> 1133\u001b[0;31m         \u001b[0mret\u001b[0m \u001b[0;34m=\u001b[0m \u001b[0mself\u001b[0m\u001b[0;34m.\u001b[0m\u001b[0m_engine\u001b[0m\u001b[0;34m.\u001b[0m\u001b[0mread\u001b[0m\u001b[0;34m(\u001b[0m\u001b[0mnrows\u001b[0m\u001b[0;34m)\u001b[0m\u001b[0;34m\u001b[0m\u001b[0;34m\u001b[0m\u001b[0m\n\u001b[0m\u001b[1;32m   1134\u001b[0m \u001b[0;34m\u001b[0m\u001b[0m\n",
      "\u001b[0;32m~/.local/lib/python3.6/site-packages/pandas/io/parsers.py\u001b[0m in \u001b[0;36mread\u001b[0;34m(self, nrows)\u001b[0m\n\u001b[1;32m   2036\u001b[0m         \u001b[0;32mtry\u001b[0m\u001b[0;34m:\u001b[0m\u001b[0;34m\u001b[0m\u001b[0;34m\u001b[0m\u001b[0m\n\u001b[0;32m-> 2037\u001b[0;31m             \u001b[0mdata\u001b[0m \u001b[0;34m=\u001b[0m \u001b[0mself\u001b[0m\u001b[0;34m.\u001b[0m\u001b[0m_reader\u001b[0m\u001b[0;34m.\u001b[0m\u001b[0mread\u001b[0m\u001b[0;34m(\u001b[0m\u001b[0mnrows\u001b[0m\u001b[0;34m)\u001b[0m\u001b[0;34m\u001b[0m\u001b[0;34m\u001b[0m\u001b[0m\n\u001b[0m\u001b[1;32m   2038\u001b[0m         \u001b[0;32mexcept\u001b[0m \u001b[0mStopIteration\u001b[0m\u001b[0;34m:\u001b[0m\u001b[0;34m\u001b[0m\u001b[0;34m\u001b[0m\u001b[0m\n",
      "\u001b[0;32mpandas/_libs/parsers.pyx\u001b[0m in \u001b[0;36mpandas._libs.parsers.TextReader.read\u001b[0;34m()\u001b[0m\n",
      "\u001b[0;32mpandas/_libs/parsers.pyx\u001b[0m in \u001b[0;36mpandas._libs.parsers.TextReader._read_rows\u001b[0;34m()\u001b[0m\n",
      "\u001b[0;32mpandas/_libs/parsers.pyx\u001b[0m in \u001b[0;36mpandas._libs.parsers.TextReader._convert_column_data\u001b[0;34m()\u001b[0m\n",
      "\u001b[0;32mpandas/_libs/parsers.pyx\u001b[0m in \u001b[0;36mpandas._libs.parsers.TextReader._convert_tokens\u001b[0;34m()\u001b[0m\n",
      "\u001b[0;32mpandas/_libs/parsers.pyx\u001b[0m in \u001b[0;36mpandas._libs.parsers.TextReader._convert_with_dtype\u001b[0;34m()\u001b[0m\n",
      "\u001b[0;32m~/.local/lib/python3.6/site-packages/pandas/core/dtypes/common.py\u001b[0m in \u001b[0;36mis_categorical_dtype\u001b[0;34m(arr_or_dtype)\u001b[0m\n\u001b[1;32m    541\u001b[0m \u001b[0;34m\u001b[0m\u001b[0m\n\u001b[0;32m--> 542\u001b[0;31m \u001b[0;32mdef\u001b[0m \u001b[0mis_categorical_dtype\u001b[0m\u001b[0;34m(\u001b[0m\u001b[0marr_or_dtype\u001b[0m\u001b[0;34m)\u001b[0m \u001b[0;34m->\u001b[0m \u001b[0mbool\u001b[0m\u001b[0;34m:\u001b[0m\u001b[0;34m\u001b[0m\u001b[0;34m\u001b[0m\u001b[0m\n\u001b[0m\u001b[1;32m    543\u001b[0m     \"\"\"\n",
      "\u001b[0;31mKeyboardInterrupt\u001b[0m: ",
      "\nDuring handling of the above exception, another exception occurred:\n",
      "\u001b[0;31mKeyboardInterrupt\u001b[0m                         Traceback (most recent call last)",
      "\u001b[0;32m<ipython-input-61-8c5a09f09260>\u001b[0m in \u001b[0;36m<module>\u001b[0;34m\u001b[0m\n\u001b[1;32m      5\u001b[0m \u001b[0mpreds\u001b[0m \u001b[0;34m=\u001b[0m \u001b[0;34m[\u001b[0m\u001b[0;34m]\u001b[0m\u001b[0;34m\u001b[0m\u001b[0;34m\u001b[0m\u001b[0m\n\u001b[1;32m      6\u001b[0m \u001b[0ms\u001b[0m \u001b[0;34m=\u001b[0m \u001b[0;34m\"Wrist\"\u001b[0m\u001b[0;34m\u001b[0m\u001b[0;34m\u001b[0m\u001b[0m\n\u001b[0;32m----> 7\u001b[0;31m \u001b[0mdata\u001b[0m \u001b[0;34m=\u001b[0m \u001b[0mclean_data\u001b[0m\u001b[0;34m(\u001b[0m\u001b[0ms\u001b[0m\u001b[0;34m,\u001b[0m \u001b[0mactivity\u001b[0m\u001b[0;34m)\u001b[0m\u001b[0;34m\u001b[0m\u001b[0;34m\u001b[0m\u001b[0m\n\u001b[0m\u001b[1;32m      8\u001b[0m \u001b[0;31m#res = run_nn(data, s, activity)\u001b[0m\u001b[0;34m\u001b[0m\u001b[0;34m\u001b[0m\u001b[0;34m\u001b[0m\u001b[0m\n\u001b[1;32m      9\u001b[0m \u001b[0;31m#sum_cnf_matrix = np.sum(res[2], axis = 0)\u001b[0m\u001b[0;34m\u001b[0m\u001b[0;34m\u001b[0m\u001b[0;34m\u001b[0m\u001b[0m\n",
      "\u001b[0;32m<ipython-input-12-7241b09572e9>\u001b[0m in \u001b[0;36mclean_data\u001b[0;34m(sensor, activity)\u001b[0m\n\u001b[1;32m      1\u001b[0m \u001b[0;32mdef\u001b[0m \u001b[0mclean_data\u001b[0m\u001b[0;34m(\u001b[0m\u001b[0msensor\u001b[0m\u001b[0;34m,\u001b[0m \u001b[0mactivity\u001b[0m\u001b[0;34m)\u001b[0m\u001b[0;34m:\u001b[0m\u001b[0;34m\u001b[0m\u001b[0;34m\u001b[0m\u001b[0m\n\u001b[0;32m----> 2\u001b[0;31m     \u001b[0mdata\u001b[0m \u001b[0;34m=\u001b[0m \u001b[0mpd\u001b[0m\u001b[0;34m.\u001b[0m\u001b[0mread_csv\u001b[0m\u001b[0;34m(\u001b[0m\u001b[0;34m'../../mnt/storage/Datasets/final_data/'\u001b[0m\u001b[0;34m+\u001b[0m\u001b[0msensor\u001b[0m \u001b[0;34m+\u001b[0m \u001b[0;34m\".csv\"\u001b[0m\u001b[0;34m,\u001b[0m \u001b[0mlow_memory\u001b[0m \u001b[0;34m=\u001b[0m \u001b[0;32mFalse\u001b[0m\u001b[0;34m)\u001b[0m\u001b[0;34m\u001b[0m\u001b[0;34m\u001b[0m\u001b[0m\n\u001b[0m\u001b[1;32m      3\u001b[0m     \u001b[0;31m# Take out unnamed columns\u001b[0m\u001b[0;34m\u001b[0m\u001b[0;34m\u001b[0m\u001b[0;34m\u001b[0m\u001b[0m\n\u001b[1;32m      4\u001b[0m     \u001b[0mdata\u001b[0m\u001b[0;34m.\u001b[0m\u001b[0mdrop\u001b[0m\u001b[0;34m(\u001b[0m\u001b[0;34m[\u001b[0m\u001b[0mcol\u001b[0m \u001b[0;32mfor\u001b[0m \u001b[0mcol\u001b[0m \u001b[0;32min\u001b[0m \u001b[0mdata\u001b[0m\u001b[0;34m.\u001b[0m\u001b[0mcolumns\u001b[0m \u001b[0;32mif\u001b[0m \u001b[0;34m\"Unnamed\"\u001b[0m \u001b[0;32min\u001b[0m \u001b[0mcol\u001b[0m\u001b[0;34m]\u001b[0m\u001b[0;34m,\u001b[0m \u001b[0maxis\u001b[0m\u001b[0;34m=\u001b[0m\u001b[0;36m1\u001b[0m\u001b[0;34m,\u001b[0m \u001b[0minplace\u001b[0m \u001b[0;34m=\u001b[0m \u001b[0;32mTrue\u001b[0m\u001b[0;34m)\u001b[0m\u001b[0;34m\u001b[0m\u001b[0;34m\u001b[0m\u001b[0m\n\u001b[1;32m      5\u001b[0m     \u001b[0;31m# Drop un-encoded data\u001b[0m\u001b[0;34m\u001b[0m\u001b[0;34m\u001b[0m\u001b[0;34m\u001b[0m\u001b[0m\n",
      "\u001b[0;32m~/.local/lib/python3.6/site-packages/pandas/io/parsers.py\u001b[0m in \u001b[0;36mparser_f\u001b[0;34m(filepath_or_buffer, sep, delimiter, header, names, index_col, usecols, squeeze, prefix, mangle_dupe_cols, dtype, engine, converters, true_values, false_values, skipinitialspace, skiprows, skipfooter, nrows, na_values, keep_default_na, na_filter, verbose, skip_blank_lines, parse_dates, infer_datetime_format, keep_date_col, date_parser, dayfirst, cache_dates, iterator, chunksize, compression, thousands, decimal, lineterminator, quotechar, quoting, doublequote, escapechar, comment, encoding, dialect, error_bad_lines, warn_bad_lines, delim_whitespace, low_memory, memory_map, float_precision)\u001b[0m\n\u001b[1;32m    674\u001b[0m         )\n\u001b[1;32m    675\u001b[0m \u001b[0;34m\u001b[0m\u001b[0m\n\u001b[0;32m--> 676\u001b[0;31m         \u001b[0;32mreturn\u001b[0m \u001b[0m_read\u001b[0m\u001b[0;34m(\u001b[0m\u001b[0mfilepath_or_buffer\u001b[0m\u001b[0;34m,\u001b[0m \u001b[0mkwds\u001b[0m\u001b[0;34m)\u001b[0m\u001b[0;34m\u001b[0m\u001b[0;34m\u001b[0m\u001b[0m\n\u001b[0m\u001b[1;32m    677\u001b[0m \u001b[0;34m\u001b[0m\u001b[0m\n\u001b[1;32m    678\u001b[0m     \u001b[0mparser_f\u001b[0m\u001b[0;34m.\u001b[0m\u001b[0m__name__\u001b[0m \u001b[0;34m=\u001b[0m \u001b[0mname\u001b[0m\u001b[0;34m\u001b[0m\u001b[0;34m\u001b[0m\u001b[0m\n",
      "\u001b[0;32m~/.local/lib/python3.6/site-packages/pandas/io/parsers.py\u001b[0m in \u001b[0;36m_read\u001b[0;34m(filepath_or_buffer, kwds)\u001b[0m\n\u001b[1;32m    454\u001b[0m         \u001b[0mdata\u001b[0m \u001b[0;34m=\u001b[0m \u001b[0mparser\u001b[0m\u001b[0;34m.\u001b[0m\u001b[0mread\u001b[0m\u001b[0;34m(\u001b[0m\u001b[0mnrows\u001b[0m\u001b[0;34m)\u001b[0m\u001b[0;34m\u001b[0m\u001b[0;34m\u001b[0m\u001b[0m\n\u001b[1;32m    455\u001b[0m     \u001b[0;32mfinally\u001b[0m\u001b[0;34m:\u001b[0m\u001b[0;34m\u001b[0m\u001b[0;34m\u001b[0m\u001b[0m\n\u001b[0;32m--> 456\u001b[0;31m         \u001b[0mparser\u001b[0m\u001b[0;34m.\u001b[0m\u001b[0mclose\u001b[0m\u001b[0;34m(\u001b[0m\u001b[0;34m)\u001b[0m\u001b[0;34m\u001b[0m\u001b[0;34m\u001b[0m\u001b[0m\n\u001b[0m\u001b[1;32m    457\u001b[0m \u001b[0;34m\u001b[0m\u001b[0m\n\u001b[1;32m    458\u001b[0m     \u001b[0;32mif\u001b[0m \u001b[0mshould_close\u001b[0m\u001b[0;34m:\u001b[0m\u001b[0;34m\u001b[0m\u001b[0;34m\u001b[0m\u001b[0m\n",
      "\u001b[0;32m~/.local/lib/python3.6/site-packages/pandas/io/parsers.py\u001b[0m in \u001b[0;36mclose\u001b[0;34m(self)\u001b[0m\n\u001b[1;32m    881\u001b[0m \u001b[0;34m\u001b[0m\u001b[0m\n\u001b[1;32m    882\u001b[0m     \u001b[0;32mdef\u001b[0m \u001b[0mclose\u001b[0m\u001b[0;34m(\u001b[0m\u001b[0mself\u001b[0m\u001b[0;34m)\u001b[0m\u001b[0;34m:\u001b[0m\u001b[0;34m\u001b[0m\u001b[0;34m\u001b[0m\u001b[0m\n\u001b[0;32m--> 883\u001b[0;31m         \u001b[0mself\u001b[0m\u001b[0;34m.\u001b[0m\u001b[0m_engine\u001b[0m\u001b[0;34m.\u001b[0m\u001b[0mclose\u001b[0m\u001b[0;34m(\u001b[0m\u001b[0;34m)\u001b[0m\u001b[0;34m\u001b[0m\u001b[0;34m\u001b[0m\u001b[0m\n\u001b[0m\u001b[1;32m    884\u001b[0m \u001b[0;34m\u001b[0m\u001b[0m\n\u001b[1;32m    885\u001b[0m     \u001b[0;32mdef\u001b[0m \u001b[0m_get_options_with_defaults\u001b[0m\u001b[0;34m(\u001b[0m\u001b[0mself\u001b[0m\u001b[0;34m,\u001b[0m \u001b[0mengine\u001b[0m\u001b[0;34m)\u001b[0m\u001b[0;34m:\u001b[0m\u001b[0;34m\u001b[0m\u001b[0;34m\u001b[0m\u001b[0m\n",
      "\u001b[0;32m~/.local/lib/python3.6/site-packages/pandas/io/parsers.py\u001b[0m in \u001b[0;36mclose\u001b[0;34m(self)\u001b[0m\n\u001b[1;32m   1973\u001b[0m         \u001b[0;31m# close additional handles opened by C parser (for compression)\u001b[0m\u001b[0;34m\u001b[0m\u001b[0;34m\u001b[0m\u001b[0;34m\u001b[0m\u001b[0m\n\u001b[1;32m   1974\u001b[0m         \u001b[0;32mtry\u001b[0m\u001b[0;34m:\u001b[0m\u001b[0;34m\u001b[0m\u001b[0;34m\u001b[0m\u001b[0m\n\u001b[0;32m-> 1975\u001b[0;31m             \u001b[0mself\u001b[0m\u001b[0;34m.\u001b[0m\u001b[0m_reader\u001b[0m\u001b[0;34m.\u001b[0m\u001b[0mclose\u001b[0m\u001b[0;34m(\u001b[0m\u001b[0;34m)\u001b[0m\u001b[0;34m\u001b[0m\u001b[0;34m\u001b[0m\u001b[0m\n\u001b[0m\u001b[1;32m   1976\u001b[0m         \u001b[0;32mexcept\u001b[0m \u001b[0mValueError\u001b[0m\u001b[0;34m:\u001b[0m\u001b[0;34m\u001b[0m\u001b[0;34m\u001b[0m\u001b[0m\n\u001b[1;32m   1977\u001b[0m             \u001b[0;32mpass\u001b[0m\u001b[0;34m\u001b[0m\u001b[0;34m\u001b[0m\u001b[0m\n",
      "\u001b[0;31mKeyboardInterrupt\u001b[0m: "
     ]
    }
   ],
   "source": [
    "# Run single sensor neural network for detailed activity labels\n",
    "activity = 'updated_final_activity'\n",
    "losses = []\n",
    "accs = []\n",
    "preds = []\n",
    "s = \"Wrist\"\n",
    "data = clean_data(s, activity)\n",
    "#res = run_nn(data, s, activity)\n",
    "#sum_cnf_matrix = np.sum(res[2], axis = 0)\n",
    "acc, cnf_mat = run_nn(data, \"Wrist\", activity)\n",
    "print(\"---------------------------------------------\")\n",
    "print(\"Accuracy: \",acc)\n",
    "print_confusion_matrix(cnf_mat, ['sit/lie', 'stand and move', 'walking', 'running','bicycling'])\n",
    "\n",
    "#pred = pd.DataFrame(pred)\n",
    "\n",
    "#pred.to_csv(''+s+'_predictions.csv')\n",
    "\n",
    "#df = pd.DataFrame({'pred':preds})\n",
    "#sensor = \"Hip\"\n",
    "#df.to_csv(sensor+'_'+'predictions.csv')"
   ]
  },
  {
   "cell_type": "markdown",
   "metadata": {},
   "source": [
    "## Thigh "
   ]
  },
  {
   "cell_type": "code",
   "execution_count": null,
   "metadata": {},
   "outputs": [],
   "source": [
    "# Run single sensor neural network for detailed activity labels\n",
    "activity = 'updated_final_activity'\n",
    "losses = []\n",
    "accs = []\n",
    "preds = []\n",
    "s = \"Thigh\"\n",
    "data = clean_data(s, activity)\n",
    "#res = run_nn(data, s, activity)\n",
    "#sum_cnf_matrix = np.sum(res[2], axis = 0)\n",
    "acc, cnf_mat = run_nn(data, \"Thigh\", activity)\n",
    "print(\"---------------------------------------------\")\n",
    "print(\"Accuracy: \",acc)\n",
    "print_confusion_matrix(cnf_mat, ['sit/lie', 'stand and move', 'walking', 'running','bicycling'])\n",
    "\n",
    "#pred = pd.DataFrame(pred)\n",
    "\n",
    "#pred.to_csv(''+s+'_predictions.csv')\n",
    "\n",
    "#df = pd.DataFrame({'pred':preds})\n",
    "#sensor = \"Hip\"\n",
    "#df.to_csv(sensor+'_'+'predictions.csv')"
   ]
  },
  {
   "cell_type": "code",
   "execution_count": 43,
   "metadata": {
    "collapsed": true,
    "jupyter": {
     "outputs_hidden": true
    }
   },
   "outputs": [],
   "source": [
    "test_matrix = sklearn.metrics.precision_recall_fscore_support([1,1,0,1,0,1,1],[0,1,0,0,0,1,1])"
   ]
  },
  {
   "cell_type": "code",
   "execution_count": 44,
   "metadata": {
    "collapsed": true,
    "jupyter": {
     "outputs_hidden": true
    }
   },
   "outputs": [
    {
     "data": {
      "text/plain": [
       "(array([0.5, 1. ]),\n",
       " array([1. , 0.6]),\n",
       " array([0.66666667, 0.75      ]),\n",
       " array([2, 5]))"
      ]
     },
     "execution_count": 44,
     "metadata": {},
     "output_type": "execute_result"
    }
   ],
   "source": [
    "test_matrix"
   ]
  },
  {
   "cell_type": "markdown",
   "metadata": {},
   "source": [
    "# Functions"
   ]
  },
  {
   "cell_type": "markdown",
   "metadata": {},
   "source": [
    "- `clean_data` deals with importing the dataset and computing the segemnts\n",
    "- `run_nn` prepares some features and runs the neural network\n",
    "    - `run_kfold` is called within this function, it runs the stratified cross-validation and computes the averaged MSE and other metrics\n",
    "- `get_model_1layer_updated` is an example of the place to put any varying modeling architecture, to change the model just make a new function and edit the line in `run_kfold` that goes `model = get_model_1layer_updated()` with your new model"
   ]
  },
  {
   "cell_type": "code",
   "execution_count": 12,
   "metadata": {
    "collapsed": true,
    "jupyter": {
     "outputs_hidden": true
    }
   },
   "outputs": [],
   "source": [
    "def clean_data(sensor, activity):\n",
    "    data = pd.read_csv('../../mnt/storage/Datasets/final_data/'+sensor + \".csv\", low_memory = False)\n",
    "    # Take out unnamed columns\n",
    "    data.drop([col for col in data.columns if \"Unnamed\" in col], axis=1, inplace = True)\n",
    "    # Drop un-encoded data\n",
    "    data = data[data[activity] != 'private/not coded']\n",
    "    return data"
   ]
  },
  {
   "cell_type": "code",
   "execution_count": 17,
   "metadata": {
    "collapsed": true,
    "jupyter": {
     "outputs_hidden": true
    }
   },
   "outputs": [],
   "source": [
    "def run_nn(data, sensor, activity):\n",
    "    x_cols = data.columns[18:(82 + 19)]\n",
    "    print(x_cols)\n",
    "    y = data[activity]\n",
    "    # Standardize x columns\n",
    "    X = data[x_cols].apply(lambda x: (x - np.mean(x)) / np.std(x))\n",
    "    X = X.fillna(X.mean()).values\n",
    "    # One hot vectorize categories\n",
    "    Y = pd.get_dummies(y).values\n",
    "    dummy_labels = pd.get_dummies(y).columns.tolist()\n",
    "    # Run k-fold cross validation\n",
    "    res = run_kfold(X, Y, 10, sensor, activity, dummy_labels)\n",
    "    \n",
    "    # Save confusion matrix visualizations\n",
    "    #conf_mat(res, sensor, activity, dummy_labels)\n",
    "    # Calculate precision/recall metrics, save results\n",
    "    #prec_recall(res, sensor, activity, dummy_labels)\n",
    "    return res"
   ]
  },
  {
   "cell_type": "code",
   "execution_count": 63,
   "metadata": {},
   "outputs": [],
   "source": [
    "def run_kfold(X, Y, splits, sensor, activity, class_labels):\n",
    "    kf = KFold(n_splits=splits)\n",
    "    i = 1\n",
    "    acc_sum = 0\n",
    "    loss_sum = 0\n",
    "    prec = []\n",
    "    cnf_tables = []\n",
    "    cnf_total = np.zeros((5,5))\n",
    "    f1_rep = []\n",
    "    prec_rep = []\n",
    "    rec_rep = []\n",
    "    i = 1\n",
    "    model = None\n",
    "    \n",
    "    for train_index, test_index, in kf.split(X):\n",
    "\n",
    "        # Reset model and get new one\n",
    "        model = get_model_1layer_updated()\n",
    "\n",
    "        # Split data into train and test\n",
    "        X_train, X_test = X[train_index], X[test_index]\n",
    "        y_train, y_test = Y[train_index], Y[test_index]\n",
    "        model.fit(X_train, y_train,batch_size=128, epochs= NUM_EPOCHS,\n",
    "                  verbose = False)\n",
    "        \n",
    "        # Confusion matrix calculations\n",
    "        \n",
    "        # Get model predictions, save as list\n",
    "        y_pred = np.argmax(model.predict(X_test, verbose = 1), axis = 1)\n",
    "        y_pred = [class_labels[x] for x in y_pred.tolist()]\n",
    "        \n",
    "        # post-process if necessary\n",
    "        if post_process:\n",
    "            y_pred = post_process(y_pred)\n",
    "        \n",
    "        # Get ground truth\n",
    "        y_true = np.argmax(y_test, axis = 1)\n",
    "        y_true = [class_labels[x] for x in y_true.tolist()]\n",
    "        \n",
    "        # Evaluate accuracy of model\n",
    "        acc = sklearn.metrics.accuracy_score(y_true,y_pred)\n",
    "    \n",
    "        acc_sum = acc_sum + acc\n",
    "        i += 1\n",
    "\n",
    "        # Make confusion matrix\n",
    "        cnf_matrix = sklearn.metrics.confusion_matrix(y_true, y_pred,\n",
    "            labels=['sit/lie', 'stand and move', 'walking', 'running',\n",
    "               'bicycling'])\n",
    "\n",
    "        # Add confusion matrix for this fold to list\n",
    "        cnf_tables.append(cnf_matrix)\n",
    "        \n",
    "        # Add to total confusion matrix\n",
    "        cnf_total += cnf_matrix\n",
    "        \n",
    "        class_report = sklearn.metrics.precision_recall_fscore_support(y_true, y_pred, \n",
    "            labels = ['sit/lie', 'stand and move', 'walking', 'running','bicycling'])\n",
    "        \n",
    "        # get f1 for this fold \n",
    "        f1_rep.append(class_report[2:4])\n",
    "        \n",
    "        # get precision for this fold\n",
    "        prec_rep.append(itemgetter(0,3)(class_report))\n",
    "        \n",
    "        # get recall for this fold\n",
    "        rec_rep.append(itemgetter(1,3)(class_report))\n",
    "                                                      \n",
    "    # Save last trained model to disk\n",
    "    #save_model(sensor, activity, model)\n",
    "    \n",
    "    # Get average loss and accuracy for all kfolds\n",
    "    acc_r = round(acc_sum / splits, 3)\n",
    "    \n",
    "    # print out weighted average f1-score\n",
    "    actual_f1 = {'sit/lie':0, 'stand and move':0,'walking':0,'running':0,'bicycling':0}\n",
    "    total_f1 = {'sit/lie':0,'stand and move':0, 'walking':0,'running':0,'bicycling':0}\n",
    "    \n",
    "\n",
    "    for f1 in f1_rep:\n",
    "        actual_f1['sit/lie'] += f1[0][0] * f1[1][0]\n",
    "        actual_f1['stand and move'] += f1[0][1] * f1[1][1]\n",
    "        actual_f1[\"walking\"] += f1[0][2] * f1[1][2]\n",
    "        actual_f1[\"running\"] += f1[0][3] * f1[1][3]\n",
    "        actual_f1[\"bicycling\"] += f1[0][4] * f1[1][4]\n",
    "        total_f1['sit/lie'] += f1[1][0]\n",
    "        total_f1['stand and move'] += f1[1][1]\n",
    "        total_f1[\"walking\"] += f1[1][2]\n",
    "        total_f1[\"running\"] += f1[1][3]\n",
    "        total_f1[\"bicycling\"] += f1[1][4]\n",
    "        \n",
    "    for k in list(actual_f1.keys()):\n",
    "        print(\"F1 \",k,\":\",actual_f1[k]/total_f1[k])\n",
    "    \n",
    "    # print out precision stats\n",
    "    actual_prec = {'sit/lie':0, 'stand and move':0,'walking':0,'running':0,'bicycling':0}\n",
    "    total_prec = {'sit/lie':0, 'stand and move':0,'walking':0,'running':0,'bicycling':0}\n",
    "    \n",
    "    for prec in prec_rep:\n",
    "        actual_prec['sit/lie'] += prec[0][0] * prec[1][0]\n",
    "        actual_prec['stand and move'] += prec[0][1] * prec[1][1]\n",
    "        actual_prec[\"walking\"] += prec[0][2] * prec[1][2]\n",
    "        actual_prec[\"running\"] += prec[0][3] * prec[1][3]\n",
    "        actual_prec[\"bicycling\"] += prec[0][4] * prec[1][4]\n",
    "        total_prec['sit/lie'] += prec[1][0]\n",
    "        total_prec['stand and move'] += prec[1][1]\n",
    "        total_prec[\"walking\"] += prec[1][2]\n",
    "        total_prec[\"running\"] += prec[1][3]\n",
    "        total_prec[\"bicycling\"] += prec[1][4]\n",
    "        \n",
    "    for k in list(actual_prec.keys()):\n",
    "        print(\"Precision \",k,\":\",actual_prec[k]/total_prec[k])\n",
    "    \n",
    "    # print out recall stats\n",
    "    actual_re = {'sit/lie':0, 'stand and move':0,'walking':0,'running':0,'bicycling':0}\n",
    "    total_re = {'sit/lie':0, 'stand and move':0,'walking':0,'running':0,'bicycling':0}\n",
    "    \n",
    "    for rec in rec_rep:\n",
    "        actual_re['sit/lie'] += rec[0][0] * rec[1][0]\n",
    "        actual_re['stand and move'] += rec[0][1] * rec[1][1]\n",
    "        actual_re[\"walking\"] += rec[0][2] * rec[1][2]\n",
    "        actual_re[\"running\"] += rec[0][3] * rec[1][3]\n",
    "        actual_re[\"bicycling\"] += rec[0][4] * rec[1][4]\n",
    "        total_re['sit/lie'] += rec[1][0]\n",
    "        total_re['stand and move'] += rec[1][1]\n",
    "        total_re[\"walking\"] += rec[1][2]\n",
    "        total_re[\"running\"] += rec[1][3]\n",
    "        total_re[\"bicycling\"] += rec[1][4]\n",
    "        \n",
    "    for k in list(actual_re.keys()):\n",
    "        print(\"Recall \",k,\":\",actual_re[k]/total_re[k])\n",
    "    \n",
    "    return acc_r, cnf_total"
   ]
  },
  {
   "cell_type": "code",
   "execution_count": 51,
   "metadata": {},
   "outputs": [],
   "source": [
    "def get_model_1layer_updated():\n",
    "    # Neural Network Architecture for single sensor\n",
    "    model = tf.keras.Sequential([\n",
    "            layers.Dense(83, activation=\"relu\", input_shape = (83,)),\n",
    "            layers.Dense(64, activation=\"relu\"),\n",
    "            layers.Dense(32, activation=\"relu\"),\n",
    "            layers.Dense(16, activation=\"relu\"),\n",
    "            layers.Dense(8, activation=\"relu\"),\n",
    "            layers.Dense(5, activation = 'softmax')])\n",
    "    model.compile(optimizer=\"sgd\", loss='categorical_crossentropy', metrics=['accuracy'])\n",
    "    return model"
   ]
  },
  {
   "cell_type": "code",
   "execution_count": 52,
   "metadata": {},
   "outputs": [],
   "source": [
    "# changed 18: for cols\n",
    "# changed get_model first layer as 82 from 83\n",
    "# this first column was a time???"
   ]
  },
  {
   "cell_type": "code",
   "execution_count": 53,
   "metadata": {},
   "outputs": [],
   "source": [
    "def print_confusion_matrix(confusion_matrix, class_names, figsize = (10,7), fontsize=14):\n",
    "    \"\"\"Prints a confusion matrix, as returned by sklearn.metrics.confusion_matrix, as a heatmap.\n",
    "    \n",
    "    Arguments\n",
    "    ---------\n",
    "    confusion_matrix: numpy.ndarray\n",
    "        The numpy.ndarray object returned from a call to sklearn.metrics.confusion_matrix. \n",
    "        Similarly constructed ndarrays can also be used.\n",
    "    class_names: list\n",
    "        An ordered list of class names, in the order they index the given confusion matrix.\n",
    "    figsize: tuple\n",
    "        A 2-long tuple, the first value determining the horizontal size of the ouputted figure,\n",
    "        the second determining the vertical size. Defaults to (10,7).\n",
    "    fontsize: int\n",
    "        Font size for axes labels. Defaults to 14.\n",
    "        \n",
    "    Returns\n",
    "    -------\n",
    "    matplotlib.figure.Figure\n",
    "        The resulting confusion matrix figure\n",
    "    \"\"\"\n",
    "    df_cm = pd.DataFrame(\n",
    "        confusion_matrix, index=class_names, columns=class_names, \n",
    "    )\n",
    "    #fig = plt.figure(figsize=figsize)\n",
    "    try:\n",
    "        heatmap = sns.heatmap(df_cm, annot=True)\n",
    "    except ValueError:\n",
    "        raise ValueError(\"Confusion matrix values must be integers.\")\n",
    "    heatmap.yaxis.set_ticklabels(heatmap.yaxis.get_ticklabels(), rotation=0, ha='right', fontsize=fontsize)\n",
    "    heatmap.xaxis.set_ticklabels(heatmap.xaxis.get_ticklabels(), rotation=45, ha='right', fontsize=fontsize)\n",
    "    plt.ylabel('True label')\n",
    "    plt.xlabel('Predicted label')"
   ]
  },
  {
   "cell_type": "code",
   "execution_count": 64,
   "metadata": {},
   "outputs": [],
   "source": [
    "def post_process(prediction):   \n",
    "    \"\"\"\n",
    "    basic post processing...\n",
    "    prediction: array of predicted values from the NN\n",
    "    \"\"\"\n",
    "    #preds = prediction['predicted_values']\n",
    "    preds_new = preds.copy()\n",
    "\n",
    "\n",
    "    for i in range(2, len(preds)-2):\n",
    "#         size = mode_size*2 +1\n",
    "#         points = [None]* size\n",
    "#         for j in range(size):\n",
    "#             print(j)\n",
    "#             print(points)\n",
    "#             points[j] = preds.iloc[i - mode_size]\n",
    "#             mode_size +=1\n",
    "        points = [preds[i-2],preds[i-1], preds[i], preds[i+1], preds[i+2]]\n",
    "        preds_new[i] = stats.mode(points)[0][0]\n",
    "\n",
    "    #preds_new = pd.DataFrame(preds_new)\n",
    "    #preds_new.columns = ['post_predictions']\n",
    "    #final_preds = pd.concat([prediction,preds_new],axis =1)\n",
    "\n",
    "    #errors_1 = final_preds['y_true'] == final_preds['predicted_values']\n",
    "    #errors_2 = final_preds['y_true'] == final_preds['post_predictions']\n",
    "\n",
    "    #print('predicted_value errors',np.sum(errors_1)/len(errors_1))\n",
    "\n",
    "    #print('post_processed errors',np.sum(errors_2)/len(errors_2))\n",
    "    \n",
    "    #print('Accuracy improvement:', (np.sum(errors_2)/len(errors_2)-np.sum(errors_1)/len(errors_1)))\n",
    "    return preds_new"
   ]
  }
 ],
 "metadata": {
  "kernelspec": {
   "display_name": "Python 3",
   "language": "python",
   "name": "python3"
  },
  "language_info": {
   "codemirror_mode": {
    "name": "ipython",
    "version": 3
   },
   "file_extension": ".py",
   "mimetype": "text/x-python",
   "name": "python",
   "nbconvert_exporter": "python",
   "pygments_lexer": "ipython3",
   "version": "3.6.9"
  }
 },
 "nbformat": 4,
 "nbformat_minor": 4
}
