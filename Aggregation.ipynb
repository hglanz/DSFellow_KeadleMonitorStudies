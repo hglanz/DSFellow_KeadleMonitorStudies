{
 "cells": [
  {
   "cell_type": "code",
   "execution_count": 1,
   "id": "still-burning",
   "metadata": {},
   "outputs": [],
   "source": [
    "#Run this line if these directories don't exist in the same directory as this notebook\n",
    "#Will probably only run this chunk the first time you run the notebook\n",
    "\n",
    "# import os\n",
    "# os.mkdir(\"wrist_agg\")\n",
    "# os.mkdir(\"hip_agg\")"
   ]
  },
  {
   "cell_type": "code",
   "execution_count": 2,
   "id": "human-detail",
   "metadata": {},
   "outputs": [],
   "source": [
    "import glob\n",
    "import pandas as pd"
   ]
  },
  {
   "cell_type": "code",
   "execution_count": 3,
   "id": "rational-fireplace",
   "metadata": {},
   "outputs": [],
   "source": [
    "def aggregate_files(files, output_dir, increment = 80):\n",
    "    for file in files:\n",
    "        data = pd.read_csv(file, skiprows=10)\n",
    "        agg = data.groupby(data.index // increment).mean()\n",
    "        filename = file.split(\"\\\\\")[1].split(\"RAW\")\n",
    "        agg.to_csv(output_dir + \"/\" + filename[0] + \"AGGREGATE\" + filename[1], index=False)"
   ]
  },
  {
   "cell_type": "code",
   "execution_count": 4,
   "id": "painted-velvet",
   "metadata": {},
   "outputs": [],
   "source": [
    "output_wrist_dir = \"wrist_agg\"\n",
    "output_hip_dir = \"hip_agg\"\n",
    "\n",
    "#Location of raw wrist and hip files\n",
    "path = \"E:/Data/Monitor Data/\"\n",
    "\n",
    "wrist_files = glob.glob(path + \"final_wrist_raw_csv/*\")\n",
    "hip_files = glob.glob(path + \"hip/*\")"
   ]
  },
  {
   "cell_type": "code",
   "execution_count": 5,
   "id": "olive-payroll",
   "metadata": {},
   "outputs": [
    {
     "data": {
      "text/plain": [
       "['E:/Data/Monitor Data/final_wrist_raw_csv\\\\AG_AM01WRT (2017-10-02)RAW.csv',\n",
       " 'E:/Data/Monitor Data/final_wrist_raw_csv\\\\AG_AM02WRT (2017-07-19)RAW.csv',\n",
       " 'E:/Data/Monitor Data/final_wrist_raw_csv\\\\AG_AM03WRT (2017-07-24)RAW.csv',\n",
       " 'E:/Data/Monitor Data/final_wrist_raw_csv\\\\AG_AM04WRT (2017-09-11)RAW.csv',\n",
       " 'E:/Data/Monitor Data/final_wrist_raw_csv\\\\AG_AM05WRT (2017-09-19)RAW.csv',\n",
       " 'E:/Data/Monitor Data/final_wrist_raw_csv\\\\AG_AM06WRT (2017-07-28)RAW.csv',\n",
       " 'E:/Data/Monitor Data/final_wrist_raw_csv\\\\AG_AM07WRT (2017-07-31)RAW.csv',\n",
       " 'E:/Data/Monitor Data/final_wrist_raw_csv\\\\AG_AM08WRT (2017-08-01)RAW.csv',\n",
       " 'E:/Data/Monitor Data/final_wrist_raw_csv\\\\AG_AM09WRT (2017-08-08)RAW.csv',\n",
       " 'E:/Data/Monitor Data/final_wrist_raw_csv\\\\AG_AM10WRT (2017-08-10)RAW.csv',\n",
       " 'E:/Data/Monitor Data/final_wrist_raw_csv\\\\AG_AM11WRT (2017-08-30)RAW.csv',\n",
       " 'E:/Data/Monitor Data/final_wrist_raw_csv\\\\AG_AM12WRT (2017-09-13)RAW.csv',\n",
       " 'E:/Data/Monitor Data/final_wrist_raw_csv\\\\AG_AM13WRT (2017-09-18)RAW.csv',\n",
       " 'E:/Data/Monitor Data/final_wrist_raw_csv\\\\AG_AM14WRT (2017-09-19)RAW.csv',\n",
       " 'E:/Data/Monitor Data/final_wrist_raw_csv\\\\AG_AM15WRT (2017-10-09)RAW.csv',\n",
       " 'E:/Data/Monitor Data/final_wrist_raw_csv\\\\AG_AM16WRT (2017-10-06)RAW.csv',\n",
       " 'E:/Data/Monitor Data/final_wrist_raw_csv\\\\AG_AM17WRT (2017-10-23)RAW.csv',\n",
       " 'E:/Data/Monitor Data/final_wrist_raw_csv\\\\AG_AM18WRT (2017-11-01)RAW.csv',\n",
       " 'E:/Data/Monitor Data/final_wrist_raw_csv\\\\AG_AM19WRT (2017-11-06)RAW.csv',\n",
       " 'E:/Data/Monitor Data/final_wrist_raw_csv\\\\AG_AM20WRT (2017-11-27)RAW.csv',\n",
       " 'E:/Data/Monitor Data/final_wrist_raw_csv\\\\AG_AM21WRT (2018-01-11)RAW.csv',\n",
       " 'E:/Data/Monitor Data/final_wrist_raw_csv\\\\AG_AM22WRT (2018-01-19)RAW.csv',\n",
       " 'E:/Data/Monitor Data/final_wrist_raw_csv\\\\AG_AM24WRT (2018-02-02)RAW.csv',\n",
       " 'E:/Data/Monitor Data/final_wrist_raw_csv\\\\AG_AM25WRT (2018-02-14)RAW.csv',\n",
       " 'E:/Data/Monitor Data/final_wrist_raw_csv\\\\AG_AM26WRT (2018-02-21)RAW.csv',\n",
       " 'E:/Data/Monitor Data/final_wrist_raw_csv\\\\AG_AM27WRT (2018-05-17)RAW.csv']"
      ]
     },
     "execution_count": 5,
     "metadata": {},
     "output_type": "execute_result"
    }
   ],
   "source": [
    "wrist_files"
   ]
  },
  {
   "cell_type": "code",
   "execution_count": 6,
   "id": "digital-ceremony",
   "metadata": {},
   "outputs": [
    {
     "data": {
      "text/plain": [
       "['E:/Data/Monitor Data/hip\\\\AG_AM01HIP (2017-07-14)RAW.csv',\n",
       " 'E:/Data/Monitor Data/hip\\\\AG_AM01reHIP (2017-10-02)RAW.csv',\n",
       " 'E:/Data/Monitor Data/hip\\\\AG_AM02HIP (2017-07-19)RAW.csv',\n",
       " 'E:/Data/Monitor Data/hip\\\\AG_AM03HIP (2017-07-24)RAW.csv',\n",
       " 'E:/Data/Monitor Data/hip\\\\AG_AM04reHIP (2017-09-11)RAW.csv',\n",
       " 'E:/Data/Monitor Data/hip\\\\AG_AM05reHIP (2017-09-19)RAW.csv',\n",
       " 'E:/Data/Monitor Data/hip\\\\AG_AM06HIP (2017-07-27)RAW.csv',\n",
       " 'E:/Data/Monitor Data/hip\\\\AG_AM07HIP (2017-07-31)RAW.csv',\n",
       " 'E:/Data/Monitor Data/hip\\\\AG_AM08HIP (2017-08-01)RAW.csv',\n",
       " 'E:/Data/Monitor Data/hip\\\\AG_AM09HIP (2017-08-08)RAW.csv',\n",
       " 'E:/Data/Monitor Data/hip\\\\AG_AM10HIP (2017-08-10)RAW.csv',\n",
       " 'E:/Data/Monitor Data/hip\\\\AG_AM11HIP (2017-08-30)RAW.csv',\n",
       " 'E:/Data/Monitor Data/hip\\\\AG_AM12HIP (2017-09-13)RAW.csv',\n",
       " 'E:/Data/Monitor Data/hip\\\\AG_AM13HIP (2017-09-18)RAW.csv',\n",
       " 'E:/Data/Monitor Data/hip\\\\AG_AM14HIP (2017-09-19)RAW.csv',\n",
       " 'E:/Data/Monitor Data/hip\\\\AG_AM15HIP (2017-10-09)RAW.csv',\n",
       " 'E:/Data/Monitor Data/hip\\\\AG_AM16HIP (2017-10-06)RAW.csv',\n",
       " 'E:/Data/Monitor Data/hip\\\\AG_AM17HIP (2017-10-23)RAW.csv',\n",
       " 'E:/Data/Monitor Data/hip\\\\AG_AM18HIP (2017-11-01)RAW.csv',\n",
       " 'E:/Data/Monitor Data/hip\\\\AG_AM19HIP (2017-11-06)RAW.csv',\n",
       " 'E:/Data/Monitor Data/hip\\\\AG_AM20HIP (2017-11-27)RAW.csv',\n",
       " 'E:/Data/Monitor Data/hip\\\\AG_AM21HIP (2018-01-11)RAW.csv',\n",
       " 'E:/Data/Monitor Data/hip\\\\AG_AM22HIP (2018-01-19)RAW.csv',\n",
       " 'E:/Data/Monitor Data/hip\\\\AG_AM23HIP (2018-01-29)RAW.csv',\n",
       " 'E:/Data/Monitor Data/hip\\\\AG_AM24HIP (2018-02-02)RAW.csv',\n",
       " 'E:/Data/Monitor Data/hip\\\\AG_AM25HIP (2018-02-14)RAW.csv',\n",
       " 'E:/Data/Monitor Data/hip\\\\AG_AM26HIP (2018-02-21)RAW.csv',\n",
       " 'E:/Data/Monitor Data/hip\\\\AG_AM27HIP (2018-05-17)RAW.csv']"
      ]
     },
     "execution_count": 6,
     "metadata": {},
     "output_type": "execute_result"
    }
   ],
   "source": [
    "hip_files"
   ]
  },
  {
   "cell_type": "code",
   "execution_count": 8,
   "id": "vocational-operator",
   "metadata": {},
   "outputs": [],
   "source": [
    "aggregate_files(wrist_files, output_wrist_dir)"
   ]
  },
  {
   "cell_type": "code",
   "execution_count": 9,
   "id": "minor-faith",
   "metadata": {},
   "outputs": [],
   "source": [
    "aggregate_files(hip_files, output_hip_dir)"
   ]
  }
 ],
 "metadata": {
  "kernelspec": {
   "display_name": "Python 3",
   "language": "python",
   "name": "python3"
  },
  "language_info": {
   "codemirror_mode": {
    "name": "ipython",
    "version": 3
   },
   "file_extension": ".py",
   "mimetype": "text/x-python",
   "name": "python",
   "nbconvert_exporter": "python",
   "pygments_lexer": "ipython3",
   "version": "3.7.4"
  }
 },
 "nbformat": 4,
 "nbformat_minor": 5
}
