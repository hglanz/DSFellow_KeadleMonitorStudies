{
 "cells": [
  {
   "cell_type": "code",
   "execution_count": 1,
   "id": "third-polls",
   "metadata": {},
   "outputs": [],
   "source": [
    "#Run this line if these directories don't exist in the same directory as this notebook\n",
    "#Will probably only need to run this chunk the first time you run the notebook\n",
    "\n",
    "import os\n",
    "os.mkdir(\"wrist_agg\")\n",
    "os.mkdir(\"hip_agg\")\n",
    "os.mkdir(\"chest_agg\")\n",
    "os.mkdir(\"thigh_agg\")"
   ]
  },
  {
   "cell_type": "code",
   "execution_count": 2,
   "id": "sonic-workstation",
   "metadata": {},
   "outputs": [],
   "source": [
    "import glob\n",
    "import pandas as pd\n",
    "import datetime"
   ]
  },
  {
   "cell_type": "code",
   "execution_count": 3,
   "id": "tribal-ethiopia",
   "metadata": {},
   "outputs": [],
   "source": [
    "def aggregate_files(files, output_dir, increment=80): #80 for 1 sec, 800 for 10 sec\n",
    "    for file in files:\n",
    "        data = pd.read_csv(file, skiprows=10)\n",
    "        description = pd.read_csv(file, nrows = 8)\n",
    "        \n",
    "        start_datetime_str = description.iloc[2,0][11:] + '/' + description.iloc[1,0][11:]\n",
    "        day = start_datetime_str.split()\n",
    "        start_datetime = datetime.datetime.strptime(start_datetime_str, '%m/%d/%Y/%H:%M:%S')\n",
    "        \n",
    "        agg = data.groupby(data.index // increment).mean()\n",
    "        \n",
    "#         agg['start_datetime'] = [start_datetime for i in range(len(agg))]\n",
    "\n",
    "        agg['actual_datetime'] = list(map(lambda x, y: x + datetime.timedelta(seconds = y), \n",
    "                                          [start_datetime for i in range(len(agg))], \n",
    "                                          agg.index * increment / 80))\n",
    "        \n",
    "        filename = file.split(\"\\\\\")[1].split(\"RAW\")\n",
    "        agg.to_csv(output_dir + \"/\" + filename[0] + \"AGGREGATE\" + filename[1], index=False)"
   ]
  },
  {
   "cell_type": "code",
   "execution_count": 4,
   "id": "worthy-brother",
   "metadata": {},
   "outputs": [],
   "source": [
    "output_wrist_dir = \"wrist_agg\"\n",
    "output_hip_dir = \"hip_agg\"\n",
    "\n",
    "#Location of raw wrist and hip files\n",
    "path = \"E:/Data/Monitor Data/\"\n",
    "\n",
    "wrist_files = glob.glob(path + \"final_wrist_raw_csv/*\")\n",
    "hip_files = glob.glob(path + \"hip/*\")"
   ]
  },
  {
   "cell_type": "code",
   "execution_count": 5,
   "id": "saving-nicaragua",
   "metadata": {},
   "outputs": [
    {
     "data": {
      "text/plain": [
       "['E:/Data/Monitor Data/final_wrist_raw_csv\\\\AG_AM01WRT (2017-10-02)RAW.csv',\n",
       " 'E:/Data/Monitor Data/final_wrist_raw_csv\\\\AG_AM02WRT (2017-07-19)RAW.csv',\n",
       " 'E:/Data/Monitor Data/final_wrist_raw_csv\\\\AG_AM03WRT (2017-07-24)RAW.csv',\n",
       " 'E:/Data/Monitor Data/final_wrist_raw_csv\\\\AG_AM04WRT (2017-09-11)RAW.csv',\n",
       " 'E:/Data/Monitor Data/final_wrist_raw_csv\\\\AG_AM05WRT (2017-09-19)RAW.csv',\n",
       " 'E:/Data/Monitor Data/final_wrist_raw_csv\\\\AG_AM06WRT (2017-07-28)RAW.csv',\n",
       " 'E:/Data/Monitor Data/final_wrist_raw_csv\\\\AG_AM07WRT (2017-07-31)RAW.csv',\n",
       " 'E:/Data/Monitor Data/final_wrist_raw_csv\\\\AG_AM08WRT (2017-08-01)RAW.csv',\n",
       " 'E:/Data/Monitor Data/final_wrist_raw_csv\\\\AG_AM09WRT (2017-08-08)RAW.csv',\n",
       " 'E:/Data/Monitor Data/final_wrist_raw_csv\\\\AG_AM10WRT (2017-08-10)RAW.csv',\n",
       " 'E:/Data/Monitor Data/final_wrist_raw_csv\\\\AG_AM11WRT (2017-08-30)RAW.csv',\n",
       " 'E:/Data/Monitor Data/final_wrist_raw_csv\\\\AG_AM12WRT (2017-09-13)RAW.csv',\n",
       " 'E:/Data/Monitor Data/final_wrist_raw_csv\\\\AG_AM13WRT (2017-09-18)RAW.csv',\n",
       " 'E:/Data/Monitor Data/final_wrist_raw_csv\\\\AG_AM14WRT (2017-09-19)RAW.csv',\n",
       " 'E:/Data/Monitor Data/final_wrist_raw_csv\\\\AG_AM15WRT (2017-10-09)RAW.csv',\n",
       " 'E:/Data/Monitor Data/final_wrist_raw_csv\\\\AG_AM16WRT (2017-10-06)RAW.csv',\n",
       " 'E:/Data/Monitor Data/final_wrist_raw_csv\\\\AG_AM17WRT (2017-10-23)RAW.csv',\n",
       " 'E:/Data/Monitor Data/final_wrist_raw_csv\\\\AG_AM18WRT (2017-11-01)RAW.csv',\n",
       " 'E:/Data/Monitor Data/final_wrist_raw_csv\\\\AG_AM19WRT (2017-11-06)RAW.csv',\n",
       " 'E:/Data/Monitor Data/final_wrist_raw_csv\\\\AG_AM20WRT (2017-11-27)RAW.csv',\n",
       " 'E:/Data/Monitor Data/final_wrist_raw_csv\\\\AG_AM21WRT (2018-01-11)RAW.csv',\n",
       " 'E:/Data/Monitor Data/final_wrist_raw_csv\\\\AG_AM22WRT (2018-01-19)RAW.csv',\n",
       " 'E:/Data/Monitor Data/final_wrist_raw_csv\\\\AG_AM24WRT (2018-02-02)RAW.csv',\n",
       " 'E:/Data/Monitor Data/final_wrist_raw_csv\\\\AG_AM25WRT (2018-02-14)RAW.csv',\n",
       " 'E:/Data/Monitor Data/final_wrist_raw_csv\\\\AG_AM26WRT (2018-02-21)RAW.csv',\n",
       " 'E:/Data/Monitor Data/final_wrist_raw_csv\\\\AG_AM27WRT (2018-05-17)RAW.csv']"
      ]
     },
     "execution_count": 5,
     "metadata": {},
     "output_type": "execute_result"
    }
   ],
   "source": [
    "wrist_files"
   ]
  },
  {
   "cell_type": "code",
   "execution_count": 6,
   "id": "continent-allergy",
   "metadata": {},
   "outputs": [
    {
     "data": {
      "text/plain": [
       "['E:/Data/Monitor Data/hip\\\\AG_AM01HIP (2017-07-14)RAW.csv',\n",
       " 'E:/Data/Monitor Data/hip\\\\AG_AM01reHIP (2017-10-02)RAW.csv',\n",
       " 'E:/Data/Monitor Data/hip\\\\AG_AM02HIP (2017-07-19)RAW.csv',\n",
       " 'E:/Data/Monitor Data/hip\\\\AG_AM03HIP (2017-07-24)RAW.csv',\n",
       " 'E:/Data/Monitor Data/hip\\\\AG_AM04reHIP (2017-09-11)RAW.csv',\n",
       " 'E:/Data/Monitor Data/hip\\\\AG_AM05reHIP (2017-09-19)RAW.csv',\n",
       " 'E:/Data/Monitor Data/hip\\\\AG_AM06HIP (2017-07-27)RAW.csv',\n",
       " 'E:/Data/Monitor Data/hip\\\\AG_AM07HIP (2017-07-31)RAW.csv',\n",
       " 'E:/Data/Monitor Data/hip\\\\AG_AM08HIP (2017-08-01)RAW.csv',\n",
       " 'E:/Data/Monitor Data/hip\\\\AG_AM09HIP (2017-08-08)RAW.csv',\n",
       " 'E:/Data/Monitor Data/hip\\\\AG_AM10HIP (2017-08-10)RAW.csv',\n",
       " 'E:/Data/Monitor Data/hip\\\\AG_AM11HIP (2017-08-30)RAW.csv',\n",
       " 'E:/Data/Monitor Data/hip\\\\AG_AM12HIP (2017-09-13)RAW.csv',\n",
       " 'E:/Data/Monitor Data/hip\\\\AG_AM13HIP (2017-09-18)RAW.csv',\n",
       " 'E:/Data/Monitor Data/hip\\\\AG_AM14HIP (2017-09-19)RAW.csv',\n",
       " 'E:/Data/Monitor Data/hip\\\\AG_AM15HIP (2017-10-09)RAW.csv',\n",
       " 'E:/Data/Monitor Data/hip\\\\AG_AM16HIP (2017-10-06)RAW.csv',\n",
       " 'E:/Data/Monitor Data/hip\\\\AG_AM17HIP (2017-10-23)RAW.csv',\n",
       " 'E:/Data/Monitor Data/hip\\\\AG_AM18HIP (2017-11-01)RAW.csv',\n",
       " 'E:/Data/Monitor Data/hip\\\\AG_AM19HIP (2017-11-06)RAW.csv',\n",
       " 'E:/Data/Monitor Data/hip\\\\AG_AM20HIP (2017-11-27)RAW.csv',\n",
       " 'E:/Data/Monitor Data/hip\\\\AG_AM21HIP (2018-01-11)RAW.csv',\n",
       " 'E:/Data/Monitor Data/hip\\\\AG_AM22HIP (2018-01-19)RAW.csv',\n",
       " 'E:/Data/Monitor Data/hip\\\\AG_AM23HIP (2018-01-29)RAW.csv',\n",
       " 'E:/Data/Monitor Data/hip\\\\AG_AM24HIP (2018-02-02)RAW.csv',\n",
       " 'E:/Data/Monitor Data/hip\\\\AG_AM25HIP (2018-02-14)RAW.csv',\n",
       " 'E:/Data/Monitor Data/hip\\\\AG_AM26HIP (2018-02-21)RAW.csv',\n",
       " 'E:/Data/Monitor Data/hip\\\\AG_AM27HIP (2018-05-17)RAW.csv']"
      ]
     },
     "execution_count": 6,
     "metadata": {},
     "output_type": "execute_result"
    }
   ],
   "source": [
    "hip_files"
   ]
  },
  {
   "cell_type": "code",
   "execution_count": 7,
   "id": "prompt-range",
   "metadata": {},
   "outputs": [],
   "source": [
    "aggregate_files(wrist_files, output_wrist_dir)"
   ]
  },
  {
   "cell_type": "code",
   "execution_count": 8,
   "id": "decent-elements",
   "metadata": {},
   "outputs": [],
   "source": [
    "aggregate_files(hip_files, output_hip_dir)"
   ]
  },
  {
   "cell_type": "code",
   "execution_count": 9,
   "id": "labeled-stephen",
   "metadata": {},
   "outputs": [],
   "source": [
    "output_chest_dir = \"chest_agg\"\n",
    "output_thigh_dir = \"thigh_agg\"\n",
    "\n",
    "midpath = \"BioStampRC/*/*/\"\n",
    "\n",
    "endpath = \"*/*/accel.csv\"\n",
    "\n",
    "chest_files = glob.glob(path + midpath + \"medial_chest/\" + endpath)\n",
    "thigh_files = glob.glob(path + midpath + \"anterior_thigh_*/\" + endpath)\n",
    "annotations = glob.glob(path + midpath + \"annotations.csv\")"
   ]
  },
  {
   "cell_type": "code",
   "execution_count": 10,
   "id": "suited-polyester",
   "metadata": {},
   "outputs": [
    {
     "data": {
      "text/plain": [
       "['E:/Data/Monitor Data/BioStampRC\\\\AM_01re\\\\DO1\\\\medial_chest\\\\d5la7ycy\\\\2017-10-04T01-44-01-387Z\\\\accel.csv',\n",
       " 'E:/Data/Monitor Data/BioStampRC\\\\AM_01re\\\\DO2\\\\medial_chest\\\\d5la7ydg\\\\2017-10-06T23-42-20-227Z\\\\accel.csv',\n",
       " 'E:/Data/Monitor Data/BioStampRC\\\\AM_02\\\\DO1A\\\\medial_chest\\\\d5la7xya\\\\2017-07-25T14-42-49-390Z\\\\accel.csv',\n",
       " 'E:/Data/Monitor Data/BioStampRC\\\\AM_02\\\\DO2H\\\\medial_chest\\\\d5la7ye3\\\\2017-07-24T20-15-14-377Z\\\\accel.csv',\n",
       " 'E:/Data/Monitor Data/BioStampRC\\\\AM_03\\\\DO1\\\\medial_chest\\\\d5la7ye3\\\\2017-07-25T20-56-38-516Z\\\\accel.csv',\n",
       " 'E:/Data/Monitor Data/BioStampRC\\\\AM_03\\\\DO2\\\\medial_chest\\\\d5la7ye3\\\\2017-07-27T20-03-39-175Z\\\\accel.csv',\n",
       " 'E:/Data/Monitor Data/BioStampRC\\\\AM_04re\\\\DO1\\\\medial_chest\\\\d5la7ycy\\\\2017-09-12T19-00-06-680Z\\\\accel.csv',\n",
       " 'E:/Data/Monitor Data/BioStampRC\\\\AM_04re\\\\DO2\\\\medial_chest\\\\d5la7ydg\\\\2017-09-17T21-13-53-301Z\\\\accel.csv',\n",
       " 'E:/Data/Monitor Data/BioStampRC\\\\AM_05re\\\\DO1\\\\medial_chest\\\\d5la7ydg\\\\2017-09-20T00-27-48-556Z\\\\accel.csv',\n",
       " 'E:/Data/Monitor Data/BioStampRC\\\\AM_05re\\\\DO2\\\\medial_chest\\\\d5la7ydg\\\\2017-09-20T02-36-28-308Z\\\\accel.csv',\n",
       " 'E:/Data/Monitor Data/BioStampRC\\\\AM_06\\\\DO1\\\\medial_chest\\\\d5la7xya\\\\2017-07-31T15-33-48-535Z\\\\accel.csv',\n",
       " 'E:/Data/Monitor Data/BioStampRC\\\\AM_06\\\\DO2\\\\medial_chest\\\\d5la7ye3\\\\2017-08-01T15-01-32-259Z\\\\accel.csv',\n",
       " 'E:/Data/Monitor Data/BioStampRC\\\\AM_07\\\\DO1\\\\medial_chest\\\\d5la7ye3\\\\2017-08-02T16-00-28-004Z\\\\accel.csv',\n",
       " 'E:/Data/Monitor Data/BioStampRC\\\\AM_07\\\\DO2\\\\medial_chest\\\\d5la7ye3\\\\2017-08-02T18-30-27-585Z\\\\accel.csv',\n",
       " 'E:/Data/Monitor Data/BioStampRC\\\\AM_08\\\\DO1\\\\medial_chest\\\\d5la7y9s\\\\2017-08-03T16-07-57-217Z\\\\accel.csv',\n",
       " 'E:/Data/Monitor Data/BioStampRC\\\\AM_08\\\\DO2\\\\medial_chest\\\\d5la7xqf\\\\2017-08-07T16-28-37-071Z\\\\accel.csv',\n",
       " 'E:/Data/Monitor Data/BioStampRC\\\\AM_09\\\\DO1\\\\medial_chest\\\\d5la7y9s\\\\2017-08-10T20-17-43-373Z\\\\accel.csv',\n",
       " 'E:/Data/Monitor Data/BioStampRC\\\\AM_09\\\\DO2\\\\medial_chest\\\\d5la7y9s\\\\2017-08-10T23-15-35-054Z\\\\accel.csv',\n",
       " 'E:/Data/Monitor Data/BioStampRC\\\\AM_10\\\\DO1\\\\medial_chest\\\\d5la7ydg\\\\2017-08-16T00-37-12-784Z\\\\accel.csv',\n",
       " 'E:/Data/Monitor Data/BioStampRC\\\\AM_10\\\\DO2\\\\medial_chest\\\\d5la7ye3\\\\2017-08-16T18-18-01-177Z\\\\accel.csv',\n",
       " 'E:/Data/Monitor Data/BioStampRC\\\\AM_11\\\\DO1\\\\medial_chest\\\\d5la7ydg\\\\2017-09-02T19-12-07-960Z\\\\accel.csv',\n",
       " 'E:/Data/Monitor Data/BioStampRC\\\\AM_11\\\\DO2\\\\medial_chest\\\\d5la7ye3\\\\2017-09-05T16-10-12-964Z\\\\accel.csv',\n",
       " 'E:/Data/Monitor Data/BioStampRC\\\\AM_12\\\\DO1\\\\medial_chest\\\\d5la7ycy\\\\2017-09-17T18-13-25-893Z\\\\accel.csv',\n",
       " 'E:/Data/Monitor Data/BioStampRC\\\\AM_12\\\\DO2\\\\medial_chest\\\\d5la7ye3\\\\2017-09-19T01-57-17-226Z\\\\accel.csv',\n",
       " 'E:/Data/Monitor Data/BioStampRC\\\\AM_13\\\\DO1\\\\medial_chest\\\\d5la7ycy\\\\2017-09-20T17-35-15-823Z\\\\accel.csv',\n",
       " 'E:/Data/Monitor Data/BioStampRC\\\\AM_13\\\\DO2\\\\medial_chest\\\\d5la7ydg\\\\2017-09-21T18-27-35-518Z\\\\accel.csv',\n",
       " 'E:/Data/Monitor Data/BioStampRC\\\\AM_14\\\\DO1\\\\medial_chest\\\\d5la7y9s\\\\2017-09-21T21-17-44-308Z\\\\accel.csv',\n",
       " 'E:/Data/Monitor Data/BioStampRC\\\\AM_14\\\\DO2\\\\medial_chest\\\\d5la7y9s\\\\2017-09-23T16-09-29-720Z\\\\accel.csv',\n",
       " 'E:/Data/Monitor Data/BioStampRC\\\\AM_15\\\\DO1\\\\medial_chest\\\\d5la7xya\\\\2017-10-13T16-49-22-526Z\\\\accel.csv',\n",
       " 'E:/Data/Monitor Data/BioStampRC\\\\AM_15\\\\DO2\\\\medial_chest\\\\d5la7ycy\\\\2017-10-13T22-50-06-719Z\\\\accel.csv',\n",
       " 'E:/Data/Monitor Data/BioStampRC\\\\AM_16\\\\DO1\\\\medial_chest\\\\d5la7ycy\\\\2017-10-08T00-44-25-215Z\\\\accel.csv',\n",
       " 'E:/Data/Monitor Data/BioStampRC\\\\AM_16\\\\DO2\\\\medial_chest\\\\d5la7y9s\\\\2017-10-11T14-52-14-900Z\\\\accel.csv',\n",
       " 'E:/Data/Monitor Data/BioStampRC\\\\AM_17\\\\DO1\\\\medial_chest\\\\d5la7ydg\\\\2017-10-25T01-29-33-867Z\\\\accel.csv',\n",
       " 'E:/Data/Monitor Data/BioStampRC\\\\AM_17\\\\DO2\\\\medial_chest\\\\d5la7xqf\\\\2017-10-27T16-06-15-882Z\\\\accel.csv',\n",
       " 'E:/Data/Monitor Data/BioStampRC\\\\AM_18\\\\DO1\\\\medial_chest\\\\d5la7ycy\\\\2017-11-04T21-54-14-700Z\\\\accel.csv',\n",
       " 'E:/Data/Monitor Data/BioStampRC\\\\AM_18\\\\DO2\\\\medial_chest\\\\d5la7ycy\\\\2017-11-05T00-04-29-797Z\\\\accel.csv',\n",
       " 'E:/Data/Monitor Data/BioStampRC\\\\AM_19\\\\DO1\\\\medial_chest\\\\d5la7ydg\\\\2017-11-09T19-32-24-553Z\\\\accel.csv',\n",
       " 'E:/Data/Monitor Data/BioStampRC\\\\AM_19\\\\DO2\\\\medial_chest\\\\d5la7ydg\\\\2017-11-09T21-38-59-018Z\\\\accel.csv',\n",
       " 'E:/Data/Monitor Data/BioStampRC\\\\AM_20\\\\DO1\\\\medial_chest\\\\d5la7ydg\\\\2017-12-02T19-01-29-889Z\\\\accel.csv',\n",
       " 'E:/Data/Monitor Data/BioStampRC\\\\AM_20\\\\DO2\\\\medial_chest\\\\d5la7xqf\\\\2017-12-03T17-37-50-735Z\\\\accel.csv',\n",
       " 'E:/Data/Monitor Data/BioStampRC\\\\AM_21\\\\DO1\\\\medial_chest\\\\d5la7xqf\\\\2018-01-17T16-24-43-485Z\\\\accel.csv',\n",
       " 'E:/Data/Monitor Data/BioStampRC\\\\AM_21\\\\DO2\\\\medial_chest\\\\d5la7xqf\\\\2018-01-17T20-09-33-793Z\\\\accel.csv',\n",
       " 'E:/Data/Monitor Data/BioStampRC\\\\AM_22\\\\DO1\\\\medial_chest\\\\d5la7ye3\\\\2018-01-20T19-02-56-716Z\\\\accel.csv',\n",
       " 'E:/Data/Monitor Data/BioStampRC\\\\AM_22\\\\DO2\\\\medial_chest\\\\d5la7ye3\\\\2018-01-20T21-15-14-271Z\\\\accel.csv',\n",
       " 'E:/Data/Monitor Data/BioStampRC\\\\AM_24\\\\DO1\\\\medial_chest\\\\d5la7ycy\\\\2018-02-06T01-02-16-602Z\\\\accel.csv',\n",
       " 'E:/Data/Monitor Data/BioStampRC\\\\AM_24\\\\DO2\\\\medial_chest\\\\d5la7ye3\\\\2018-02-08T20-06-44-226Z\\\\accel.csv',\n",
       " 'E:/Data/Monitor Data/BioStampRC\\\\AM_25\\\\DO1\\\\medial_chest\\\\d5la7ycy\\\\2018-02-17T17-08-56-209Z\\\\accel.csv',\n",
       " 'E:/Data/Monitor Data/BioStampRC\\\\AM_25\\\\DO2\\\\medial_chest\\\\d5la7ycy\\\\2018-02-17T19-17-10-765Z\\\\accel.csv',\n",
       " 'E:/Data/Monitor Data/BioStampRC\\\\AM_26\\\\DO1\\\\medial_chest\\\\d5la7ydg\\\\2018-02-24T21-04-33-032Z\\\\accel.csv',\n",
       " 'E:/Data/Monitor Data/BioStampRC\\\\AM_26\\\\DO2\\\\medial_chest\\\\d5la7ydg\\\\2018-02-24T23-24-56-216Z\\\\accel.csv',\n",
       " 'E:/Data/Monitor Data/BioStampRC\\\\AM_27\\\\DO1\\\\medial_chest\\\\d5la7xqf\\\\2018-05-18T21-38-32-262Z\\\\accel.csv',\n",
       " 'E:/Data/Monitor Data/BioStampRC\\\\AM_27\\\\DO2\\\\medial_chest\\\\d5la7xqf\\\\2018-05-19T00-13-15-888Z\\\\accel.csv']"
      ]
     },
     "execution_count": 10,
     "metadata": {},
     "output_type": "execute_result"
    }
   ],
   "source": [
    "chest_files"
   ]
  },
  {
   "cell_type": "code",
   "execution_count": 11,
   "id": "distributed-gospel",
   "metadata": {},
   "outputs": [
    {
     "data": {
      "text/plain": [
       "['E:/Data/Monitor Data/BioStampRC\\\\AM_01re\\\\DO1\\\\anterior_thigh_left\\\\d5la7xya\\\\2017-10-04T01-43-57-110Z\\\\accel.csv',\n",
       " 'E:/Data/Monitor Data/BioStampRC\\\\AM_01re\\\\DO2\\\\anterior_thigh_left\\\\d5la7y9s\\\\2017-10-06T23-42-16-622Z\\\\accel.csv',\n",
       " 'E:/Data/Monitor Data/BioStampRC\\\\AM_02\\\\DO1A\\\\anterior_thigh_left\\\\d5la7ydg\\\\2017-07-25T14-42-45-789Z\\\\accel.csv',\n",
       " 'E:/Data/Monitor Data/BioStampRC\\\\AM_02\\\\DO2H\\\\anterior_thigh_left\\\\d5la7ycy\\\\2017-07-24T20-15-10-645Z\\\\accel.csv',\n",
       " 'E:/Data/Monitor Data/BioStampRC\\\\AM_03\\\\DO1\\\\anterior_thigh_left\\\\d5la7ycy\\\\2017-07-25T20-56-34-816Z\\\\accel.csv',\n",
       " 'E:/Data/Monitor Data/BioStampRC\\\\AM_03\\\\DO2\\\\anterior_thigh_left\\\\d5la7xqf\\\\2017-07-27T20-03-35-756Z\\\\accel.csv',\n",
       " 'E:/Data/Monitor Data/BioStampRC\\\\AM_04re\\\\DO1\\\\anterior_thigh_left\\\\d5la7xya\\\\2017-09-12T19-00-02-562Z\\\\accel.csv',\n",
       " 'E:/Data/Monitor Data/BioStampRC\\\\AM_04re\\\\DO2\\\\anterior_thigh_left\\\\d5la7ycy\\\\2017-09-17T21-13-49-659Z\\\\accel.csv',\n",
       " 'E:/Data/Monitor Data/BioStampRC\\\\AM_05re\\\\DO1\\\\anterior_thigh_left\\\\d5la7ye3\\\\2017-09-20T00-27-51-934Z\\\\accel.csv',\n",
       " 'E:/Data/Monitor Data/BioStampRC\\\\AM_05re\\\\DO2\\\\anterior_thigh_left\\\\d5la7ye3\\\\2017-09-20T02-36-32-334Z\\\\accel.csv',\n",
       " 'E:/Data/Monitor Data/BioStampRC\\\\AM_06\\\\DO1\\\\anterior_thigh_left\\\\d5la7ydg\\\\2017-07-31T15-33-45-034Z\\\\accel.csv',\n",
       " 'E:/Data/Monitor Data/BioStampRC\\\\AM_06\\\\DO2\\\\anterior_thigh_left\\\\d5la7y9s\\\\2017-08-01T15-01-28-770Z\\\\accel.csv',\n",
       " 'E:/Data/Monitor Data/BioStampRC\\\\AM_07\\\\DO1\\\\anterior_thigh_left\\\\d5la7ydg\\\\2017-08-02T16-00-24-052Z\\\\accel.csv',\n",
       " 'E:/Data/Monitor Data/BioStampRC\\\\AM_07\\\\DO2\\\\anterior_thigh_left\\\\d5la7ydg\\\\2017-08-02T18-30-32-297Z\\\\accel.csv',\n",
       " 'E:/Data/Monitor Data/BioStampRC\\\\AM_08\\\\DO1\\\\anterior_thigh_left\\\\d5la7xya\\\\2017-08-03T16-08-00-810Z\\\\accel.csv',\n",
       " 'E:/Data/Monitor Data/BioStampRC\\\\AM_08\\\\DO2\\\\anterior_thigh_left\\\\d5la7ycy\\\\2017-08-07T16-27-55-493Z\\\\accel.csv',\n",
       " 'E:/Data/Monitor Data/BioStampRC\\\\AM_09\\\\DO1\\\\anterior_thigh_left\\\\d5la7xya\\\\2017-08-10T20-17-47-046Z\\\\accel.csv',\n",
       " 'E:/Data/Monitor Data/BioStampRC\\\\AM_09\\\\DO2\\\\anterior_thigh_left\\\\d5la7xya\\\\2017-08-10T23-15-31-435Z\\\\accel.csv',\n",
       " 'E:/Data/Monitor Data/BioStampRC\\\\AM_10\\\\DO1\\\\anterior_thigh_left\\\\d5la7xya\\\\2017-08-16T00-37-20-793Z\\\\accel.csv',\n",
       " 'E:/Data/Monitor Data/BioStampRC\\\\AM_10\\\\DO2\\\\anterior_thigh_left\\\\d5la7ycy\\\\2017-08-16T18-17-57-740Z\\\\accel.csv',\n",
       " 'E:/Data/Monitor Data/BioStampRC\\\\AM_11\\\\DO1\\\\anterior_thigh_left\\\\d5la7y9s\\\\2017-09-02T19-12-04-086Z\\\\accel.csv',\n",
       " 'E:/Data/Monitor Data/BioStampRC\\\\AM_11\\\\DO2\\\\anterior_thigh_left\\\\d5la7xqf\\\\2017-09-05T16-10-09-137Z\\\\accel.csv',\n",
       " 'E:/Data/Monitor Data/BioStampRC\\\\AM_12\\\\DO1\\\\anterior_thigh_right\\\\d5la7ydg\\\\2017-09-17T18-13-21-796Z\\\\accel.csv',\n",
       " 'E:/Data/Monitor Data/BioStampRC\\\\AM_12\\\\DO2\\\\anterior_thigh_right\\\\d5la7ycy\\\\2017-09-19T01-57-13-043Z\\\\accel.csv',\n",
       " 'E:/Data/Monitor Data/BioStampRC\\\\AM_13\\\\DO1\\\\anterior_thigh_left\\\\d5la7xya\\\\2017-09-20T17-40-17-802Z\\\\accel.csv',\n",
       " 'E:/Data/Monitor Data/BioStampRC\\\\AM_13\\\\DO2\\\\anterior_thigh_left\\\\d5la7ye3\\\\2017-09-21T18-27-31-872Z\\\\accel.csv',\n",
       " 'E:/Data/Monitor Data/BioStampRC\\\\AM_14\\\\DO1\\\\anterior_thigh_left\\\\d5la7xqf\\\\2017-09-21T21-17-40-764Z\\\\accel.csv',\n",
       " 'E:/Data/Monitor Data/BioStampRC\\\\AM_14\\\\DO2\\\\anterior_thigh_left\\\\d5la7ycy\\\\2017-09-23T16-09-33-387Z\\\\accel.csv',\n",
       " 'E:/Data/Monitor Data/BioStampRC\\\\AM_15\\\\DO1\\\\anterior_thigh_left\\\\d5la7y9s\\\\2017-10-13T16-48-56-392Z\\\\accel.csv',\n",
       " 'E:/Data/Monitor Data/BioStampRC\\\\AM_15\\\\DO2\\\\anterior_thigh_left\\\\d5la7y9s\\\\2017-10-13T22-50-02-400Z\\\\accel.csv',\n",
       " 'E:/Data/Monitor Data/BioStampRC\\\\AM_16\\\\DO1\\\\anterior_thigh_left\\\\d5la7xya\\\\2017-10-08T00-44-21-743Z\\\\accel.csv',\n",
       " 'E:/Data/Monitor Data/BioStampRC\\\\AM_16\\\\DO2\\\\anterior_thigh_left\\\\d5la7ydg\\\\2017-10-11T14-52-18-435Z\\\\accel.csv',\n",
       " 'E:/Data/Monitor Data/BioStampRC\\\\AM_17\\\\DO1\\\\anterior_thigh_left\\\\d5la7xya\\\\2017-10-25T01-29-29-530Z\\\\accel.csv',\n",
       " 'E:/Data/Monitor Data/BioStampRC\\\\AM_17\\\\DO2\\\\anterior_thigh_left\\\\d5la7xya\\\\2017-10-27T16-06-12-214Z\\\\accel.csv',\n",
       " 'E:/Data/Monitor Data/BioStampRC\\\\AM_18\\\\DO1\\\\anterior_thigh_left\\\\d5la7xqf\\\\2017-11-04T21-54-11-337Z\\\\accel.csv',\n",
       " 'E:/Data/Monitor Data/BioStampRC\\\\AM_18\\\\DO2\\\\anterior_thigh_left\\\\d5la7xqf\\\\2017-11-05T00-04-34-295Z\\\\accel.csv',\n",
       " 'E:/Data/Monitor Data/BioStampRC\\\\AM_19\\\\DO1\\\\anterior_thigh_right\\\\d5la7xya\\\\2017-11-09T19-32-28-154Z\\\\accel.csv',\n",
       " 'E:/Data/Monitor Data/BioStampRC\\\\AM_19\\\\DO2\\\\anterior_thigh_right\\\\d5la7xya\\\\2017-11-09T21-39-02-814Z\\\\accel.csv',\n",
       " 'E:/Data/Monitor Data/BioStampRC\\\\AM_20\\\\DO1\\\\anterior_thigh_left\\\\d5la7xya\\\\2017-12-02T19-01-33-489Z\\\\accel.csv',\n",
       " 'E:/Data/Monitor Data/BioStampRC\\\\AM_20\\\\DO2\\\\anterior_thigh_left\\\\d5la7ydg\\\\2017-12-03T17-37-24-418Z\\\\accel.csv',\n",
       " 'E:/Data/Monitor Data/BioStampRC\\\\AM_21\\\\DO1\\\\anterior_thigh_left\\\\d5la7ydg\\\\2018-01-17T16-24-39-750Z\\\\accel.csv',\n",
       " 'E:/Data/Monitor Data/BioStampRC\\\\AM_21\\\\DO2\\\\anterior_thigh_left\\\\d5la7ydg\\\\2018-01-17T20-09-30-040Z\\\\accel.csv',\n",
       " 'E:/Data/Monitor Data/BioStampRC\\\\AM_22\\\\DO1\\\\anterior_thigh_left\\\\d5la7y9s\\\\2018-01-20T19-02-26-127Z\\\\accel.csv',\n",
       " 'E:/Data/Monitor Data/BioStampRC\\\\AM_22\\\\DO2\\\\anterior_thigh_left\\\\d5la7y9s\\\\2018-01-20T21-15-10-416Z\\\\accel.csv',\n",
       " 'E:/Data/Monitor Data/BioStampRC\\\\AM_24\\\\DO1\\\\anterior_thigh_left\\\\d5la7xya\\\\2018-02-06T01-02-12-810Z\\\\accel.csv',\n",
       " 'E:/Data/Monitor Data/BioStampRC\\\\AM_24\\\\DO2\\\\anterior_thigh_left\\\\d5la7ycy\\\\2018-02-08T20-06-40-672Z\\\\accel.csv',\n",
       " 'E:/Data/Monitor Data/BioStampRC\\\\AM_25\\\\DO1\\\\anterior_thigh_left\\\\d5la7y9s\\\\2018-02-17T17-08-52-824Z\\\\accel.csv',\n",
       " 'E:/Data/Monitor Data/BioStampRC\\\\AM_25\\\\DO2\\\\anterior_thigh_left\\\\d5la7y9s\\\\2018-02-17T19-16-47-960Z\\\\accel.csv',\n",
       " 'E:/Data/Monitor Data/BioStampRC\\\\AM_26\\\\DO1\\\\anterior_thigh_left\\\\d5la7ycy\\\\2018-02-24T21-04-37-063Z\\\\accel.csv',\n",
       " 'E:/Data/Monitor Data/BioStampRC\\\\AM_26\\\\DO2\\\\anterior_thigh_left\\\\d5la7ycy\\\\2018-02-24T23-24-59-939Z\\\\accel.csv',\n",
       " 'E:/Data/Monitor Data/BioStampRC\\\\AM_27\\\\DO1\\\\anterior_thigh_left\\\\d5la7xya\\\\2018-05-18T21-38-28-697Z\\\\accel.csv',\n",
       " 'E:/Data/Monitor Data/BioStampRC\\\\AM_27\\\\DO2\\\\anterior_thigh_left\\\\d5la7xya\\\\2018-05-19T00-13-12-157Z\\\\accel.csv']"
      ]
     },
     "execution_count": 11,
     "metadata": {},
     "output_type": "execute_result"
    }
   ],
   "source": [
    "thigh_files"
   ]
  },
  {
   "cell_type": "code",
   "execution_count": 12,
   "id": "compact-belize",
   "metadata": {},
   "outputs": [
    {
     "data": {
      "text/plain": [
       "['E:/Data/Monitor Data/BioStampRC\\\\AM_01re\\\\DO1\\\\annotations.csv',\n",
       " 'E:/Data/Monitor Data/BioStampRC\\\\AM_01re\\\\DO2\\\\annotations.csv',\n",
       " 'E:/Data/Monitor Data/BioStampRC\\\\AM_02\\\\DO1A\\\\annotations.csv',\n",
       " 'E:/Data/Monitor Data/BioStampRC\\\\AM_02\\\\DO2H\\\\annotations.csv',\n",
       " 'E:/Data/Monitor Data/BioStampRC\\\\AM_03\\\\DO1\\\\annotations.csv',\n",
       " 'E:/Data/Monitor Data/BioStampRC\\\\AM_03\\\\DO2\\\\annotations.csv',\n",
       " 'E:/Data/Monitor Data/BioStampRC\\\\AM_04re\\\\DO1\\\\annotations.csv',\n",
       " 'E:/Data/Monitor Data/BioStampRC\\\\AM_04re\\\\DO2\\\\annotations.csv',\n",
       " 'E:/Data/Monitor Data/BioStampRC\\\\AM_05re\\\\DO1\\\\annotations.csv',\n",
       " 'E:/Data/Monitor Data/BioStampRC\\\\AM_05re\\\\DO2\\\\annotations.csv',\n",
       " 'E:/Data/Monitor Data/BioStampRC\\\\AM_06\\\\DO1\\\\annotations.csv',\n",
       " 'E:/Data/Monitor Data/BioStampRC\\\\AM_06\\\\DO2\\\\annotations.csv',\n",
       " 'E:/Data/Monitor Data/BioStampRC\\\\AM_07\\\\DO1\\\\annotations.csv',\n",
       " 'E:/Data/Monitor Data/BioStampRC\\\\AM_07\\\\DO2\\\\annotations.csv',\n",
       " 'E:/Data/Monitor Data/BioStampRC\\\\AM_08\\\\DO1\\\\annotations.csv',\n",
       " 'E:/Data/Monitor Data/BioStampRC\\\\AM_08\\\\DO2\\\\annotations.csv',\n",
       " 'E:/Data/Monitor Data/BioStampRC\\\\AM_09\\\\DO1\\\\annotations.csv',\n",
       " 'E:/Data/Monitor Data/BioStampRC\\\\AM_09\\\\DO2\\\\annotations.csv',\n",
       " 'E:/Data/Monitor Data/BioStampRC\\\\AM_10\\\\DO1\\\\annotations.csv',\n",
       " 'E:/Data/Monitor Data/BioStampRC\\\\AM_10\\\\DO2\\\\annotations.csv',\n",
       " 'E:/Data/Monitor Data/BioStampRC\\\\AM_11\\\\DO1\\\\annotations.csv',\n",
       " 'E:/Data/Monitor Data/BioStampRC\\\\AM_11\\\\DO2\\\\annotations.csv',\n",
       " 'E:/Data/Monitor Data/BioStampRC\\\\AM_12\\\\DO1\\\\annotations.csv',\n",
       " 'E:/Data/Monitor Data/BioStampRC\\\\AM_12\\\\DO2\\\\annotations.csv',\n",
       " 'E:/Data/Monitor Data/BioStampRC\\\\AM_13\\\\DO1\\\\annotations.csv',\n",
       " 'E:/Data/Monitor Data/BioStampRC\\\\AM_13\\\\DO2\\\\annotations.csv',\n",
       " 'E:/Data/Monitor Data/BioStampRC\\\\AM_14\\\\DO1\\\\annotations.csv',\n",
       " 'E:/Data/Monitor Data/BioStampRC\\\\AM_14\\\\DO2\\\\annotations.csv',\n",
       " 'E:/Data/Monitor Data/BioStampRC\\\\AM_15\\\\DO1\\\\annotations.csv',\n",
       " 'E:/Data/Monitor Data/BioStampRC\\\\AM_15\\\\DO2\\\\annotations.csv',\n",
       " 'E:/Data/Monitor Data/BioStampRC\\\\AM_16\\\\DO1\\\\annotations.csv',\n",
       " 'E:/Data/Monitor Data/BioStampRC\\\\AM_16\\\\DO2\\\\annotations.csv',\n",
       " 'E:/Data/Monitor Data/BioStampRC\\\\AM_17\\\\DO1\\\\annotations.csv',\n",
       " 'E:/Data/Monitor Data/BioStampRC\\\\AM_17\\\\DO2\\\\annotations.csv',\n",
       " 'E:/Data/Monitor Data/BioStampRC\\\\AM_18\\\\DO1\\\\annotations.csv',\n",
       " 'E:/Data/Monitor Data/BioStampRC\\\\AM_18\\\\DO2\\\\annotations.csv',\n",
       " 'E:/Data/Monitor Data/BioStampRC\\\\AM_19\\\\DO1\\\\annotations.csv',\n",
       " 'E:/Data/Monitor Data/BioStampRC\\\\AM_19\\\\DO2\\\\annotations.csv',\n",
       " 'E:/Data/Monitor Data/BioStampRC\\\\AM_20\\\\DO1\\\\annotations.csv',\n",
       " 'E:/Data/Monitor Data/BioStampRC\\\\AM_20\\\\DO2\\\\annotations.csv',\n",
       " 'E:/Data/Monitor Data/BioStampRC\\\\AM_21\\\\DO1\\\\annotations.csv',\n",
       " 'E:/Data/Monitor Data/BioStampRC\\\\AM_21\\\\DO2\\\\annotations.csv',\n",
       " 'E:/Data/Monitor Data/BioStampRC\\\\AM_22\\\\DO1\\\\annotations.csv',\n",
       " 'E:/Data/Monitor Data/BioStampRC\\\\AM_22\\\\DO2\\\\annotations.csv',\n",
       " 'E:/Data/Monitor Data/BioStampRC\\\\AM_24\\\\DO1\\\\annotations.csv',\n",
       " 'E:/Data/Monitor Data/BioStampRC\\\\AM_24\\\\DO2\\\\annotations.csv',\n",
       " 'E:/Data/Monitor Data/BioStampRC\\\\AM_25\\\\DO1\\\\annotations.csv',\n",
       " 'E:/Data/Monitor Data/BioStampRC\\\\AM_25\\\\DO2\\\\annotations.csv',\n",
       " 'E:/Data/Monitor Data/BioStampRC\\\\AM_26\\\\DO1\\\\annotations.csv',\n",
       " 'E:/Data/Monitor Data/BioStampRC\\\\AM_26\\\\DO2\\\\annotations.csv',\n",
       " 'E:/Data/Monitor Data/BioStampRC\\\\AM_27\\\\DO1\\\\annotations.csv',\n",
       " 'E:/Data/Monitor Data/BioStampRC\\\\AM_27\\\\DO2\\\\annotations.csv']"
      ]
     },
     "execution_count": 12,
     "metadata": {},
     "output_type": "execute_result"
    }
   ],
   "source": [
    "annotations"
   ]
  },
  {
   "cell_type": "code",
   "execution_count": 13,
   "id": "advanced-punch",
   "metadata": {},
   "outputs": [
    {
     "name": "stdout",
     "output_type": "stream",
     "text": [
      "52\n",
      "52\n",
      "52\n"
     ]
    }
   ],
   "source": [
    "print(len(chest_files))\n",
    "print(len(thigh_files))\n",
    "print(len(annotations))"
   ]
  },
  {
   "cell_type": "code",
   "execution_count": 14,
   "id": "several-notification",
   "metadata": {},
   "outputs": [],
   "source": [
    "data = pd.read_csv(chest_files[0])"
   ]
  },
  {
   "cell_type": "code",
   "execution_count": 15,
   "id": "engaging-rabbit",
   "metadata": {},
   "outputs": [
    {
     "data": {
      "text/plain": [
       "0        2017-10-04 01:44:01\n",
       "1        2017-10-04 01:44:01\n",
       "2        2017-10-04 01:44:01\n",
       "3        2017-10-04 01:44:01\n",
       "4        2017-10-04 01:44:01\n",
       "                 ...        \n",
       "237315   2017-10-04 03:49:04\n",
       "237316   2017-10-04 03:49:04\n",
       "237317   2017-10-04 03:49:04\n",
       "237318   2017-10-04 03:49:04\n",
       "237319   2017-10-04 03:49:04\n",
       "Name: Timestamp (ms), Length: 237320, dtype: datetime64[ns]"
      ]
     },
     "execution_count": 15,
     "metadata": {},
     "output_type": "execute_result"
    }
   ],
   "source": [
    "(data[\"Timestamp (ms)\"] // (1000)).apply(lambda x: datetime.datetime.utcfromtimestamp(x))"
   ]
  },
  {
   "cell_type": "code",
   "execution_count": 16,
   "id": "backed-clear",
   "metadata": {},
   "outputs": [],
   "source": [
    "data = pd.read_csv(chest_files[0])"
   ]
  },
  {
   "cell_type": "code",
   "execution_count": 17,
   "id": "naked-garden",
   "metadata": {},
   "outputs": [],
   "source": [
    "actual_datetime = (data[\"Timestamp (ms)\"] // 1000).apply(lambda x: datetime.datetime.utcfromtimestamp(x))"
   ]
  },
  {
   "cell_type": "code",
   "execution_count": 18,
   "id": "affiliated-holder",
   "metadata": {},
   "outputs": [
    {
     "data": {
      "text/plain": [
       "0      2017-10-04 01:44:01\n",
       "1      2017-10-04 01:44:02\n",
       "2      2017-10-04 01:44:03\n",
       "3      2017-10-04 01:44:04\n",
       "4      2017-10-04 01:44:05\n",
       "               ...        \n",
       "7651   2017-10-04 03:49:00\n",
       "7652   2017-10-04 03:49:01\n",
       "7653   2017-10-04 03:49:02\n",
       "7654   2017-10-04 03:49:03\n",
       "7655   2017-10-04 03:49:03\n",
       "Name: Timestamp (ms), Length: 7656, dtype: datetime64[ns]"
      ]
     },
     "execution_count": 18,
     "metadata": {},
     "output_type": "execute_result"
    }
   ],
   "source": [
    "(data.groupby(data.index // 31).mean()[\"Timestamp (ms)\"] // 1000).apply(lambda x: datetime.datetime.utcfromtimestamp(x))"
   ]
  },
  {
   "cell_type": "code",
   "execution_count": 19,
   "id": "third-ceramic",
   "metadata": {},
   "outputs": [],
   "source": [
    "#Note - There are not exactly 31 observations per second, but 31 is the closest integer to number of observations per second\n",
    "def biostamp_aggregate_files(files, output_dir, increment=31): #31 for 1s, 310 for 10s (exact value is probably closer to 308 or so, but for consistency we will use 310)\n",
    "    for i in range(len(files)):\n",
    "        file = files[i]\n",
    "        # In case we want to take anything from annotations file\n",
    "        annotation = annotations[i]\n",
    "        \n",
    "        data = pd.read_csv(file)\n",
    "        \n",
    "        agg = data.groupby(data.index // increment).mean()\n",
    "        \n",
    "        actual_datetime = (agg[\"Timestamp (ms)\"] // 1000).apply(lambda x: datetime.datetime.utcfromtimestamp(x))\n",
    "        agg[\"actual_datetime\"] = actual_datetime\n",
    "        agg.drop(\"Timestamp (ms)\", axis=1, inplace=True)\n",
    "        \n",
    "        filename = file.split(\"\\\\\")\n",
    "        agg.to_csv(output_dir + \"/\" + filename[1] + \"_\" + filename[2] + \"_\" + filename[3] + \"_accel_AGGREGATE.csv\", index = False)"
   ]
  },
  {
   "cell_type": "code",
   "execution_count": 20,
   "id": "demanding-happening",
   "metadata": {},
   "outputs": [],
   "source": [
    "biostamp_aggregate_files(chest_files, output_chest_dir)"
   ]
  },
  {
   "cell_type": "code",
   "execution_count": 21,
   "id": "cardiovascular-style",
   "metadata": {},
   "outputs": [],
   "source": [
    "biostamp_aggregate_files(thigh_files, output_thigh_dir)"
   ]
  },
  {
   "cell_type": "code",
   "execution_count": null,
   "id": "typical-elements",
   "metadata": {},
   "outputs": [],
   "source": []
  }
 ],
 "metadata": {
  "kernelspec": {
   "display_name": "Python 3",
   "language": "python",
   "name": "python3"
  },
  "language_info": {
   "codemirror_mode": {
    "name": "ipython",
    "version": 3
   },
   "file_extension": ".py",
   "mimetype": "text/x-python",
   "name": "python",
   "nbconvert_exporter": "python",
   "pygments_lexer": "ipython3",
   "version": "3.7.4"
  }
 },
 "nbformat": 4,
 "nbformat_minor": 5
}
