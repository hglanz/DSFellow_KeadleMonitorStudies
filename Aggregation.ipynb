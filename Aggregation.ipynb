{
 "cells": [
  {
   "cell_type": "code",
   "execution_count": 3,
   "metadata": {},
   "outputs": [],
   "source": [
    "#Run this line if these directories don't exist in the same directory as this notebook\n",
    "#Will probably only run this chunk the first time you run the notebook\n",
    "\n",
    "# import os\n",
    "# os.mkdir(\"wrist_agg\")\n",
    "# os.mkdir(\"hip_agg\")"
   ]
  },
  {
   "cell_type": "code",
   "execution_count": 28,
   "metadata": {},
   "outputs": [],
   "source": [
    "import glob\n",
    "import pandas as pd\n",
    "import datetime"
   ]
  },
  {
   "cell_type": "code",
   "execution_count": null,
   "metadata": {},
   "outputs": [],
   "source": [
    "def aggregate_files(files, output_dir, increment = 80):\n",
    "    for file in files:\n",
    "        data = pd.read_csv(file, skiprows=10)\n",
    "        description = pd.read_csv(file, nrows = 8)\n",
    "        \n",
    "        start_datetime_str = description.iloc[2,0][-9:] + '/' + description.iloc[1,0][-8:]\n",
    "        start_datetime = datetime.datetime.strptime(start_datetime_str, '%m/%d/%Y/%H:%M:%S')\n",
    "        \n",
    "        agg = data.groupby(data.index // increment).mean()\n",
    "        \n",
    "        agg['start_datetime'] = [start_datetime for i in range(len(agg))]\n",
    "\n",
    "        agg['actual_datetime'] = list(map(lambda x, y: x + datetime.timedelta(seconds = y), \n",
    "                                          agg['start_datetime'], \n",
    "                                          agg.index))\n",
    "        \n",
    "        filename = file.split(\"\\\\\")[1].split(\"RAW\")\n",
    "        agg.to_csv(output_dir + \"/\" + filename[0] + \"AGGREGATE\" + filename[1], index=False)"
   ]
  },
  {
   "cell_type": "code",
   "execution_count": 61,
   "metadata": {},
   "outputs": [],
   "source": [
    "output_wrist_dir = \"wrist_agg\"\n",
    "output_hip_dir = \"hip_agg\"\n",
    "\n",
    "#Location of raw wrist and hip files\n",
    "path = \"E:/Data/Monitor Data/\"\n",
    "\n",
    "wrist_files = glob.glob(path + \"final_wrist_raw_csv/*\")\n",
    "hip_files = glob.glob(path + \"hip/*\")"
   ]
  },
  {
   "cell_type": "code",
   "execution_count": null,
   "metadata": {},
   "outputs": [],
   "source": [
    "wrist_files"
   ]
  },
  {
   "cell_type": "code",
   "execution_count": null,
   "metadata": {},
   "outputs": [],
   "source": [
    "hip_files"
   ]
  },
  {
   "cell_type": "code",
   "execution_count": null,
   "metadata": {},
   "outputs": [],
   "source": [
    "aggregate_files(wrist_files, output_wrist_dir)"
   ]
  },
  {
   "cell_type": "code",
   "execution_count": null,
   "metadata": {},
   "outputs": [],
   "source": [
    "aggregate_files(hip_files, output_hip_dir)"
   ]
  }
 ],
 "metadata": {
  "kernelspec": {
   "display_name": "Python 3",
   "language": "python",
   "name": "python3"
  },
  "language_info": {
   "codemirror_mode": {
    "name": "ipython",
    "version": 3
   },
   "file_extension": ".py",
   "mimetype": "text/x-python",
   "name": "python",
   "nbconvert_exporter": "python",
   "pygments_lexer": "ipython3",
   "version": "3.8.5"
  }
 },
 "nbformat": 4,
 "nbformat_minor": 4
}
