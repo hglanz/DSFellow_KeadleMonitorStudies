{
 "cells": [
  {
   "cell_type": "code",
   "execution_count": 1,
   "id": "taken-right",
   "metadata": {},
   "outputs": [],
   "source": [
    "import numpy as np\n",
    "import pandas as pd\n",
    "from hmmlearn import hmm"
   ]
  },
  {
   "cell_type": "code",
   "execution_count": 2,
   "id": "turned-device",
   "metadata": {},
   "outputs": [],
   "source": [
    "# No need to add anything to filepath if the csv files are in the same folder.\n",
    "# If the csv files are in different folders, then add the path to the files\n",
    "\n",
    "path = \"\"\n",
    "\n",
    "data = pd.read_csv(path + \"FakeMonitorData1.csv\")\n",
    "emissionmeans = pd.read_csv(path + \"FakeMonitorEmissionMeans1.csv\")\n",
    "emissionSD1 = pd.read_csv(path + \"FakeMonitorEmissionSDs1_1.csv\")\n",
    "emissionSD2 = pd.read_csv(path + \"FakeMonitorEmissionSDs1_2.csv\")\n",
    "emissionSD3 = pd.read_csv(path + \"FakeMonitorEmissionSDs1_3.csv\")\n",
    "hiddenstates = pd.read_csv(path + \"FakeMonitorHiddenStates1.csv\")\n",
    "transitionprobs = pd.read_csv(path + \"FakeMonitorTransProbs1.csv\")"
   ]
  },
  {
   "cell_type": "code",
   "execution_count": 3,
   "id": "utility-charles",
   "metadata": {},
   "outputs": [
    {
     "data": {
      "text/html": [
       "<div>\n",
       "<style scoped>\n",
       "    .dataframe tbody tr th:only-of-type {\n",
       "        vertical-align: middle;\n",
       "    }\n",
       "\n",
       "    .dataframe tbody tr th {\n",
       "        vertical-align: top;\n",
       "    }\n",
       "\n",
       "    .dataframe thead th {\n",
       "        text-align: right;\n",
       "    }\n",
       "</style>\n",
       "<table border=\"1\" class=\"dataframe\">\n",
       "  <thead>\n",
       "    <tr style=\"text-align: right;\">\n",
       "      <th></th>\n",
       "      <th>V1</th>\n",
       "    </tr>\n",
       "  </thead>\n",
       "  <tbody>\n",
       "    <tr>\n",
       "      <th>0</th>\n",
       "      <td>103.445919</td>\n",
       "    </tr>\n",
       "    <tr>\n",
       "      <th>1</th>\n",
       "      <td>102.434281</td>\n",
       "    </tr>\n",
       "    <tr>\n",
       "      <th>2</th>\n",
       "      <td>107.651148</td>\n",
       "    </tr>\n",
       "    <tr>\n",
       "      <th>3</th>\n",
       "      <td>56.939232</td>\n",
       "    </tr>\n",
       "    <tr>\n",
       "      <th>4</th>\n",
       "      <td>1.103349</td>\n",
       "    </tr>\n",
       "    <tr>\n",
       "      <th>...</th>\n",
       "      <td>...</td>\n",
       "    </tr>\n",
       "    <tr>\n",
       "      <th>995</th>\n",
       "      <td>105.553783</td>\n",
       "    </tr>\n",
       "    <tr>\n",
       "      <th>996</th>\n",
       "      <td>107.304609</td>\n",
       "    </tr>\n",
       "    <tr>\n",
       "      <th>997</th>\n",
       "      <td>107.630422</td>\n",
       "    </tr>\n",
       "    <tr>\n",
       "      <th>998</th>\n",
       "      <td>107.812075</td>\n",
       "    </tr>\n",
       "    <tr>\n",
       "      <th>999</th>\n",
       "      <td>104.578803</td>\n",
       "    </tr>\n",
       "  </tbody>\n",
       "</table>\n",
       "<p>1000 rows × 1 columns</p>\n",
       "</div>"
      ],
      "text/plain": [
       "             V1\n",
       "0    103.445919\n",
       "1    102.434281\n",
       "2    107.651148\n",
       "3     56.939232\n",
       "4      1.103349\n",
       "..          ...\n",
       "995  105.553783\n",
       "996  107.304609\n",
       "997  107.630422\n",
       "998  107.812075\n",
       "999  104.578803\n",
       "\n",
       "[1000 rows x 1 columns]"
      ]
     },
     "execution_count": 3,
     "metadata": {},
     "output_type": "execute_result"
    }
   ],
   "source": [
    "data"
   ]
  },
  {
   "cell_type": "code",
   "execution_count": 4,
   "id": "recovered-briefs",
   "metadata": {},
   "outputs": [],
   "source": [
    "from sklearn.model_selection import train_test_split\n",
    "\n",
    "train, test = train_test_split(data, test_size=0.5)"
   ]
  },
  {
   "cell_type": "code",
   "execution_count": 5,
   "id": "surface-rachel",
   "metadata": {},
   "outputs": [],
   "source": [
    "remodel = hmm.GaussianHMM(n_components=3, n_iter=1000)\n",
    "\n",
    "# remodel.startprob_ = np.array([1,0,0])\n",
    "\n",
    "# remodel.transmatrix_ = np.array(transitionprobs)\n",
    "\n",
    "# remodel.means_ = np.array(emissionmeans)\n",
    "\n",
    "remodel.fit(train)\n",
    "Z2 = remodel.predict(test)"
   ]
  },
  {
   "cell_type": "code",
   "execution_count": 6,
   "id": "charitable-diary",
   "metadata": {},
   "outputs": [
    {
     "data": {
      "text/plain": [
       "array([2, 1, 2, 1, 2, 0, 2, 2, 1, 0, 2, 2, 2, 0, 0, 1, 1, 1, 0, 0, 0, 1,\n",
       "       0, 2, 1, 1, 1, 0, 1, 0, 1, 2, 0, 1, 2, 2, 0, 0, 2, 0, 1, 0, 2, 0,\n",
       "       1, 0, 1, 0, 1, 1, 0, 1, 0, 1, 0, 2, 1, 1, 2, 0, 1, 0, 2, 1, 2, 1,\n",
       "       1, 0, 0, 0, 0, 2, 1, 2, 2, 2, 0, 1, 1, 0, 0, 1, 1, 0, 1, 1, 1, 2,\n",
       "       2, 2, 2, 2, 2, 2, 1, 1, 0, 2, 1, 0, 2, 2, 1, 2, 0, 1, 0, 2, 2, 1,\n",
       "       0, 2, 1, 0, 2, 0, 0, 1, 2, 1, 0, 1, 1, 1, 1, 1, 1, 0, 2, 2, 0, 1,\n",
       "       0, 1, 0, 1, 1, 0, 1, 2, 0, 2, 2, 0, 1, 0, 0, 2, 2, 2, 0, 0, 1, 1,\n",
       "       1, 2, 1, 2, 2, 1, 1, 0, 2, 2, 1, 2, 2, 1, 0, 0, 1, 2, 1, 1, 0, 1,\n",
       "       0, 0, 0, 1, 1, 1, 2, 0, 1, 0, 2, 1, 1, 1, 1, 1, 2, 1, 2, 2, 1, 1,\n",
       "       0, 0, 1, 0, 2, 2, 0, 2, 2, 1, 2, 2, 2, 2, 2, 2, 1, 2, 2, 2, 2, 0,\n",
       "       0, 2, 1, 2, 0, 1, 1, 1, 2, 1, 1, 0, 0, 1, 2, 1, 0, 2, 0, 2, 2, 0,\n",
       "       0, 1, 2, 2, 0, 2, 1, 1, 1, 1, 1, 1, 2, 2, 2, 2, 0, 1, 1, 2, 1, 1,\n",
       "       2, 0, 2, 0, 2, 0, 1, 1, 1, 2, 0, 0, 0, 1, 2, 0, 1, 1, 1, 2, 2, 0,\n",
       "       1, 1, 2, 2, 2, 1, 1, 2, 2, 0, 2, 1, 2, 1, 1, 1, 2, 1, 1, 1, 1, 2,\n",
       "       1, 0, 0, 1, 1, 0, 0, 1, 2, 2, 2, 0, 1, 1, 2, 2, 0, 2, 0, 0, 0, 2,\n",
       "       1, 1, 2, 2, 2, 0, 2, 2, 1, 0, 0, 1, 2, 2, 2, 0, 0, 1, 0, 1, 1, 0,\n",
       "       1, 1, 1, 2, 0, 0, 0, 2, 0, 1, 2, 2, 1, 2, 0, 1, 0, 1, 0, 2, 2, 2,\n",
       "       2, 1, 2, 1, 0, 2, 0, 0, 2, 1, 2, 2, 1, 2, 0, 0, 2, 0, 0, 0, 1, 2,\n",
       "       0, 1, 0, 1, 1, 1, 1, 1, 1, 0, 0, 1, 1, 1, 2, 1, 1, 0, 2, 1, 1, 2,\n",
       "       1, 1, 2, 2, 1, 1, 0, 0, 1, 2, 0, 0, 2, 0, 0, 1, 2, 0, 0, 2, 0, 2,\n",
       "       0, 0, 1, 2, 2, 0, 0, 2, 2, 0, 0, 2, 1, 1, 1, 1, 0, 1, 0, 0, 1, 0,\n",
       "       0, 1, 2, 0, 0, 2, 2, 1, 0, 2, 1, 0, 0, 1, 0, 1, 1, 0, 1, 0, 0, 2,\n",
       "       1, 2, 2, 2, 2, 0, 0, 2, 2, 2, 1, 1, 1, 1, 1, 1])"
      ]
     },
     "execution_count": 6,
     "metadata": {},
     "output_type": "execute_result"
    }
   ],
   "source": [
    "Z2"
   ]
  },
  {
   "cell_type": "code",
   "execution_count": 10,
   "id": "geological-miniature",
   "metadata": {},
   "outputs": [],
   "source": [
    "def assign_hidden_states(result):\n",
    "    if result == 1:\n",
    "        return 1\n",
    "    if result == 2:\n",
    "        return 2\n",
    "    if result == 0:\n",
    "        return 3\n",
    "    \n",
    "hidden_state_predictions = pd.Series(Z2).apply(lambda x: assign_hidden_states(x))"
   ]
  },
  {
   "cell_type": "code",
   "execution_count": 11,
   "id": "north-number",
   "metadata": {},
   "outputs": [],
   "source": [
    "teststates = hiddenstates.loc[list(test.index)].reset_index()[\"x\"]"
   ]
  },
  {
   "cell_type": "code",
   "execution_count": 12,
   "id": "labeled-legend",
   "metadata": {},
   "outputs": [
    {
     "name": "stdout",
     "output_type": "stream",
     "text": [
      "Accuracy: 99.8%\n"
     ]
    },
    {
     "data": {
      "text/plain": [
       "0    False\n",
       "1     True\n",
       "2     True\n",
       "3     True\n",
       "4     True\n",
       "dtype: bool"
      ]
     },
     "execution_count": 12,
     "metadata": {},
     "output_type": "execute_result"
    }
   ],
   "source": [
    "correct = teststates == hidden_state_predictions\n",
    "print(\"Accuracy: \" + str(sum(correct)/len(hidden_state_predictions)*100) + \"%\")\n",
    "correct.head()"
   ]
  },
  {
   "cell_type": "code",
   "execution_count": 13,
   "id": "immune-drama",
   "metadata": {},
   "outputs": [
    {
     "data": {
      "text/plain": [
       "array([[186,   1,   0],\n",
       "       [  0, 162,   0],\n",
       "       [  0,   0, 151]], dtype=int64)"
      ]
     },
     "execution_count": 13,
     "metadata": {},
     "output_type": "execute_result"
    }
   ],
   "source": [
    "from sklearn.metrics import confusion_matrix\n",
    "confusion_matrix(teststates, hidden_state_predictions)"
   ]
  },
  {
   "cell_type": "code",
   "execution_count": 14,
   "id": "varying-operator",
   "metadata": {
    "scrolled": true
   },
   "outputs": [
    {
     "data": {
      "text/plain": [
       "<AxesSubplot:>"
      ]
     },
     "execution_count": 14,
     "metadata": {},
     "output_type": "execute_result"
    },
    {
     "data": {
      "image/png": "[encoded data removed]",
      "text/plain": [
       "<Figure size 432x288 with 1 Axes>"
      ]
     },
     "metadata": {
      "needs_background": "light"
     },
     "output_type": "display_data"
    }
   ],
   "source": [
    "import matplotlib.pyplot as plt\n",
    "correct = correct.astype(int)\n",
    "correct.plot()\n",
    "# correct.plot(teststates == 1, color = \"blue\")\n",
    "# correct.plot(teststates == 2, color = \"red\")\n",
    "# correct.plot(teststates == 3, color = \"green\")"
   ]
  },
  {
   "cell_type": "code",
   "execution_count": 15,
   "id": "cooperative-spider",
   "metadata": {},
   "outputs": [],
   "source": [
    "trainstates = hiddenstates.loc[list(train.index)].reset_index()[\"x\"]\n",
    "train = train.reset_index()[\"V1\"]\n",
    "test = test.reset_index()[\"V1\"]"
   ]
  },
  {
   "cell_type": "code",
   "execution_count": 16,
   "id": "surgical-feedback",
   "metadata": {},
   "outputs": [
    {
     "data": {
      "text/plain": [
       "0      3\n",
       "1      3\n",
       "2      2\n",
       "3      1\n",
       "4      1\n",
       "      ..\n",
       "495    1\n",
       "496    3\n",
       "497    3\n",
       "498    1\n",
       "499    2\n",
       "Name: x, Length: 500, dtype: int64"
      ]
     },
     "execution_count": 16,
     "metadata": {},
     "output_type": "execute_result"
    }
   ],
   "source": [
    "train\n",
    "trainstates"
   ]
  },
  {
   "cell_type": "code",
   "execution_count": 17,
   "id": "featured-sample",
   "metadata": {},
   "outputs": [],
   "source": [
    "import statistics as stat\n",
    "\n",
    "def means_and_sds(data, hiddenstates):\n",
    "    state1vals = []\n",
    "    state2vals = []\n",
    "    state3vals = []\n",
    "    for i in range(len(hiddenstates)):\n",
    "        if hiddenstates[i] == 1:\n",
    "            state1vals.append(data[i])\n",
    "        elif hiddenstates[i] == 2:\n",
    "            state2vals.append(data[i])\n",
    "        elif hiddenstates[i] == 3:\n",
    "            state3vals.append(data[i])\n",
    "    mean1 = stat.mean(state1vals)\n",
    "    mean2 = stat.mean(state2vals)\n",
    "    mean3 = stat.mean(state3vals)\n",
    "    sd1 = stat.stdev(state1vals)\n",
    "    sd2 = stat.stdev(state2vals)\n",
    "    sd3 = stat.stdev(state3vals)\n",
    "    return ([mean1, mean2, mean3], [sd1, sd2, sd3])\n",
    "\n",
    "predmeans, predsds = means_and_sds(train, trainstates)"
   ]
  },
  {
   "cell_type": "code",
   "execution_count": 18,
   "id": "incorrect-climb",
   "metadata": {},
   "outputs": [
    {
     "data": {
      "text/plain": [
       "[5.000271212147977, 55.139004242254714, 104.90105882575313]"
      ]
     },
     "execution_count": 18,
     "metadata": {},
     "output_type": "execute_result"
    }
   ],
   "source": [
    "predmeans"
   ]
  },
  {
   "cell_type": "code",
   "execution_count": 19,
   "id": "spoken-pasta",
   "metadata": {},
   "outputs": [
    {
     "data": {
      "text/plain": [
       "[2.82577686181301, 2.641218411177337, 2.2808144405502326]"
      ]
     },
     "execution_count": 19,
     "metadata": {},
     "output_type": "execute_result"
    }
   ],
   "source": [
    "predsds"
   ]
  },
  {
   "cell_type": "code",
   "execution_count": null,
   "id": "boxed-banking",
   "metadata": {},
   "outputs": [],
   "source": []
  }
 ],
 "metadata": {
  "kernelspec": {
   "display_name": "Python 3",
   "language": "python",
   "name": "python3"
  },
  "language_info": {
   "codemirror_mode": {
    "name": "ipython",
    "version": 3
   },
   "file_extension": ".py",
   "mimetype": "text/x-python",
   "name": "python",
   "nbconvert_exporter": "python",
   "pygments_lexer": "ipython3",
   "version": "3.7.4"
  }
 },
 "nbformat": 4,
 "nbformat_minor": 5
}
