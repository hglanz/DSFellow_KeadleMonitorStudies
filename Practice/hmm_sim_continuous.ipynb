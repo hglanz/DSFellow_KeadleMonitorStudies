{
 "cells": [
  {
   "cell_type": "markdown",
   "metadata": {},
   "source": [
    "Generating Hidden States\n",
    "\n",
    "Hidden States - Sunny and Cloudy\n",
    "Observable States - Happy and Sad\n",
    "\n",
    "Transition Probabilities\n",
    "\n",
    "Sunny -- 0.8 --> Sunny\n",
    "\n",
    "Sunny -- 0.2 --> Cloudy\n",
    "\n",
    "Cloudy -- 0.4 --> Sunny\n",
    "\n",
    "Cloudy -- 0.6 --> Cloudy\n",
    "\n",
    "\n",
    "Emission Probabilities\n",
    "\n",
    "Sunny -- 0.7 --> Happy\n",
    "\n",
    "Sunny -- 0.3 --> Sad\n",
    "\n",
    "Cloudy -- 0.4 --> Happy\n",
    "\n",
    "Cloudy -- 0.6 --> Sad"
   ]
  },
  {
   "cell_type": "code",
   "execution_count": 1,
   "metadata": {},
   "outputs": [],
   "source": [
    "import numpy as np\n",
    "import pandas as pd\n",
    "from hmmlearn import hmm"
   ]
  },
  {
   "cell_type": "code",
   "execution_count": 2,
   "metadata": {},
   "outputs": [],
   "source": [
    "# sample_size = 500\n",
    "# hidden_floats = np.random.uniform(0, 1, sample_size)\n",
    "# hidden_states = ['Sunny', 'Cloudy']\n",
    "# hidden_seq = []\n",
    "\n",
    "# if hidden_floats[0] < 0.5:\n",
    "#     hidden_seq.append(hidden_states[0])\n",
    "# else:\n",
    "#     hidden_seq.append(hidden_states[1])\n",
    "    \n",
    "# for i in range(1, sample_size):\n",
    "    \n",
    "#     if hidden_seq[i - 1] == hidden_states[0]:\n",
    "#         if hidden_floats[i] < 0.8:\n",
    "#             hidden_seq.append(hidden_states[0])\n",
    "#         else:\n",
    "#             hidden_seq.append(hidden_states[1])\n",
    "            \n",
    "#     elif hidden_seq[i - 1] == hidden_states[1]:\n",
    "#         if hidden_floats[i] < 0.4:\n",
    "#             hidden_seq.append(hidden_states[0])\n",
    "#         else:\n",
    "#             hidden_seq.append(hidden_states[1])"
   ]
  },
  {
   "cell_type": "code",
   "execution_count": 3,
   "metadata": {},
   "outputs": [],
   "source": [
    "# obs_floats = np.random.uniform(0, 1, sample_size)\n",
    "# obs_states = ['Happy', 'Sad']\n",
    "# obs_seq = []\n",
    "\n",
    "# for i in range(sample_size):\n",
    "#     if hidden_seq[i] == hidden_states[0]:\n",
    "#         if obs_floats[i] < 0.7:\n",
    "#             obs_seq.append(obs_states[0])\n",
    "#         else:\n",
    "#             obs_seq.append(obs_states[1])\n",
    "    \n",
    "#     elif hidden_seq[i] == hidden_states[1]:\n",
    "#         if obs_floats[i] < 0.4:\n",
    "#             obs_seq.append(obs_states[0])\n",
    "#         else:\n",
    "#             obs_seq.append(obs_states[1])"
   ]
  },
  {
   "cell_type": "code",
   "execution_count": 4,
   "metadata": {},
   "outputs": [],
   "source": [
    "# pd.DataFrame({'Hidden States': hidden_seq,\n",
    "#              'Observations': obs_seq})"
   ]
  },
  {
   "cell_type": "code",
   "execution_count": 5,
   "metadata": {},
   "outputs": [],
   "source": [
    "# with open('hmm_sim.txt', 'w') as f:\n",
    "#     for state in obs_seq:\n",
    "#         f.write(\"%s\\n\" % state)"
   ]
  },
  {
   "cell_type": "code",
   "execution_count": 6,
   "metadata": {},
   "outputs": [],
   "source": [
    "# with open('hmm_hidden_sim.txt', 'w') as f:\n",
    "#     for state in hidden_seq:\n",
    "#         f.write(\"%s\\n\" % state)"
   ]
  },
  {
   "cell_type": "markdown",
   "metadata": {},
   "source": [
    "Learning HMM"
   ]
  },
  {
   "cell_type": "code",
   "execution_count": 7,
   "metadata": {},
   "outputs": [],
   "source": [
    "# with open('left_right.txt', 'r') as f:\n",
    "#     line = f.readline()\n",
    "#     obs = []\n",
    "#     while line != '':\n",
    "#         obs += list(''.join(x for x in line if x.isalpha()))\n",
    "#         line = f.readline()"
   ]
  },
  {
   "cell_type": "code",
   "execution_count": 8,
   "metadata": {},
   "outputs": [],
   "source": [
    "with open('hmm_obs_sim.txt', 'r') as f:\n",
    "    line = f.readline()[:-1]\n",
    "    obs = []\n",
    "    while line != '':\n",
    "        obs.append(line)\n",
    "        line = f.readline()[:-1]\n",
    "X = obs"
   ]
  },
  {
   "cell_type": "code",
   "execution_count": 9,
   "metadata": {},
   "outputs": [],
   "source": [
    "X = []\n",
    "for x in obs:\n",
    "    if x == 'Happy':\n",
    "        X.append([1])\n",
    "    else:\n",
    "        X.append([0])"
   ]
  },
  {
   "cell_type": "code",
   "execution_count": 10,
   "metadata": {},
   "outputs": [
    {
     "name": "stderr",
     "output_type": "stream",
     "text": [
      "Even though the 'startprob_' attribute is set, it will be overwritten during initialization because 'init_params' contains 's'\n"
     ]
    }
   ],
   "source": [
    "remodel = hmm.MultinomialHMM(n_components=2, n_iter=1000)\n",
    "# remodel = hmm.GaussianHMM(n_components=2, n_iter=1000)\n",
    "\n",
    "remodel.startprob_ = np.array([0.5,0.5])\n",
    "remodel.transmatrix_ = np.array([[0.8,0.2],\n",
    "                                 [0.4,0.6]])\n",
    "remodel.emissionprob_ = np.array([[0.7,0.3],\n",
    "                                  [0.4,0.6]])\n",
    "\n",
    "remodel.fit(X)\n",
    "Z2 = remodel.predict(X)"
   ]
  },
  {
   "cell_type": "code",
   "execution_count": 11,
   "metadata": {},
   "outputs": [
    {
     "data": {
      "text/plain": [
       "[0.3948220064724919,\n",
       " 0.6051779935275081,\n",
       " 0.3631578947368421,\n",
       " 0.6368421052631579]"
      ]
     },
     "execution_count": 11,
     "metadata": {},
     "output_type": "execute_result"
    }
   ],
   "source": [
    "zero_after_one = 0\n",
    "zero_after_zero = 0\n",
    "one_after_one = 0\n",
    "one_after_zero = 0\n",
    "for i in range(1, len(Z2)):\n",
    "    if Z2[i] == 0 and Z2[i - 1] == 1:\n",
    "        zero_after_one += 1\n",
    "    elif Z2[i] == 0 and Z2[i - 1] == 0:\n",
    "        zero_after_zero += 1\n",
    "    elif Z2[i] == 1 and Z2[i - 1] == 1:\n",
    "        one_after_one += 1\n",
    "    elif Z2[i] == 1 and Z2[i - 1] == 0:\n",
    "        one_after_zero += 1\n",
    "\n",
    "after_one = zero_after_one + one_after_one\n",
    "after_zero = zero_after_zero + one_after_zero\n",
    "\n",
    "trans_probs = [zero_after_one / after_one,\n",
    "              one_after_one / after_one,\n",
    "              zero_after_zero / after_zero,\n",
    "              one_after_zero / after_zero]\n",
    "\n",
    "trans_probs"
   ]
  },
  {
   "cell_type": "code",
   "execution_count": 12,
   "metadata": {},
   "outputs": [
    {
     "data": {
      "text/plain": [
       "[1.0, 0.0, 0.0, 1.0052631578947369]"
      ]
     },
     "execution_count": 12,
     "metadata": {},
     "output_type": "execute_result"
    }
   ],
   "source": [
    "happy_after_one = 0\n",
    "happy_after_zero = 0\n",
    "sad_after_one = 0\n",
    "sad_after_zero = 0\n",
    "\n",
    "for i in range(len(Z2)):\n",
    "    if Z2[i] == 1 and obs[i] == 'Happy':\n",
    "        happy_after_one += 1\n",
    "    elif Z2[i] == 0 and obs[i] == 'Happy':\n",
    "        happy_after_zero += 1\n",
    "    elif Z2[i] == 1 and obs[i] == 'Sad':\n",
    "        sad_after_one += 1\n",
    "    elif Z2[i] == 0 and obs[i] == 'Sad':\n",
    "        sad_after_zero += 1\n",
    "\n",
    "emission_probs = [happy_after_one / after_one,\n",
    "                  sad_after_one / after_one,\n",
    "                  happy_after_zero / after_zero,\n",
    "                  sad_after_zero / after_zero\n",
    "                 ]\n",
    "\n",
    "emission_probs     "
   ]
  },
  {
   "cell_type": "code",
   "execution_count": 13,
   "metadata": {},
   "outputs": [
    {
     "data": {
      "text/html": [
       "<div>\n",
       "<style scoped>\n",
       "    .dataframe tbody tr th:only-of-type {\n",
       "        vertical-align: middle;\n",
       "    }\n",
       "\n",
       "    .dataframe tbody tr th {\n",
       "        vertical-align: top;\n",
       "    }\n",
       "\n",
       "    .dataframe thead th {\n",
       "        text-align: right;\n",
       "    }\n",
       "</style>\n",
       "<table border=\"1\" class=\"dataframe\">\n",
       "  <thead>\n",
       "    <tr style=\"text-align: right;\">\n",
       "      <th></th>\n",
       "      <th>hidden</th>\n",
       "      <th>obs</th>\n",
       "    </tr>\n",
       "  </thead>\n",
       "  <tbody>\n",
       "    <tr>\n",
       "      <th>0</th>\n",
       "      <td>1</td>\n",
       "      <td>Happy</td>\n",
       "    </tr>\n",
       "    <tr>\n",
       "      <th>1</th>\n",
       "      <td>1</td>\n",
       "      <td>Happy</td>\n",
       "    </tr>\n",
       "    <tr>\n",
       "      <th>2</th>\n",
       "      <td>1</td>\n",
       "      <td>Happy</td>\n",
       "    </tr>\n",
       "    <tr>\n",
       "      <th>3</th>\n",
       "      <td>0</td>\n",
       "      <td>Sad</td>\n",
       "    </tr>\n",
       "    <tr>\n",
       "      <th>4</th>\n",
       "      <td>0</td>\n",
       "      <td>Sad</td>\n",
       "    </tr>\n",
       "    <tr>\n",
       "      <th>...</th>\n",
       "      <td>...</td>\n",
       "      <td>...</td>\n",
       "    </tr>\n",
       "    <tr>\n",
       "      <th>495</th>\n",
       "      <td>1</td>\n",
       "      <td>Happy</td>\n",
       "    </tr>\n",
       "    <tr>\n",
       "      <th>496</th>\n",
       "      <td>1</td>\n",
       "      <td>Happy</td>\n",
       "    </tr>\n",
       "    <tr>\n",
       "      <th>497</th>\n",
       "      <td>1</td>\n",
       "      <td>Happy</td>\n",
       "    </tr>\n",
       "    <tr>\n",
       "      <th>498</th>\n",
       "      <td>1</td>\n",
       "      <td>Happy</td>\n",
       "    </tr>\n",
       "    <tr>\n",
       "      <th>499</th>\n",
       "      <td>0</td>\n",
       "      <td>Sad</td>\n",
       "    </tr>\n",
       "  </tbody>\n",
       "</table>\n",
       "<p>500 rows × 2 columns</p>\n",
       "</div>"
      ],
      "text/plain": [
       "     hidden    obs\n",
       "0         1  Happy\n",
       "1         1  Happy\n",
       "2         1  Happy\n",
       "3         0    Sad\n",
       "4         0    Sad\n",
       "..      ...    ...\n",
       "495       1  Happy\n",
       "496       1  Happy\n",
       "497       1  Happy\n",
       "498       1  Happy\n",
       "499       0    Sad\n",
       "\n",
       "[500 rows x 2 columns]"
      ]
     },
     "execution_count": 13,
     "metadata": {},
     "output_type": "execute_result"
    }
   ],
   "source": [
    "pd.DataFrame({'hidden': Z2,\n",
    "             'obs': obs})"
   ]
  },
  {
   "cell_type": "code",
   "execution_count": 14,
   "metadata": {},
   "outputs": [],
   "source": [
    "#multiple hidden states\n",
    "#continuous observed state"
   ]
  },
  {
   "cell_type": "code",
   "execution_count": 15,
   "metadata": {},
   "outputs": [],
   "source": [
    "# Simple Collection of 30 observations\n",
    "\n",
    "# In relation to study: hidden states are action (sitting, walking, running, biking, etc.)\n",
    "# Observed state is level of activity\n",
    "\n",
    "# Method of collection: All hidden states randomly collected first, \n",
    "# and then all observed states calculated from hidden states\n",
    "\n",
    "# Hidden state probabilities: 50% chance to stay in current hidden state,\n",
    "#                             30% chance to go to next hidden state (i.e. sit to walk, walk to run, run to bike, bike to sit)\n",
    "#                             10% chance each for the remaining two hidden states\n",
    "\n",
    "# Observed state calculated from normal distributions based on hidden state:\n",
    "# Sit ~ N(5, 2)\n",
    "# Walk ~ N(10, 2.5)\n",
    "# Run ~ N(15, 3)\n",
    "# Bike ~ N(20, 2)\n",
    "\n",
    "\n",
    "new_hidden_states = [\"Sit\", \"Run\", \"Bike\", \"Bike\", \"Sit\", \"Sit\", \"Sit\", \"Sit\", \"Walk\", \"Run\",\n",
    "                     \"Bike\", \"Bike\", \"Bike\", \"Bike\", \"Sit\", \"Sit\", \"Sit\", \"Sit\", \"Bike\", \"Walk\",\n",
    "                     \"Walk\", \"Sit\", \"Sit\", \"Walk\", \"Walk\", \"Run\", \"Run\", \"Run\", \"Run\", \"Run\"]\n",
    "\n",
    "new_hidden_states = pd.Series(new_hidden_states)\n",
    "\n",
    "new_observed_states = [5.01, 16.82, 20.28, 21.02, 5.09, 7.43, 6.07, 4.20, 13.5, 13.34,\n",
    "                       19.88, 21.30, 20.17, 18.94, 5.88, 2.39, 7.94, 3.50, 17.47, 9.03,\n",
    "                       13.7, 4.43, 9.34, 7.90, 9.04, 13.93, 10.33, 14.20, 15.18, 15.07]"
   ]
  },
  {
   "cell_type": "code",
   "execution_count": 21,
   "metadata": {},
   "outputs": [
    {
     "name": "stderr",
     "output_type": "stream",
     "text": [
      "Even though the 'startprob_' attribute is set, it will be overwritten during initialization because 'init_params' contains 's'\n",
      "Even though the 'means_' attribute is set, it will be overwritten during initialization because 'init_params' contains 'm'\n"
     ]
    }
   ],
   "source": [
    "X = []\n",
    "for x in new_observed_states:\n",
    "    X.append([x])\n",
    "\n",
    "remodel = hmm.GaussianHMM(n_components=4, covariance_type=\"diag\", n_iter=1000)\n",
    "\n",
    "remodel.startprob_ = np.array([1,0,0,0])\n",
    "\n",
    "remodel.transmatrix_ = np.array([[0.5,0.3,0.1,0.1],\n",
    "                                 [0.1,0.5,0.3,0.1],\n",
    "                                 [0.1,0.1,0.5,0.3],\n",
    "                                 [0.3,0.1,0.1,0.5]])\n",
    "\n",
    "remodel.means_ = np.array([5, 10, 15, 20])\n",
    "\n",
    "remodel.covar_ = np.array([2, 2.5, 3, 2])\n",
    "\n",
    "\n",
    "remodel.fit(X)\n",
    "Z2 = remodel.predict(X)"
   ]
  },
  {
   "cell_type": "code",
   "execution_count": 28,
   "metadata": {},
   "outputs": [],
   "source": [
    "# These values change every time. I change the numbers to correspond to the correct state, \n",
    "# but I don't know how to handle this without hard-coding it in every time\n",
    "\n",
    "def assign_hidden_states(result):\n",
    "    if result == 0:\n",
    "        return \"Sit\"\n",
    "    if result == 2:\n",
    "        return \"Walk\"\n",
    "    if result == 3:\n",
    "        return \"Run\"\n",
    "    if result == 1:\n",
    "        return \"Bike\"\n",
    "        \n",
    "hidden_state_predictions = pd.Series(Z2).apply(lambda x: assign_hidden_states(x))"
   ]
  },
  {
   "cell_type": "code",
   "execution_count": null,
   "metadata": {},
   "outputs": [],
   "source": []
  },
  {
   "cell_type": "code",
   "execution_count": 29,
   "metadata": {},
   "outputs": [
    {
     "data": {
      "text/plain": [
       "0      Sit\n",
       "1      Run\n",
       "2     Bike\n",
       "3     Bike\n",
       "4      Sit\n",
       "5      Sit\n",
       "6      Sit\n",
       "7      Sit\n",
       "8      Run\n",
       "9      Run\n",
       "10    Bike\n",
       "11    Bike\n",
       "12    Bike\n",
       "13    Bike\n",
       "14     Sit\n",
       "15     Sit\n",
       "16     Sit\n",
       "17     Sit\n",
       "18     Run\n",
       "19    Walk\n",
       "20    Walk\n",
       "21    Walk\n",
       "22    Walk\n",
       "23    Walk\n",
       "24    Walk\n",
       "25    Walk\n",
       "26    Walk\n",
       "27     Run\n",
       "28     Run\n",
       "29     Run\n",
       "dtype: object"
      ]
     },
     "execution_count": 29,
     "metadata": {},
     "output_type": "execute_result"
    }
   ],
   "source": [
    "hidden_state_predictions"
   ]
  },
  {
   "cell_type": "code",
   "execution_count": 30,
   "metadata": {},
   "outputs": [
    {
     "data": {
      "text/plain": [
       "0      Sit\n",
       "1      Run\n",
       "2     Bike\n",
       "3     Bike\n",
       "4      Sit\n",
       "5      Sit\n",
       "6      Sit\n",
       "7      Sit\n",
       "8     Walk\n",
       "9      Run\n",
       "10    Bike\n",
       "11    Bike\n",
       "12    Bike\n",
       "13    Bike\n",
       "14     Sit\n",
       "15     Sit\n",
       "16     Sit\n",
       "17     Sit\n",
       "18    Bike\n",
       "19    Walk\n",
       "20    Walk\n",
       "21     Sit\n",
       "22     Sit\n",
       "23    Walk\n",
       "24    Walk\n",
       "25     Run\n",
       "26     Run\n",
       "27     Run\n",
       "28     Run\n",
       "29     Run\n",
       "dtype: object"
      ]
     },
     "execution_count": 30,
     "metadata": {},
     "output_type": "execute_result"
    }
   ],
   "source": [
    "new_hidden_states"
   ]
  },
  {
   "cell_type": "code",
   "execution_count": 32,
   "metadata": {},
   "outputs": [],
   "source": [
    "correct = hidden_state_predictions == new_hidden_states"
   ]
  },
  {
   "cell_type": "code",
   "execution_count": 35,
   "metadata": {},
   "outputs": [
    {
     "name": "stdout",
     "output_type": "stream",
     "text": [
      "Accuracy: 80.0%\n"
     ]
    }
   ],
   "source": [
    "print(\"Accuracy: \" + str(sum(correct)/len(new_hidden_states)*100) + \"%\")"
   ]
  }
 ],
 "metadata": {
  "kernelspec": {
   "display_name": "Python 3",
   "language": "python",
   "name": "python3"
  },
  "language_info": {
   "codemirror_mode": {
    "name": "ipython",
    "version": 3
   },
   "file_extension": ".py",
   "mimetype": "text/x-python",
   "name": "python",
   "nbconvert_exporter": "python",
   "pygments_lexer": "ipython3",
   "version": "3.7.4"
  }
 },
 "nbformat": 4,
 "nbformat_minor": 4
}
