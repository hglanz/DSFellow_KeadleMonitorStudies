{
 "cells": [
  {
   "cell_type": "markdown",
   "metadata": {},
   "source": [
    "Generating Hidden States\n",
    "\n",
    "Hidden States - Sunny and Cloudy\n",
    "Observable States - Happy and Sad\n",
    "\n",
    "Transition Probabilities\n",
    "\n",
    "Sunny -- 0.8 --> Sunny\n",
    "\n",
    "Sunny -- 0.2 --> Cloudy\n",
    "\n",
    "Cloudy -- 0.4 --> Sunny\n",
    "\n",
    "Cloudy -- 0.6 --> Cloudy\n",
    "\n",
    "\n",
    "Emission Probabilities\n",
    "\n",
    "Sunny -- 0.7 --> Happy\n",
    "\n",
    "Sunny -- 0.3 --> Sad\n",
    "\n",
    "Cloudy -- 0.4 --> Happy\n",
    "\n",
    "Cloudy -- 0.6 --> Sad"
   ]
  },
  {
   "cell_type": "code",
   "execution_count": 1,
   "metadata": {},
   "outputs": [],
   "source": [
    "import numpy as np\n",
    "import pandas as pd\n",
    "from hmmlearn import hmm"
   ]
  },
  {
   "cell_type": "code",
   "execution_count": 3,
   "metadata": {},
   "outputs": [],
   "source": [
    "sample_size = 500\n",
    "hidden_floats = np.random.uniform(0, 1, sample_size)\n",
    "hidden_states = ['Sunny', 'Cloudy']\n",
    "hidden_seq = []\n",
    "\n",
    "if hidden_floats[0] < 0.5:\n",
    "    hidden_seq.append(hidden_states[0])\n",
    "else:\n",
    "    hidden_seq.append(hidden_states[1])\n",
    "    \n",
    "for i in range(1, sample_size):\n",
    "    \n",
    "    if hidden_seq[i - 1] == hidden_states[0]:\n",
    "        if hidden_floats[i] < 0.8:\n",
    "            hidden_seq.append(hidden_states[0])\n",
    "        else:\n",
    "            hidden_seq.append(hidden_states[1])\n",
    "            \n",
    "    elif hidden_seq[i - 1] == hidden_states[1]:\n",
    "        if hidden_floats[i] < 0.4:\n",
    "            hidden_seq.append(hidden_states[0])\n",
    "        else:\n",
    "            hidden_seq.append(hidden_states[1])"
   ]
  },
  {
   "cell_type": "code",
   "execution_count": 4,
   "metadata": {},
   "outputs": [],
   "source": [
    "obs_floats = np.random.uniform(0, 1, sample_size)\n",
    "obs_states = ['Happy', 'Sad']\n",
    "obs_seq = []\n",
    "\n",
    "for i in range(sample_size):\n",
    "    if hidden_seq[i] == hidden_states[0]:\n",
    "        if obs_floats[i] < 0.7:\n",
    "            obs_seq.append(obs_states[0])\n",
    "        else:\n",
    "            obs_seq.append(obs_states[1])\n",
    "    \n",
    "    elif hidden_seq[i] == hidden_states[1]:\n",
    "        if obs_floats[i] < 0.4:\n",
    "            obs_seq.append(obs_states[0])\n",
    "        else:\n",
    "            obs_seq.append(obs_states[1])"
   ]
  },
  {
   "cell_type": "code",
   "execution_count": 5,
   "metadata": {},
   "outputs": [
    {
     "data": {
      "text/html": [
       "<div>\n",
       "<style scoped>\n",
       "    .dataframe tbody tr th:only-of-type {\n",
       "        vertical-align: middle;\n",
       "    }\n",
       "\n",
       "    .dataframe tbody tr th {\n",
       "        vertical-align: top;\n",
       "    }\n",
       "\n",
       "    .dataframe thead th {\n",
       "        text-align: right;\n",
       "    }\n",
       "</style>\n",
       "<table border=\"1\" class=\"dataframe\">\n",
       "  <thead>\n",
       "    <tr style=\"text-align: right;\">\n",
       "      <th></th>\n",
       "      <th>Hidden States</th>\n",
       "      <th>Observations</th>\n",
       "    </tr>\n",
       "  </thead>\n",
       "  <tbody>\n",
       "    <tr>\n",
       "      <th>0</th>\n",
       "      <td>Sunny</td>\n",
       "      <td>Happy</td>\n",
       "    </tr>\n",
       "    <tr>\n",
       "      <th>1</th>\n",
       "      <td>Cloudy</td>\n",
       "      <td>Happy</td>\n",
       "    </tr>\n",
       "    <tr>\n",
       "      <th>2</th>\n",
       "      <td>Sunny</td>\n",
       "      <td>Happy</td>\n",
       "    </tr>\n",
       "    <tr>\n",
       "      <th>3</th>\n",
       "      <td>Cloudy</td>\n",
       "      <td>Sad</td>\n",
       "    </tr>\n",
       "    <tr>\n",
       "      <th>4</th>\n",
       "      <td>Cloudy</td>\n",
       "      <td>Sad</td>\n",
       "    </tr>\n",
       "    <tr>\n",
       "      <th>...</th>\n",
       "      <td>...</td>\n",
       "      <td>...</td>\n",
       "    </tr>\n",
       "    <tr>\n",
       "      <th>495</th>\n",
       "      <td>Sunny</td>\n",
       "      <td>Happy</td>\n",
       "    </tr>\n",
       "    <tr>\n",
       "      <th>496</th>\n",
       "      <td>Sunny</td>\n",
       "      <td>Happy</td>\n",
       "    </tr>\n",
       "    <tr>\n",
       "      <th>497</th>\n",
       "      <td>Sunny</td>\n",
       "      <td>Happy</td>\n",
       "    </tr>\n",
       "    <tr>\n",
       "      <th>498</th>\n",
       "      <td>Sunny</td>\n",
       "      <td>Happy</td>\n",
       "    </tr>\n",
       "    <tr>\n",
       "      <th>499</th>\n",
       "      <td>Sunny</td>\n",
       "      <td>Sad</td>\n",
       "    </tr>\n",
       "  </tbody>\n",
       "</table>\n",
       "<p>500 rows × 2 columns</p>\n",
       "</div>"
      ],
      "text/plain": [
       "    Hidden States Observations\n",
       "0           Sunny        Happy\n",
       "1          Cloudy        Happy\n",
       "2           Sunny        Happy\n",
       "3          Cloudy          Sad\n",
       "4          Cloudy          Sad\n",
       "..            ...          ...\n",
       "495         Sunny        Happy\n",
       "496         Sunny        Happy\n",
       "497         Sunny        Happy\n",
       "498         Sunny        Happy\n",
       "499         Sunny          Sad\n",
       "\n",
       "[500 rows x 2 columns]"
      ]
     },
     "execution_count": 5,
     "metadata": {},
     "output_type": "execute_result"
    }
   ],
   "source": [
    "pd.DataFrame({'Hidden States': hidden_seq,\n",
    "             'Observations': obs_seq})"
   ]
  },
  {
   "cell_type": "code",
   "execution_count": 6,
   "metadata": {},
   "outputs": [],
   "source": [
    "with open('hmm_sim.txt', 'w') as f:\n",
    "    for state in obs_seq:\n",
    "        f.write(\"%s\\n\" % state)"
   ]
  },
  {
   "cell_type": "code",
   "execution_count": 7,
   "metadata": {},
   "outputs": [],
   "source": [
    "with open('hmm_hidden_sim.txt', 'w') as f:\n",
    "    for state in hidden_seq:\n",
    "        f.write(\"%s\\n\" % state)"
   ]
  },
  {
   "cell_type": "markdown",
   "metadata": {},
   "source": [
    "Learning HMM"
   ]
  },
  {
   "cell_type": "code",
   "execution_count": 3,
   "metadata": {},
   "outputs": [],
   "source": [
    "with open('left_right.txt', 'r') as f:\n",
    "    line = f.readline()\n",
    "    obs = []\n",
    "    while line != '':\n",
    "        obs += list(''.join(x for x in line if x.isalpha()))\n",
    "        line = f.readline()"
   ]
  },
  {
   "cell_type": "code",
   "execution_count": 15,
   "metadata": {},
   "outputs": [],
   "source": [
    "X = []\n",
    "for x in obs:\n",
    "    if x == 'L':\n",
    "        X.append([1])\n",
    "    else:\n",
    "        X.append([0])"
   ]
  },
  {
   "cell_type": "code",
   "execution_count": 37,
   "metadata": {},
   "outputs": [],
   "source": [
    "remodel = hmm.GaussianHMM(n_components=2, covariance_type=\"full\", n_iter=1000)\n",
    "remodel.fit(X)\n",
    "pred = remodel.predict(X)"
   ]
  },
  {
   "cell_type": "code",
   "execution_count": 22,
   "metadata": {},
   "outputs": [
    {
     "data": {
      "text/plain": [
       "[0.398406374501992, 0.601593625498008, 0.5967741935483871, 0.4032258064516129]"
      ]
     },
     "execution_count": 22,
     "metadata": {},
     "output_type": "execute_result"
    }
   ],
   "source": [
    "zero_after_one = 0\n",
    "zero_after_zero = 0\n",
    "one_after_one = 0\n",
    "one_after_zero = 0\n",
    "for i in range(1, len(pred)):\n",
    "    if pred[i] == 0 and pred[i - 1] == 1:\n",
    "        zero_after_one += 1\n",
    "    elif pred[i] == 0 and pred[i - 1] == 0:\n",
    "        zero_after_zero += 1\n",
    "    elif pred[i] == 1 and pred[i - 1] == 1:\n",
    "        one_after_one += 1\n",
    "    elif pred[i] == 1 and pred[i - 1] == 0:\n",
    "        one_after_zero += 1\n",
    "\n",
    "after_one = zero_after_one + one_after_one\n",
    "after_zero = zero_after_zero + one_after_zero\n",
    "\n",
    "trans_probs = [zero_after_one / after_one,\n",
    "              one_after_one / after_one,\n",
    "              zero_after_zero / after_zero,\n",
    "              one_after_zero / after_zero]\n",
    "\n",
    "trans_probs"
   ]
  },
  {
   "cell_type": "code",
   "execution_count": 23,
   "metadata": {},
   "outputs": [
    {
     "data": {
      "text/plain": [
       "[0.0, 1.0, 1.0040322580645162, 0.0]"
      ]
     },
     "execution_count": 23,
     "metadata": {},
     "output_type": "execute_result"
    }
   ],
   "source": [
    "left_after_one = 0\n",
    "left_after_zero = 0\n",
    "right_after_one = 0\n",
    "right_after_zero = 0\n",
    "\n",
    "for i in range(len(pred)):\n",
    "    if pred[i] == 1 and obs[i] == 'L':\n",
    "        left_after_one += 1\n",
    "    elif pred[i] == 0 and obs[i] == 'L':\n",
    "        left_after_zero += 1\n",
    "    elif pred[i] == 1 and obs[i] == 'R':\n",
    "        right_after_one += 1\n",
    "    elif pred[i] == 0 and obs[i] == 'R':\n",
    "        right_after_zero += 1\n",
    "        \n",
    "emission_probs = [left_after_one / after_one,\n",
    "                  right_after_one / after_one,\n",
    "                  left_after_zero / after_zero,\n",
    "                  right_after_zero / after_zero\n",
    "                 ]\n",
    "\n",
    "emission_probs     "
   ]
  },
  {
   "cell_type": "code",
   "execution_count": 45,
   "metadata": {},
   "outputs": [
    {
     "data": {
      "text/html": [
       "<div>\n",
       "<style scoped>\n",
       "    .dataframe tbody tr th:only-of-type {\n",
       "        vertical-align: middle;\n",
       "    }\n",
       "\n",
       "    .dataframe tbody tr th {\n",
       "        vertical-align: top;\n",
       "    }\n",
       "\n",
       "    .dataframe thead th {\n",
       "        text-align: right;\n",
       "    }\n",
       "</style>\n",
       "<table border=\"1\" class=\"dataframe\">\n",
       "  <thead>\n",
       "    <tr style=\"text-align: right;\">\n",
       "      <th></th>\n",
       "      <th>hidden</th>\n",
       "      <th>obs</th>\n",
       "    </tr>\n",
       "  </thead>\n",
       "  <tbody>\n",
       "    <tr>\n",
       "      <th>0</th>\n",
       "      <td>1</td>\n",
       "      <td>L</td>\n",
       "    </tr>\n",
       "    <tr>\n",
       "      <th>1</th>\n",
       "      <td>0</td>\n",
       "      <td>R</td>\n",
       "    </tr>\n",
       "    <tr>\n",
       "      <th>2</th>\n",
       "      <td>1</td>\n",
       "      <td>L</td>\n",
       "    </tr>\n",
       "    <tr>\n",
       "      <th>3</th>\n",
       "      <td>1</td>\n",
       "      <td>L</td>\n",
       "    </tr>\n",
       "    <tr>\n",
       "      <th>4</th>\n",
       "      <td>0</td>\n",
       "      <td>R</td>\n",
       "    </tr>\n",
       "    <tr>\n",
       "      <th>...</th>\n",
       "      <td>...</td>\n",
       "      <td>...</td>\n",
       "    </tr>\n",
       "    <tr>\n",
       "      <th>495</th>\n",
       "      <td>0</td>\n",
       "      <td>R</td>\n",
       "    </tr>\n",
       "    <tr>\n",
       "      <th>496</th>\n",
       "      <td>0</td>\n",
       "      <td>R</td>\n",
       "    </tr>\n",
       "    <tr>\n",
       "      <th>497</th>\n",
       "      <td>1</td>\n",
       "      <td>L</td>\n",
       "    </tr>\n",
       "    <tr>\n",
       "      <th>498</th>\n",
       "      <td>1</td>\n",
       "      <td>L</td>\n",
       "    </tr>\n",
       "    <tr>\n",
       "      <th>499</th>\n",
       "      <td>1</td>\n",
       "      <td>L</td>\n",
       "    </tr>\n",
       "  </tbody>\n",
       "</table>\n",
       "<p>500 rows × 2 columns</p>\n",
       "</div>"
      ],
      "text/plain": [
       "     hidden obs\n",
       "0         1   L\n",
       "1         0   R\n",
       "2         1   L\n",
       "3         1   L\n",
       "4         0   R\n",
       "..      ...  ..\n",
       "495       0   R\n",
       "496       0   R\n",
       "497       1   L\n",
       "498       1   L\n",
       "499       1   L\n",
       "\n",
       "[500 rows x 2 columns]"
      ]
     },
     "execution_count": 45,
     "metadata": {},
     "output_type": "execute_result"
    }
   ],
   "source": [
    "pd.DataFrame({'hidden': pred,\n",
    "             'obs': obs})"
   ]
  },
  {
   "cell_type": "code",
   "execution_count": 25,
   "metadata": {},
   "outputs": [],
   "source": [
    "with open('heads_tails.txt', 'r') as f:\n",
    "    line = f.readline()\n",
    "    hidden = []\n",
    "    while line != '':\n",
    "        hidden += list(''.join(x for x in line if x.isalpha()))\n",
    "        line = f.readline()\n",
    "\n",
    "y = []\n",
    "for hid in hidden:\n",
    "    if hid == 'H':\n",
    "        y.append(1)\n",
    "    else:\n",
    "        y.append(0)"
   ]
  },
  {
   "cell_type": "code",
   "execution_count": 82,
   "metadata": {},
   "outputs": [],
   "source": [
    "model = hmm.GaussianHMM(n_components=2, covariance_type=\"full\", n_iter=10000)\n",
    "\n",
    "model.transmat = np.array([[0.65, 0.35],\n",
    "                           [0.35, 0.65]])\n",
    "\n",
    "model.startprob = np.array([0.5, 0.5])\n",
    "\n",
    "ones = np.sum(np.squeeze(X))\n",
    "one_emis = ones / len(X)\n",
    "zero_emis = (len(X) - ones) / len(X)\n",
    "\n",
    "model.means = np.array([[one_emis], [zero_emis]])\n",
    "\n",
    "model.fit(X)\n",
    "\n",
    "pred = model.predict(X)"
   ]
  },
  {
   "cell_type": "code",
   "execution_count": 83,
   "metadata": {},
   "outputs": [
    {
     "data": {
      "text/plain": [
       "0.13"
      ]
     },
     "execution_count": 83,
     "metadata": {},
     "output_type": "execute_result"
    }
   ],
   "source": [
    "np.mean(pred == y)"
   ]
  },
  {
   "cell_type": "code",
   "execution_count": null,
   "metadata": {},
   "outputs": [],
   "source": []
  },
  {
   "cell_type": "code",
   "execution_count": 84,
   "metadata": {},
   "outputs": [
    {
     "data": {
      "text/plain": [
       "array([ True, False, False, False,  True, False, False, False, False,\n",
       "        True, False, False, False, False, False,  True, False,  True,\n",
       "       False, False, False, False, False, False, False, False, False,\n",
       "       False, False, False, False, False, False, False,  True, False,\n",
       "       False, False, False, False, False, False, False, False, False,\n",
       "       False, False, False, False, False, False, False, False, False,\n",
       "       False,  True, False, False, False, False,  True, False, False,\n",
       "       False, False,  True, False, False, False, False,  True, False,\n",
       "       False, False, False, False,  True, False, False, False, False,\n",
       "       False, False, False, False, False, False, False, False, False,\n",
       "       False,  True, False, False, False, False, False, False, False,\n",
       "       False, False, False, False, False, False, False, False, False,\n",
       "       False, False, False, False, False,  True, False,  True, False,\n",
       "       False, False, False, False, False, False, False, False, False,\n",
       "       False, False,  True, False,  True, False, False, False, False,\n",
       "       False, False,  True, False, False, False, False,  True, False,\n",
       "       False, False, False,  True, False,  True, False, False, False,\n",
       "       False, False, False, False, False, False, False, False, False,\n",
       "       False, False, False, False, False, False, False, False, False,\n",
       "       False,  True, False, False, False, False, False, False, False,\n",
       "       False, False, False, False,  True, False, False, False, False,\n",
       "       False, False, False,  True, False, False, False,  True, False,\n",
       "       False, False,  True, False, False, False, False, False, False,\n",
       "       False, False, False, False, False, False, False, False, False,\n",
       "       False, False, False, False, False, False, False, False, False,\n",
       "       False, False, False, False, False, False, False, False, False,\n",
       "       False, False, False, False, False, False, False, False,  True,\n",
       "       False, False, False, False, False, False, False, False, False,\n",
       "        True, False, False, False, False, False, False,  True, False,\n",
       "        True, False, False, False, False, False, False, False, False,\n",
       "        True, False, False, False, False, False, False, False,  True,\n",
       "        True, False,  True, False, False, False, False, False, False,\n",
       "       False, False, False, False, False, False, False,  True, False,\n",
       "        True, False,  True, False, False, False, False,  True, False,\n",
       "       False,  True, False, False, False, False,  True, False, False,\n",
       "       False, False, False, False, False, False, False, False, False,\n",
       "       False, False, False, False, False, False, False, False, False,\n",
       "       False, False, False, False, False, False, False, False, False,\n",
       "        True, False,  True, False, False, False, False, False, False,\n",
       "       False, False, False,  True,  True, False, False, False, False,\n",
       "       False, False, False, False, False, False, False, False, False,\n",
       "       False, False, False, False, False, False, False, False, False,\n",
       "       False, False,  True, False, False, False, False, False,  True,\n",
       "       False, False, False, False,  True,  True,  True, False, False,\n",
       "       False, False, False, False, False, False, False, False, False,\n",
       "       False, False, False, False, False, False, False,  True, False,\n",
       "       False, False, False, False, False, False, False, False, False,\n",
       "        True, False, False, False, False, False, False, False,  True,\n",
       "        True, False, False, False, False,  True,  True,  True, False,\n",
       "       False, False, False, False, False, False, False, False, False,\n",
       "        True,  True,  True, False, False, False, False, False, False,\n",
       "       False, False, False, False, False, False,  True, False, False,\n",
       "        True, False, False, False,  True, False,  True,  True, False,\n",
       "       False, False, False, False, False,  True, False, False, False,\n",
       "       False, False, False, False, False, False, False, False, False,\n",
       "       False, False,  True, False, False])"
      ]
     },
     "execution_count": 84,
     "metadata": {},
     "output_type": "execute_result"
    }
   ],
   "source": [
    "pred == y"
   ]
  }
 ],
 "metadata": {
  "kernelspec": {
   "display_name": "Python 3",
   "language": "python",
   "name": "python3"
  },
  "language_info": {
   "codemirror_mode": {
    "name": "ipython",
    "version": 3
   },
   "file_extension": ".py",
   "mimetype": "text/x-python",
   "name": "python",
   "nbconvert_exporter": "python",
   "pygments_lexer": "ipython3",
   "version": "3.8.5"
  }
 },
 "nbformat": 4,
 "nbformat_minor": 4
}
