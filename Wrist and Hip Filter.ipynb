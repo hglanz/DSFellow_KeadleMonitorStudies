{
 "cells": [
  {
   "cell_type": "code",
   "execution_count": 1,
   "metadata": {},
   "outputs": [],
   "source": [
    "import pandas as pd\n",
    "import datetime\n",
    "import glob"
   ]
  },
  {
   "cell_type": "code",
   "execution_count": 2,
   "metadata": {},
   "outputs": [],
   "source": [
    "def read_in_data(location, path):\n",
    "    files = glob.glob(path + location + \"_agg/*\")\n",
    "    df = pd.read_csv(files[0])\n",
    "    filename = files[0].split(\"agg\")[-1][1:-4]\n",
    "    df[\"file\"] = filename\n",
    "    for file in files[1:]:\n",
    "        new_df = pd.read_csv(file)\n",
    "        filename = file.split(\"agg\")[-1][1:-4]\n",
    "        new_df[\"file\"] = filename\n",
    "        df = df.append(new_df)\n",
    "    return df"
   ]
  },
  {
   "cell_type": "code",
   "execution_count": 3,
   "metadata": {},
   "outputs": [],
   "source": [
    "df_wrist = read_in_data(\"wrist\", '')\n",
    "df_hip = read_in_data(\"hip\", '')"
   ]
  },
  {
   "cell_type": "code",
   "execution_count": 4,
   "metadata": {},
   "outputs": [
    {
     "data": {
      "text/html": [
       "<div>\n",
       "<style scoped>\n",
       "    .dataframe tbody tr th:only-of-type {\n",
       "        vertical-align: middle;\n",
       "    }\n",
       "\n",
       "    .dataframe tbody tr th {\n",
       "        vertical-align: top;\n",
       "    }\n",
       "\n",
       "    .dataframe thead th {\n",
       "        text-align: right;\n",
       "    }\n",
       "</style>\n",
       "<table border=\"1\" class=\"dataframe\">\n",
       "  <thead>\n",
       "    <tr style=\"text-align: right;\">\n",
       "      <th></th>\n",
       "      <th>id</th>\n",
       "      <th>obs</th>\n",
       "      <th>type</th>\n",
       "      <th>start_month</th>\n",
       "      <th>start_day</th>\n",
       "      <th>start_year</th>\n",
       "      <th>start_time</th>\n",
       "      <th>stop_time</th>\n",
       "      <th>duration</th>\n",
       "      <th>session</th>\n",
       "    </tr>\n",
       "  </thead>\n",
       "  <tbody>\n",
       "    <tr>\n",
       "      <th>1</th>\n",
       "      <td>AM01</td>\n",
       "      <td>DO1</td>\n",
       "      <td>H</td>\n",
       "      <td>10</td>\n",
       "      <td>6</td>\n",
       "      <td>2017</td>\n",
       "      <td>16:43:57</td>\n",
       "      <td>18:45:00</td>\n",
       "      <td>2:01:03</td>\n",
       "      <td>2</td>\n",
       "    </tr>\n",
       "    <tr>\n",
       "      <th>2</th>\n",
       "      <td>AM02</td>\n",
       "      <td>DO1</td>\n",
       "      <td>H</td>\n",
       "      <td>7</td>\n",
       "      <td>24</td>\n",
       "      <td>2017</td>\n",
       "      <td>13:17:10</td>\n",
       "      <td>15:17:32</td>\n",
       "      <td>2:00:22</td>\n",
       "      <td>1</td>\n",
       "    </tr>\n",
       "    <tr>\n",
       "      <th>6</th>\n",
       "      <td>AM03</td>\n",
       "      <td>DO2</td>\n",
       "      <td>H</td>\n",
       "      <td>7</td>\n",
       "      <td>27</td>\n",
       "      <td>2017</td>\n",
       "      <td>13:01:29</td>\n",
       "      <td>15:00:39</td>\n",
       "      <td>1:59:10</td>\n",
       "      <td>2</td>\n",
       "    </tr>\n",
       "    <tr>\n",
       "      <th>12</th>\n",
       "      <td>AM07</td>\n",
       "      <td>DO1</td>\n",
       "      <td>H</td>\n",
       "      <td>8</td>\n",
       "      <td>2</td>\n",
       "      <td>2017</td>\n",
       "      <td>9:01:18</td>\n",
       "      <td>11:01:27</td>\n",
       "      <td>2:00:09</td>\n",
       "      <td>1</td>\n",
       "    </tr>\n",
       "    <tr>\n",
       "      <th>40</th>\n",
       "      <td>AM19</td>\n",
       "      <td>DO1</td>\n",
       "      <td>H</td>\n",
       "      <td>11</td>\n",
       "      <td>9</td>\n",
       "      <td>2017</td>\n",
       "      <td>11:33:03</td>\n",
       "      <td>13:34:00</td>\n",
       "      <td>2:00:57</td>\n",
       "      <td>1</td>\n",
       "    </tr>\n",
       "  </tbody>\n",
       "</table>\n",
       "</div>"
      ],
      "text/plain": [
       "      id  obs type  start_month  start_day  start_year start_time stop_time  \\\n",
       "1   AM01  DO1    H           10          6        2017   16:43:57  18:45:00   \n",
       "2   AM02  DO1    H            7         24        2017   13:17:10  15:17:32   \n",
       "6   AM03  DO2    H            7         27        2017   13:01:29  15:00:39   \n",
       "12  AM07  DO1    H            8          2        2017    9:01:18  11:01:27   \n",
       "40  AM19  DO1    H           11          9        2017   11:33:03  13:34:00   \n",
       "\n",
       "   duration  session  \n",
       "1   2:01:03        2  \n",
       "2   2:00:22        1  \n",
       "6   1:59:10        2  \n",
       "12  2:00:09        1  \n",
       "40  2:00:57        1  "
      ]
     },
     "execution_count": 4,
     "metadata": {},
     "output_type": "execute_result"
    }
   ],
   "source": [
    "DO_log_final_df = pd.read_csv('DO_log_final.csv')"
   ]
  },
  {
   "cell_type": "code",
   "execution_count": 7,
   "metadata": {},
   "outputs": [],
   "source": [
    "def datetime_filter(location, data, log):\n",
    "    log = log[log['type'] == location[0].upper()]\n",
    "    \n",
    "    log['date'] = pd.to_datetime(log[['start_day','start_month','start_year']]\n",
    "                   .astype(str).apply(' '.join, 1), format='%d %m %Y').astype(str)\n",
    "    log['start_time'] = pd.to_datetime(log['start_time'], format = '%H:%M:%S').apply(lambda x: x.time())\n",
    "    log['stop_time'] = pd.to_datetime(log['stop_time'], format = '%H:%M:%S').apply(lambda x: x.time())\n",
    "    \n",
    "    data['actual_datetime'] = pd.to_datetime(data['actual_datetime'], format = '%Y-%m-%d %H:%M:%S')\n",
    "    data['actual_date'] = data['actual_datetime'].apply(lambda x: x.date()).astype(str)\n",
    "    data['actual_time'] = data['actual_datetime'].apply(lambda x: x.time())\n",
    "    \n",
    "    joined = pd.merge(data, log, how = 'left', left_on = 'actual_date', right_on = 'date')\n",
    "    \n",
    "    joined = joined[(joined['actual_time'] >= joined['start_time']) & \n",
    "                    (joined['actual_time'] <= joined['stop_time'])]\n",
    "    \n",
    "    return joined[['Accelerometer X', 'Accelerometer Y', 'Accelerometer Z', 'actual_datetime', 'file']]"
   ]
  },
  {
   "cell_type": "code",
   "execution_count": 8,
   "metadata": {},
   "outputs": [
    {
     "name": "stderr",
     "output_type": "stream",
     "text": [
      "<ipython-input-7-392f920baa60>:4: SettingWithCopyWarning: \n",
      "A value is trying to be set on a copy of a slice from a DataFrame.\n",
      "Try using .loc[row_indexer,col_indexer] = value instead\n",
      "\n",
      "See the caveats in the documentation: https://pandas.pydata.org/pandas-docs/stable/user_guide/indexing.html#returning-a-view-versus-a-copy\n",
      "  log['date'] = pd.to_datetime(log[['start_day','start_month','start_year']]\n",
      "<ipython-input-7-392f920baa60>:6: SettingWithCopyWarning: \n",
      "A value is trying to be set on a copy of a slice from a DataFrame.\n",
      "Try using .loc[row_indexer,col_indexer] = value instead\n",
      "\n",
      "See the caveats in the documentation: https://pandas.pydata.org/pandas-docs/stable/user_guide/indexing.html#returning-a-view-versus-a-copy\n",
      "  log['start_time'] = pd.to_datetime(log['start_time'], format = '%H:%M:%S').apply(lambda x: x.time())\n",
      "<ipython-input-7-392f920baa60>:7: SettingWithCopyWarning: \n",
      "A value is trying to be set on a copy of a slice from a DataFrame.\n",
      "Try using .loc[row_indexer,col_indexer] = value instead\n",
      "\n",
      "See the caveats in the documentation: https://pandas.pydata.org/pandas-docs/stable/user_guide/indexing.html#returning-a-view-versus-a-copy\n",
      "  log['stop_time'] = pd.to_datetime(log['stop_time'], format = '%H:%M:%S').apply(lambda x: x.time())\n"
     ]
    }
   ],
   "source": [
    "hip_filtered = datetime_filter('hip', df_hip, DO_log_final_df)\n",
    "wrist_filtered = datetime_filter('wrist', df_wrist, DO_log_final_df)"
   ]
  },
  {
   "cell_type": "code",
   "execution_count": 9,
   "metadata": {},
   "outputs": [
    {
     "data": {
      "text/plain": [
       "array([datetime.date(2017, 10, 6), datetime.date(2017, 7, 24),\n",
       "       datetime.date(2017, 7, 27), datetime.date(2017, 8, 2),\n",
       "       datetime.date(2017, 11, 9), datetime.date(2017, 12, 2),\n",
       "       datetime.date(2018, 2, 17), datetime.date(2018, 2, 24),\n",
       "       datetime.date(2018, 5, 18)], dtype=object)"
      ]
     },
     "execution_count": 9,
     "metadata": {},
     "output_type": "execute_result"
    }
   ],
   "source": [
    "hip_filtered['actual_datetime'].apply(lambda x: x.date()).unique()"
   ]
  },
  {
   "cell_type": "code",
   "execution_count": 10,
   "metadata": {},
   "outputs": [
    {
     "data": {
      "text/html": [
       "<div>\n",
       "<style scoped>\n",
       "    .dataframe tbody tr th:only-of-type {\n",
       "        vertical-align: middle;\n",
       "    }\n",
       "\n",
       "    .dataframe tbody tr th {\n",
       "        vertical-align: top;\n",
       "    }\n",
       "\n",
       "    .dataframe thead th {\n",
       "        text-align: right;\n",
       "    }\n",
       "</style>\n",
       "<table border=\"1\" class=\"dataframe\">\n",
       "  <thead>\n",
       "    <tr style=\"text-align: right;\">\n",
       "      <th></th>\n",
       "      <th>start_month</th>\n",
       "      <th>start_day</th>\n",
       "      <th>start_year</th>\n",
       "    </tr>\n",
       "  </thead>\n",
       "  <tbody>\n",
       "    <tr>\n",
       "      <th>1</th>\n",
       "      <td>10</td>\n",
       "      <td>6</td>\n",
       "      <td>2017</td>\n",
       "    </tr>\n",
       "    <tr>\n",
       "      <th>2</th>\n",
       "      <td>7</td>\n",
       "      <td>24</td>\n",
       "      <td>2017</td>\n",
       "    </tr>\n",
       "    <tr>\n",
       "      <th>6</th>\n",
       "      <td>7</td>\n",
       "      <td>27</td>\n",
       "      <td>2017</td>\n",
       "    </tr>\n",
       "    <tr>\n",
       "      <th>12</th>\n",
       "      <td>8</td>\n",
       "      <td>2</td>\n",
       "      <td>2017</td>\n",
       "    </tr>\n",
       "    <tr>\n",
       "      <th>40</th>\n",
       "      <td>11</td>\n",
       "      <td>9</td>\n",
       "      <td>2017</td>\n",
       "    </tr>\n",
       "    <tr>\n",
       "      <th>42</th>\n",
       "      <td>12</td>\n",
       "      <td>2</td>\n",
       "      <td>2017</td>\n",
       "    </tr>\n",
       "    <tr>\n",
       "      <th>50</th>\n",
       "      <td>2</td>\n",
       "      <td>17</td>\n",
       "      <td>2018</td>\n",
       "    </tr>\n",
       "    <tr>\n",
       "      <th>53</th>\n",
       "      <td>2</td>\n",
       "      <td>24</td>\n",
       "      <td>2018</td>\n",
       "    </tr>\n",
       "    <tr>\n",
       "      <th>54</th>\n",
       "      <td>2</td>\n",
       "      <td>24</td>\n",
       "      <td>2018</td>\n",
       "    </tr>\n",
       "    <tr>\n",
       "      <th>56</th>\n",
       "      <td>5</td>\n",
       "      <td>18</td>\n",
       "      <td>2018</td>\n",
       "    </tr>\n",
       "  </tbody>\n",
       "</table>\n",
       "</div>"
      ],
      "text/plain": [
       "    start_month  start_day  start_year\n",
       "1            10          6        2017\n",
       "2             7         24        2017\n",
       "6             7         27        2017\n",
       "12            8          2        2017\n",
       "40           11          9        2017\n",
       "42           12          2        2017\n",
       "50            2         17        2018\n",
       "53            2         24        2018\n",
       "54            2         24        2018\n",
       "56            5         18        2018"
      ]
     },
     "execution_count": 10,
     "metadata": {},
     "output_type": "execute_result"
    }
   ],
   "source": [
    "DO_log_final_df[DO_log_final_df['type'] == 'H'][['start_month', 'start_day', 'start_year']]"
   ]
  },
  {
   "cell_type": "code",
   "execution_count": 11,
   "metadata": {
    "scrolled": true
   },
   "outputs": [],
   "source": [
    "hip_filtered.to_csv('hip_filtered.csv', index = False)\n",
    "wrist_filtered.to_csv('wrist_filtered.csv', index = False)"
   ]
  }
 ],
 "metadata": {
  "kernelspec": {
   "display_name": "Python 3",
   "language": "python",
   "name": "python3"
  },
  "language_info": {
   "codemirror_mode": {
    "name": "ipython",
    "version": 3
   },
   "file_extension": ".py",
   "mimetype": "text/x-python",
   "name": "python",
   "nbconvert_exporter": "python",
   "pygments_lexer": "ipython3",
   "version": "3.8.5"
  }
 },
 "nbformat": 4,
 "nbformat_minor": 4
}
