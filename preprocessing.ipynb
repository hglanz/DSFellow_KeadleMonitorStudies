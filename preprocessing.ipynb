{
 "cells": [
  {
   "cell_type": "code",
   "execution_count": 1,
   "id": "solid-bradford",
   "metadata": {},
   "outputs": [],
   "source": [
    "import pandas as pd\n",
    "import numpy as np\n",
    "import glob\n",
    "import datetime"
   ]
  },
  {
   "cell_type": "markdown",
   "id": "tropical-wright",
   "metadata": {},
   "source": [
    "## Reading in Data"
   ]
  },
  {
   "cell_type": "code",
   "execution_count": 2,
   "id": "independent-taylor",
   "metadata": {},
   "outputs": [],
   "source": [
    "def read_in_data(location, path):\n",
    "    files = glob.glob(path + location + \"_agg/*\")\n",
    "    df = pd.read_csv(files[0])\n",
    "    filename = files[0].split(\"agg\")[-1][1:-4]\n",
    "    hip_or_wrist = location in ['wrist', 'hip']\n",
    "    df[\"file\"] = filename\n",
    "    if hip_or_wrist:\n",
    "        df['id'] = filename.split('_')[1][:4]\n",
    "    for file in files[1:]:\n",
    "        new_df = pd.read_csv(file)\n",
    "        filename = file.split(\"agg\")[-1][1:-4]\n",
    "        new_df[\"file\"] = filename\n",
    "        if hip_or_wrist:\n",
    "            new_df['id'] = filename.split('_')[1][:4]\n",
    "        df = df.append(new_df)\n",
    "    return df"
   ]
  },
  {
   "cell_type": "code",
   "execution_count": 3,
   "id": "spatial-nitrogen",
   "metadata": {},
   "outputs": [],
   "source": [
    "path = \"E:/Data/Monitor Data/\" # The directory of wrist_agg, hip_agg, chest_agg, thigh_agg, and processed directories\n",
    "\n",
    "df_wrist = read_in_data(\"wrist\", path)\n",
    "df_hip = read_in_data(\"hip\", path)\n",
    "df_chest = read_in_data(\"chest\", path)\n",
    "df_thigh = read_in_data(\"thigh\", path)\n",
    "\n",
    "groundtruth = pd.read_csv(path + \"processed/groundtruth.csv\").drop(\"Unnamed: 0\", axis=1)"
   ]
  },
  {
   "cell_type": "code",
   "execution_count": 4,
   "id": "controlled-steering",
   "metadata": {},
   "outputs": [
    {
     "name": "stdout",
     "output_type": "stream",
     "text": [
      "15795431\n",
      "16777678\n",
      "524525\n",
      "521887\n",
      "341101\n"
     ]
    }
   ],
   "source": [
    "print(len(df_wrist))\n",
    "print(len(df_hip))\n",
    "print(len(df_chest))\n",
    "print(len(df_thigh))\n",
    "print(len(groundtruth))"
   ]
  },
  {
   "cell_type": "markdown",
   "id": "persistent-mentor",
   "metadata": {},
   "source": [
    "## Wrist and Hip Merge With Groundtruth on ID and Date"
   ]
  },
  {
   "cell_type": "code",
   "execution_count": 5,
   "id": "opening-favor",
   "metadata": {},
   "outputs": [],
   "source": [
    "groundtruth['date'] = groundtruth['time'].str.split(' ').apply(lambda x: x[0])\n",
    "groundtruth['year'] = groundtruth['date'].str.split('/').apply(lambda x: x[2])\n",
    "groundtruth['month'] = groundtruth['date'].str.split('/').apply(lambda x: x[0])\n",
    "groundtruth['day'] = groundtruth['date'].str.split('/').apply(lambda x: x[1])\n",
    "groundtruth['datetime'] = pd.to_datetime(groundtruth[['year', 'month', 'day']]).astype(str)\n",
    "groundtruth['actual_datetime'] = groundtruth['datetime'] + ' ' + groundtruth['actual_time']"
   ]
  },
  {
   "cell_type": "code",
   "execution_count": 6,
   "id": "small-circumstances",
   "metadata": {},
   "outputs": [],
   "source": [
    "groundtruth.drop(['date', 'year', 'month', 'day', 'datetime'], inplace = True, axis = 1)"
   ]
  },
  {
   "cell_type": "code",
   "execution_count": 7,
   "id": "immune-intellectual",
   "metadata": {},
   "outputs": [],
   "source": [
    "# df_wrist = df_wrist.merge(groundtruth, on = ['actual_datetime', 'id'], how = 'inner')\n",
    "# df_hip = df_hip.merge(groundtruth, on = ['actual_datetime', 'id'], how = 'inner')"
   ]
  },
  {
   "cell_type": "markdown",
   "id": "southeast-easter",
   "metadata": {},
   "source": [
    "## Feature Selection and Engineering"
   ]
  },
  {
   "cell_type": "code",
   "execution_count": 8,
   "id": "hazardous-oxide",
   "metadata": {},
   "outputs": [],
   "source": [
    "df_chest.rename(columns = {\"Accel X (g)\": \"Accelerometer X\", \n",
    "                           \"Accel Y (g)\": \"Accelerometer Y\", \n",
    "                           \"Accel Z (g)\": \"Accelerometer Z\"}, inplace=True)\n",
    "df_thigh.rename(columns = {\"Accel X (g)\": \"Accelerometer X\", \n",
    "                           \"Accel Y (g)\": \"Accelerometer Y\", \n",
    "                           \"Accel Z (g)\": \"Accelerometer Z\"}, inplace=True)"
   ]
  },
  {
   "cell_type": "code",
   "execution_count": 9,
   "id": "hairy-attention",
   "metadata": {},
   "outputs": [],
   "source": [
    "dt_vars = [\"time\", \"actual_time\", \"start.time\"]\n",
    "for var in dt_vars:\n",
    "    groundtruth[var] = pd.to_datetime(groundtruth[var])"
   ]
  },
  {
   "cell_type": "code",
   "execution_count": 10,
   "id": "racial-earthquake",
   "metadata": {},
   "outputs": [
    {
     "data": {
      "text/plain": [
       "0   2017-08-02 18:30:13\n",
       "1   2017-08-02 18:30:14\n",
       "2   2017-08-02 18:30:15\n",
       "3   2017-08-02 18:30:16\n",
       "4   2017-08-02 18:30:17\n",
       "Name: time, dtype: datetime64[ns]"
      ]
     },
     "execution_count": 10,
     "metadata": {},
     "output_type": "execute_result"
    }
   ],
   "source": [
    "groundtruth[\"time\"] = groundtruth[\"time\"] + pd.to_timedelta(groundtruth[\"actual_time\"].dt.second, unit=\"s\")\n",
    "groundtruth[\"time\"].head()"
   ]
  },
  {
   "cell_type": "code",
   "execution_count": 11,
   "id": "annoying-tamil",
   "metadata": {},
   "outputs": [
    {
     "data": {
      "text/plain": [
       "time                     datetime64[ns]\n",
       "id                               object\n",
       "coding                           object\n",
       "primary_behavior                 object\n",
       "primary_posture                  object\n",
       "primary_upperbody                object\n",
       "primary_intensity                object\n",
       "secondary_behavior               object\n",
       "secondary_posture                object\n",
       "secondary_upperbody              object\n",
       "secondary_intensity              object\n",
       "num_postures                      int64\n",
       "transition                        int64\n",
       "actual_time              datetime64[ns]\n",
       "posture_coding                   object\n",
       "type                             object\n",
       "start.time               datetime64[ns]\n",
       "broad_activity                   object\n",
       "detailed_activity                object\n",
       "walking_running_bouts            object\n",
       "updated_activity                 object\n",
       "act_type                         object\n",
       "act_type_broad                   object\n",
       "actual_datetime                  object\n",
       "dtype: object"
      ]
     },
     "execution_count": 11,
     "metadata": {},
     "output_type": "execute_result"
    }
   ],
   "source": [
    "groundtruth.dtypes"
   ]
  },
  {
   "cell_type": "code",
   "execution_count": 12,
   "id": "second-booth",
   "metadata": {},
   "outputs": [],
   "source": [
    "kept_merge_variables = [\"id\", \"time\", \"primary_behavior\", \"primary_posture\", \"primary_upperbody\", \n",
    "                        \"primary_intensity\", \"secondary_behavior\", \"secondary_posture\", \"secondary_upperbody\", \n",
    "                        \"secondary_intensity\", \"num_postures\", \"transition\", \"actual_time\", \"type\", \"start_time\",\n",
    "                        \"broad_activity\", \"detailed_activity\", \"updated_activity\", \"act_type\", \"act_type_broad\"]\n",
    "\n",
    "dropped_merge_variables = [\"coding\", # Duplicates primary_intensity\n",
    "                           \"posture_coding\", # Duplicates primary_posture\n",
    "                           \"walking_running_bouts\" # NaNs\n",
    "                          ]"
   ]
  },
  {
   "cell_type": "code",
   "execution_count": 13,
   "id": "valid-battlefield",
   "metadata": {},
   "outputs": [],
   "source": [
    "groundtruth.drop(dropped_merge_variables, axis=1, inplace=True)"
   ]
  },
  {
   "cell_type": "code",
   "execution_count": 14,
   "id": "occupied-maximum",
   "metadata": {},
   "outputs": [],
   "source": [
    "df_wrist[\"actual_datetime\"] = pd.to_datetime(df_wrist[\"actual_datetime\"])\n",
    "df_hip[\"actual_datetime\"] = pd.to_datetime(df_hip[\"actual_datetime\"])\n",
    "df_chest[\"actual_datetime\"] = pd.to_datetime(df_chest[\"actual_datetime\"])\n",
    "df_thigh[\"actual_datetime\"] = pd.to_datetime(df_thigh[\"actual_datetime\"])"
   ]
  },
  {
   "cell_type": "code",
   "execution_count": 15,
   "id": "aboriginal-applicant",
   "metadata": {},
   "outputs": [
    {
     "name": "stdout",
     "output_type": "stream",
     "text": [
      "Wrist:\n"
     ]
    },
    {
     "data": {
      "text/plain": [
       "array([datetime.date(2017, 10, 2), datetime.date(2017, 10, 3),\n",
       "       datetime.date(2017, 10, 4), datetime.date(2017, 10, 5),\n",
       "       datetime.date(2017, 10, 6), datetime.date(2017, 10, 7),\n",
       "       datetime.date(2017, 10, 8), datetime.date(2017, 10, 9),\n",
       "       datetime.date(2017, 10, 10), datetime.date(2017, 10, 11),\n",
       "       datetime.date(2017, 10, 12), datetime.date(2017, 10, 13),\n",
       "       datetime.date(2017, 10, 14), datetime.date(2017, 10, 15),\n",
       "       datetime.date(2017, 10, 16), datetime.date(2017, 10, 23),\n",
       "       datetime.date(2017, 10, 24), datetime.date(2017, 10, 25),\n",
       "       datetime.date(2017, 10, 26), datetime.date(2017, 10, 27),\n",
       "       datetime.date(2017, 10, 28), datetime.date(2017, 10, 29),\n",
       "       datetime.date(2017, 10, 30)], dtype=object)"
      ]
     },
     "metadata": {},
     "output_type": "display_data"
    },
    {
     "name": "stdout",
     "output_type": "stream",
     "text": [
      "Hip:\n"
     ]
    },
    {
     "data": {
      "text/plain": [
       "array([datetime.date(2017, 10, 2), datetime.date(2017, 10, 3),\n",
       "       datetime.date(2017, 10, 4), datetime.date(2017, 10, 5),\n",
       "       datetime.date(2017, 10, 6), datetime.date(2017, 10, 7),\n",
       "       datetime.date(2017, 10, 8), datetime.date(2017, 10, 9),\n",
       "       datetime.date(2017, 10, 10), datetime.date(2017, 10, 11),\n",
       "       datetime.date(2017, 10, 12), datetime.date(2017, 10, 13),\n",
       "       datetime.date(2017, 10, 14), datetime.date(2017, 10, 15),\n",
       "       datetime.date(2017, 10, 16), datetime.date(2017, 10, 23),\n",
       "       datetime.date(2017, 10, 24), datetime.date(2017, 10, 25),\n",
       "       datetime.date(2017, 10, 26), datetime.date(2017, 10, 27),\n",
       "       datetime.date(2017, 10, 28), datetime.date(2017, 10, 29),\n",
       "       datetime.date(2017, 10, 30)], dtype=object)"
      ]
     },
     "metadata": {},
     "output_type": "display_data"
    },
    {
     "name": "stdout",
     "output_type": "stream",
     "text": [
      "Chest:\n"
     ]
    },
    {
     "data": {
      "text/plain": [
       "array([datetime.date(2017, 10, 4), datetime.date(2017, 10, 6),\n",
       "       datetime.date(2017, 10, 7), datetime.date(2017, 10, 13),\n",
       "       datetime.date(2017, 10, 14), datetime.date(2017, 10, 8),\n",
       "       datetime.date(2017, 10, 11), datetime.date(2017, 10, 25),\n",
       "       datetime.date(2017, 10, 27)], dtype=object)"
      ]
     },
     "metadata": {},
     "output_type": "display_data"
    },
    {
     "name": "stdout",
     "output_type": "stream",
     "text": [
      "Thigh:\n"
     ]
    },
    {
     "data": {
      "text/plain": [
       "array([datetime.date(2017, 10, 4), datetime.date(2017, 10, 6),\n",
       "       datetime.date(2017, 10, 7), datetime.date(2017, 10, 13),\n",
       "       datetime.date(2017, 10, 14), datetime.date(2017, 10, 8),\n",
       "       datetime.date(2017, 10, 11), datetime.date(2017, 10, 25),\n",
       "       datetime.date(2017, 10, 27)], dtype=object)"
      ]
     },
     "metadata": {},
     "output_type": "display_data"
    }
   ],
   "source": [
    "dfs = [df_wrist, df_hip, df_chest, df_thigh]\n",
    "locations = [\"Wrist\", \"Hip\", \"Chest\", \"Thigh\"]\n",
    "for i in range(len(dfs)):\n",
    "    print(locations[i] + \":\")\n",
    "    display(dfs[i][dfs[i][\"actual_datetime\"].dt.month == 10][\"actual_datetime\"].dt.date.unique())"
   ]
  },
  {
   "cell_type": "code",
   "execution_count": 16,
   "id": "palestinian-massage",
   "metadata": {},
   "outputs": [],
   "source": [
    "locations = [\"wrist\", \"hip\", \n",
    "             \"chest\", \"thigh\"]\n",
    "all_dfs = [df_wrist, df_hip, \n",
    "           df_chest, df_thigh]"
   ]
  },
  {
   "cell_type": "code",
   "execution_count": 17,
   "id": "spare-union",
   "metadata": {},
   "outputs": [
    {
     "data": {
      "text/plain": [
       "Index(['Accelerometer X', 'Accelerometer Y', 'Accelerometer Z',\n",
       "       'actual_datetime', 'file', 'id'],\n",
       "      dtype='object')"
      ]
     },
     "metadata": {},
     "output_type": "display_data"
    },
    {
     "data": {
      "text/plain": [
       "Index(['Accelerometer X', 'Accelerometer Y', 'Accelerometer Z',\n",
       "       'actual_datetime', 'file'],\n",
       "      dtype='object')"
      ]
     },
     "metadata": {},
     "output_type": "display_data"
    }
   ],
   "source": [
    "display(df_wrist.columns)\n",
    "display(df_chest.columns)"
   ]
  },
  {
   "cell_type": "code",
   "execution_count": 18,
   "id": "useful-publicity",
   "metadata": {},
   "outputs": [],
   "source": [
    "new_dfs = []\n",
    "for df in all_dfs:\n",
    "#     df.drop(\"file\", axis=1, inplace=True)\n",
    "    merged_df = df.merge(groundtruth, how = \"inner\", left_on = \"actual_datetime\", right_on = \"time\")\n",
    "    #Adding new variables\n",
    "    merged_df[\"magnitude_of_change_X\"] = merged_df[\"Accelerometer X\"].diff().fillna(0)\n",
    "    merged_df[\"magnitude_of_change_Y\"] = merged_df[\"Accelerometer Y\"].diff().fillna(0)\n",
    "    merged_df[\"magnitude_of_change_Z\"] = merged_df[\"Accelerometer Z\"].diff().fillna(0)\n",
    "    merged_df[\"time_diff_seconds\"] = (merged_df[\"time\"] - merged_df[\"time\"].shift()).dt.total_seconds().fillna(1).astype(int)\n",
    "    \n",
    "    merged_df[\"year\"] = merged_df[\"time\"].dt.year\n",
    "    merged_df[\"month\"] = merged_df[\"time\"].dt.month\n",
    "    merged_df[\"day_of_week\"] = merged_df[\"time\"].dt.dayofweek\n",
    "    merged_df[\"day\"] = merged_df[\"time\"].dt.day\n",
    "    merged_df[\"hour\"] = merged_df[\"time\"].dt.hour\n",
    "    merged_df[\"minute\"] = merged_df[\"time\"].dt.minute\n",
    "    merged_df[\"second\"] = merged_df[\"time\"].dt.second\n",
    "    \n",
    "    new_dfs.append(merged_df)"
   ]
  },
  {
   "cell_type": "code",
   "execution_count": 19,
   "id": "included-bottom",
   "metadata": {},
   "outputs": [],
   "source": [
    "output_dir = \"E:/Data/Monitor Data/data_frames/\"\n",
    "\n",
    "for i in range(len(new_dfs)):\n",
    "    new_dfs[i].to_csv(output_dir + locations[i] + \".csv\", index=False)"
   ]
  }
 ],
 "metadata": {
  "kernelspec": {
   "display_name": "Python 3",
   "language": "python",
   "name": "python3"
  },
  "language_info": {
   "codemirror_mode": {
    "name": "ipython",
    "version": 3
   },
   "file_extension": ".py",
   "mimetype": "text/x-python",
   "name": "python",
   "nbconvert_exporter": "python",
   "pygments_lexer": "ipython3",
   "version": "3.7.4"
  }
 },
 "nbformat": 4,
 "nbformat_minor": 5
}
