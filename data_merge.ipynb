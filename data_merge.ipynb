{
 "cells": [
  {
   "cell_type": "code",
   "execution_count": 1,
   "id": "loose-montgomery",
   "metadata": {},
   "outputs": [],
   "source": [
    "import pandas as pd\n",
    "import numpy as np\n",
    "import glob"
   ]
  },
  {
   "cell_type": "code",
   "execution_count": 2,
   "id": "aging-elite",
   "metadata": {},
   "outputs": [],
   "source": [
    "def read_in_data(location, path):\n",
    "    files = glob.glob(path + location + \"_agg/*\")\n",
    "    df = pd.read_csv(files[0])\n",
    "    filename = files[0].split(\"agg\")[-1][1:-4]\n",
    "    df[\"file\"] = filename\n",
    "    for file in files[1:]:\n",
    "        new_df = pd.read_csv(file)\n",
    "        filename = file.split(\"agg\")[-1][1:-4]\n",
    "        new_df[\"file\"] = filename\n",
    "        df = df.append(new_df)\n",
    "    return df"
   ]
  },
  {
   "cell_type": "code",
   "execution_count": 3,
   "id": "connected-bloom",
   "metadata": {},
   "outputs": [],
   "source": [
    "path = \"E:/Data/Monitor Data/\" # The directory of wrist_agg, hip_agg, chest_agg, thigh_agg, and processed directories\n",
    "\n",
    "df_wrist = read_in_data(\"wrist\", path)\n",
    "df_hip = read_in_data(\"hip\", path)\n",
    "df_chest = read_in_data(\"chest\", path)\n",
    "df_thigh = read_in_data(\"thigh\", path)\n",
    "\n",
    "groundtruth = pd.read_csv(path + \"processed/groundtruth.csv\")\n",
    "groundtruth.drop(\"Unnamed: 0\", axis=1, inplace=True)"
   ]
  },
  {
   "cell_type": "code",
   "execution_count": 4,
   "id": "personal-eight",
   "metadata": {},
   "outputs": [
    {
     "data": {
      "text/plain": [
       "array(['AG_AM01WRT (2017-10-02)AGGREGATE',\n",
       "       'AG_AM02WRT (2017-07-19)AGGREGATE',\n",
       "       'AG_AM03WRT (2017-07-24)AGGREGATE',\n",
       "       'AG_AM04WRT (2017-09-11)AGGREGATE',\n",
       "       'AG_AM05WRT (2017-09-19)AGGREGATE',\n",
       "       'AG_AM06WRT (2017-07-28)AGGREGATE',\n",
       "       'AG_AM07WRT (2017-07-31)AGGREGATE',\n",
       "       'AG_AM08WRT (2017-08-01)AGGREGATE',\n",
       "       'AG_AM09WRT (2017-08-08)AGGREGATE',\n",
       "       'AG_AM10WRT (2017-08-10)AGGREGATE',\n",
       "       'AG_AM11WRT (2017-08-30)AGGREGATE',\n",
       "       'AG_AM12WRT (2017-09-13)AGGREGATE',\n",
       "       'AG_AM13WRT (2017-09-18)AGGREGATE',\n",
       "       'AG_AM14WRT (2017-09-19)AGGREGATE',\n",
       "       'AG_AM15WRT (2017-10-09)AGGREGATE',\n",
       "       'AG_AM16WRT (2017-10-06)AGGREGATE',\n",
       "       'AG_AM17WRT (2017-10-23)AGGREGATE',\n",
       "       'AG_AM18WRT (2017-11-01)AGGREGATE',\n",
       "       'AG_AM19WRT (2017-11-06)AGGREGATE',\n",
       "       'AG_AM20WRT (2017-11-27)AGGREGATE',\n",
       "       'AG_AM21WRT (2018-01-11)AGGREGATE',\n",
       "       'AG_AM22WRT (2018-01-19)AGGREGATE',\n",
       "       'AG_AM24WRT (2018-02-02)AGGREGATE',\n",
       "       'AG_AM25WRT (2018-02-14)AGGREGATE',\n",
       "       'AG_AM26WRT (2018-02-21)AGGREGATE',\n",
       "       'AG_AM27WRT (2018-05-17)AGGREGATE'], dtype=object)"
      ]
     },
     "execution_count": 4,
     "metadata": {},
     "output_type": "execute_result"
    }
   ],
   "source": [
    "df_wrist[\"file\"].unique()"
   ]
  },
  {
   "cell_type": "code",
   "execution_count": 5,
   "id": "incomplete-heart",
   "metadata": {},
   "outputs": [
    {
     "data": {
      "text/plain": [
       "time                                                 1/20/2018 21:27\n",
       "id                                                              AM22\n",
       "coding                                                 non-sedentary\n",
       "primary_behavior                   EAT- eating and drinking, waiting\n",
       "primary_posture                                            LA- stand\n",
       "primary_upperbody                                                 no\n",
       "primary_intensity                                              light\n",
       "secondary_behavior                         HA- food prep and cleanup\n",
       "secondary_posture        LA- stand and move with upper body movement\n",
       "secondary_upperbody                                          unknown\n",
       "secondary_intensity                                            light\n",
       "num_postures                                                       2\n",
       "transition                                                         1\n",
       "actual_time                                                 13:27:21\n",
       "posture_coding                                             LA- stand\n",
       "type                                                            L-22\n",
       "start.time                                           1/20/2018 13:27\n",
       "broad_activity                                             sit/stand\n",
       "detailed_activity                                        stand still\n",
       "walking_running_bouts                                            NaN\n",
       "updated_activity                                         stand still\n",
       "act_type                                                      PC-gen\n",
       "act_type_broad                                                    HA\n",
       "Name: 267782, dtype: object"
      ]
     },
     "execution_count": 5,
     "metadata": {},
     "output_type": "execute_result"
    }
   ],
   "source": [
    "groundtruth.iloc[267782]"
   ]
  },
  {
   "cell_type": "code",
   "execution_count": 6,
   "id": "adjacent-belfast",
   "metadata": {
    "scrolled": false
   },
   "outputs": [
    {
     "data": {
      "text/plain": [
       "time                                                      10/27/2017 16:41\n",
       "id                                                                    AM17\n",
       "coding                                                           sedentary\n",
       "primary_behavior         WRK- screen basedentary - Education and Health...\n",
       "primary_posture                                                 SB-sitting\n",
       "primary_upperbody                                                   typing\n",
       "primary_intensity                                                sedentary\n",
       "secondary_behavior                                                    None\n",
       "secondary_posture                                                     None\n",
       "secondary_upperbody                                                   None\n",
       "secondary_intensity                                                   None\n",
       "num_postures                                                             1\n",
       "transition                                                               0\n",
       "actual_time                                                        9:41:58\n",
       "posture_coding                                                  SB-sitting\n",
       "type                                                                  W-17\n",
       "start.time                                                 10/27/2017 9:41\n",
       "broad_activity                                                   sit/stand\n",
       "detailed_activity                                                  sit/lie\n",
       "walking_running_bouts                                                  NaN\n",
       "updated_activity                                                   sit/lie\n",
       "act_type                                                        WRK-screen\n",
       "act_type_broad                                                         WRK\n",
       "Name: 60000, dtype: object"
      ]
     },
     "execution_count": 6,
     "metadata": {},
     "output_type": "execute_result"
    }
   ],
   "source": [
    "groundtruth.iloc[60000]"
   ]
  },
  {
   "cell_type": "code",
   "execution_count": 7,
   "id": "younger-boston",
   "metadata": {},
   "outputs": [
    {
     "data": {
      "text/plain": [
       "Accelerometer X                            0.250950\n",
       "Accelerometer Y                            0.920588\n",
       "Accelerometer Z                           -0.327150\n",
       "actual_datetime                 2017-10-02 10:15:00\n",
       "file               AG_AM01WRT (2017-10-02)AGGREGATE\n",
       "Name: 0, dtype: object"
      ]
     },
     "execution_count": 7,
     "metadata": {},
     "output_type": "execute_result"
    }
   ],
   "source": [
    "df_wrist.iloc[0]"
   ]
  },
  {
   "cell_type": "code",
   "execution_count": 8,
   "id": "finite-artwork",
   "metadata": {},
   "outputs": [],
   "source": [
    "df_chest.rename(columns = {\"Accel X (g)\": \"Accelerometer X\", \n",
    "                           \"Accel Y (g)\": \"Accelerometer Y\", \n",
    "                           \"Accel Z (g)\": \"Accelerometer Z\"}, inplace=True)\n",
    "df_thigh.rename(columns = {\"Accel X (g)\": \"Accelerometer X\", \n",
    "                           \"Accel Y (g)\": \"Accelerometer Y\", \n",
    "                           \"Accel Z (g)\": \"Accelerometer Z\"}, inplace=True)"
   ]
  },
  {
   "cell_type": "code",
   "execution_count": 9,
   "id": "sorted-organization",
   "metadata": {},
   "outputs": [
    {
     "data": {
      "text/html": [
       "<div>\n",
       "<style scoped>\n",
       "    .dataframe tbody tr th:only-of-type {\n",
       "        vertical-align: middle;\n",
       "    }\n",
       "\n",
       "    .dataframe tbody tr th {\n",
       "        vertical-align: top;\n",
       "    }\n",
       "\n",
       "    .dataframe thead th {\n",
       "        text-align: right;\n",
       "    }\n",
       "</style>\n",
       "<table border=\"1\" class=\"dataframe\">\n",
       "  <thead>\n",
       "    <tr style=\"text-align: right;\">\n",
       "      <th></th>\n",
       "      <th>Accelerometer X</th>\n",
       "      <th>Accelerometer Y</th>\n",
       "      <th>Accelerometer Z</th>\n",
       "      <th>actual_datetime</th>\n",
       "      <th>file</th>\n",
       "    </tr>\n",
       "  </thead>\n",
       "  <tbody>\n",
       "    <tr>\n",
       "      <th>0</th>\n",
       "      <td>0.250950</td>\n",
       "      <td>0.920588</td>\n",
       "      <td>-0.327150</td>\n",
       "      <td>2017-10-02 10:15:00</td>\n",
       "      <td>AG_AM01WRT (2017-10-02)AGGREGATE</td>\n",
       "    </tr>\n",
       "    <tr>\n",
       "      <th>1</th>\n",
       "      <td>0.251600</td>\n",
       "      <td>0.918650</td>\n",
       "      <td>-0.331750</td>\n",
       "      <td>2017-10-02 10:15:01</td>\n",
       "      <td>AG_AM01WRT (2017-10-02)AGGREGATE</td>\n",
       "    </tr>\n",
       "    <tr>\n",
       "      <th>2</th>\n",
       "      <td>0.225587</td>\n",
       "      <td>0.912912</td>\n",
       "      <td>-0.381100</td>\n",
       "      <td>2017-10-02 10:15:02</td>\n",
       "      <td>AG_AM01WRT (2017-10-02)AGGREGATE</td>\n",
       "    </tr>\n",
       "    <tr>\n",
       "      <th>3</th>\n",
       "      <td>-0.042237</td>\n",
       "      <td>0.976525</td>\n",
       "      <td>-0.147313</td>\n",
       "      <td>2017-10-02 10:15:03</td>\n",
       "      <td>AG_AM01WRT (2017-10-02)AGGREGATE</td>\n",
       "    </tr>\n",
       "    <tr>\n",
       "      <th>4</th>\n",
       "      <td>-0.287288</td>\n",
       "      <td>0.895525</td>\n",
       "      <td>-0.421950</td>\n",
       "      <td>2017-10-02 10:15:04</td>\n",
       "      <td>AG_AM01WRT (2017-10-02)AGGREGATE</td>\n",
       "    </tr>\n",
       "  </tbody>\n",
       "</table>\n",
       "</div>"
      ],
      "text/plain": [
       "   Accelerometer X  Accelerometer Y  Accelerometer Z      actual_datetime  \\\n",
       "0         0.250950         0.920588        -0.327150  2017-10-02 10:15:00   \n",
       "1         0.251600         0.918650        -0.331750  2017-10-02 10:15:01   \n",
       "2         0.225587         0.912912        -0.381100  2017-10-02 10:15:02   \n",
       "3        -0.042237         0.976525        -0.147313  2017-10-02 10:15:03   \n",
       "4        -0.287288         0.895525        -0.421950  2017-10-02 10:15:04   \n",
       "\n",
       "                               file  \n",
       "0  AG_AM01WRT (2017-10-02)AGGREGATE  \n",
       "1  AG_AM01WRT (2017-10-02)AGGREGATE  \n",
       "2  AG_AM01WRT (2017-10-02)AGGREGATE  \n",
       "3  AG_AM01WRT (2017-10-02)AGGREGATE  \n",
       "4  AG_AM01WRT (2017-10-02)AGGREGATE  "
      ]
     },
     "metadata": {},
     "output_type": "display_data"
    },
    {
     "data": {
      "text/html": [
       "<div>\n",
       "<style scoped>\n",
       "    .dataframe tbody tr th:only-of-type {\n",
       "        vertical-align: middle;\n",
       "    }\n",
       "\n",
       "    .dataframe tbody tr th {\n",
       "        vertical-align: top;\n",
       "    }\n",
       "\n",
       "    .dataframe thead th {\n",
       "        text-align: right;\n",
       "    }\n",
       "</style>\n",
       "<table border=\"1\" class=\"dataframe\">\n",
       "  <thead>\n",
       "    <tr style=\"text-align: right;\">\n",
       "      <th></th>\n",
       "      <th>Accelerometer X</th>\n",
       "      <th>Accelerometer Y</th>\n",
       "      <th>Accelerometer Z</th>\n",
       "      <th>actual_datetime</th>\n",
       "      <th>file</th>\n",
       "    </tr>\n",
       "  </thead>\n",
       "  <tbody>\n",
       "    <tr>\n",
       "      <th>0</th>\n",
       "      <td>0.997425</td>\n",
       "      <td>0.060925</td>\n",
       "      <td>0.021625</td>\n",
       "      <td>2017-07-14 12:00:00</td>\n",
       "      <td>AG_AM01HIP (2017-07-14)AGGREGATE</td>\n",
       "    </tr>\n",
       "    <tr>\n",
       "      <th>1</th>\n",
       "      <td>0.989325</td>\n",
       "      <td>0.038488</td>\n",
       "      <td>0.020925</td>\n",
       "      <td>2017-07-14 12:00:01</td>\n",
       "      <td>AG_AM01HIP (2017-07-14)AGGREGATE</td>\n",
       "    </tr>\n",
       "    <tr>\n",
       "      <th>2</th>\n",
       "      <td>1.005025</td>\n",
       "      <td>0.038062</td>\n",
       "      <td>0.021825</td>\n",
       "      <td>2017-07-14 12:00:02</td>\n",
       "      <td>AG_AM01HIP (2017-07-14)AGGREGATE</td>\n",
       "    </tr>\n",
       "    <tr>\n",
       "      <th>3</th>\n",
       "      <td>1.018075</td>\n",
       "      <td>0.033537</td>\n",
       "      <td>0.011112</td>\n",
       "      <td>2017-07-14 12:00:03</td>\n",
       "      <td>AG_AM01HIP (2017-07-14)AGGREGATE</td>\n",
       "    </tr>\n",
       "    <tr>\n",
       "      <th>4</th>\n",
       "      <td>0.938700</td>\n",
       "      <td>0.018762</td>\n",
       "      <td>-0.210088</td>\n",
       "      <td>2017-07-14 12:00:04</td>\n",
       "      <td>AG_AM01HIP (2017-07-14)AGGREGATE</td>\n",
       "    </tr>\n",
       "  </tbody>\n",
       "</table>\n",
       "</div>"
      ],
      "text/plain": [
       "   Accelerometer X  Accelerometer Y  Accelerometer Z      actual_datetime  \\\n",
       "0         0.997425         0.060925         0.021625  2017-07-14 12:00:00   \n",
       "1         0.989325         0.038488         0.020925  2017-07-14 12:00:01   \n",
       "2         1.005025         0.038062         0.021825  2017-07-14 12:00:02   \n",
       "3         1.018075         0.033537         0.011112  2017-07-14 12:00:03   \n",
       "4         0.938700         0.018762        -0.210088  2017-07-14 12:00:04   \n",
       "\n",
       "                               file  \n",
       "0  AG_AM01HIP (2017-07-14)AGGREGATE  \n",
       "1  AG_AM01HIP (2017-07-14)AGGREGATE  \n",
       "2  AG_AM01HIP (2017-07-14)AGGREGATE  \n",
       "3  AG_AM01HIP (2017-07-14)AGGREGATE  \n",
       "4  AG_AM01HIP (2017-07-14)AGGREGATE  "
      ]
     },
     "metadata": {},
     "output_type": "display_data"
    },
    {
     "data": {
      "text/html": [
       "<div>\n",
       "<style scoped>\n",
       "    .dataframe tbody tr th:only-of-type {\n",
       "        vertical-align: middle;\n",
       "    }\n",
       "\n",
       "    .dataframe tbody tr th {\n",
       "        vertical-align: top;\n",
       "    }\n",
       "\n",
       "    .dataframe thead th {\n",
       "        text-align: right;\n",
       "    }\n",
       "</style>\n",
       "<table border=\"1\" class=\"dataframe\">\n",
       "  <thead>\n",
       "    <tr style=\"text-align: right;\">\n",
       "      <th></th>\n",
       "      <th>Accelerometer X</th>\n",
       "      <th>Accelerometer Y</th>\n",
       "      <th>Accelerometer Z</th>\n",
       "      <th>actual_datetime</th>\n",
       "      <th>file</th>\n",
       "    </tr>\n",
       "  </thead>\n",
       "  <tbody>\n",
       "    <tr>\n",
       "      <th>0</th>\n",
       "      <td>0.164829</td>\n",
       "      <td>0.777332</td>\n",
       "      <td>0.606116</td>\n",
       "      <td>2017-10-04 01:44:01</td>\n",
       "      <td>AM_01re_DO1_medial_chest_accel_AGGREGATE</td>\n",
       "    </tr>\n",
       "    <tr>\n",
       "      <th>1</th>\n",
       "      <td>0.003883</td>\n",
       "      <td>0.878392</td>\n",
       "      <td>0.485887</td>\n",
       "      <td>2017-10-04 01:44:02</td>\n",
       "      <td>AM_01re_DO1_medial_chest_accel_AGGREGATE</td>\n",
       "    </tr>\n",
       "    <tr>\n",
       "      <th>2</th>\n",
       "      <td>0.045277</td>\n",
       "      <td>0.851410</td>\n",
       "      <td>0.530652</td>\n",
       "      <td>2017-10-04 01:44:03</td>\n",
       "      <td>AM_01re_DO1_medial_chest_accel_AGGREGATE</td>\n",
       "    </tr>\n",
       "    <tr>\n",
       "      <th>3</th>\n",
       "      <td>0.081458</td>\n",
       "      <td>0.830555</td>\n",
       "      <td>0.566722</td>\n",
       "      <td>2017-10-04 01:44:04</td>\n",
       "      <td>AM_01re_DO1_medial_chest_accel_AGGREGATE</td>\n",
       "    </tr>\n",
       "    <tr>\n",
       "      <th>4</th>\n",
       "      <td>0.145471</td>\n",
       "      <td>0.826082</td>\n",
       "      <td>0.547947</td>\n",
       "      <td>2017-10-04 01:44:05</td>\n",
       "      <td>AM_01re_DO1_medial_chest_accel_AGGREGATE</td>\n",
       "    </tr>\n",
       "  </tbody>\n",
       "</table>\n",
       "</div>"
      ],
      "text/plain": [
       "   Accelerometer X  Accelerometer Y  Accelerometer Z      actual_datetime  \\\n",
       "0         0.164829         0.777332         0.606116  2017-10-04 01:44:01   \n",
       "1         0.003883         0.878392         0.485887  2017-10-04 01:44:02   \n",
       "2         0.045277         0.851410         0.530652  2017-10-04 01:44:03   \n",
       "3         0.081458         0.830555         0.566722  2017-10-04 01:44:04   \n",
       "4         0.145471         0.826082         0.547947  2017-10-04 01:44:05   \n",
       "\n",
       "                                       file  \n",
       "0  AM_01re_DO1_medial_chest_accel_AGGREGATE  \n",
       "1  AM_01re_DO1_medial_chest_accel_AGGREGATE  \n",
       "2  AM_01re_DO1_medial_chest_accel_AGGREGATE  \n",
       "3  AM_01re_DO1_medial_chest_accel_AGGREGATE  \n",
       "4  AM_01re_DO1_medial_chest_accel_AGGREGATE  "
      ]
     },
     "metadata": {},
     "output_type": "display_data"
    },
    {
     "data": {
      "text/html": [
       "<div>\n",
       "<style scoped>\n",
       "    .dataframe tbody tr th:only-of-type {\n",
       "        vertical-align: middle;\n",
       "    }\n",
       "\n",
       "    .dataframe tbody tr th {\n",
       "        vertical-align: top;\n",
       "    }\n",
       "\n",
       "    .dataframe thead th {\n",
       "        text-align: right;\n",
       "    }\n",
       "</style>\n",
       "<table border=\"1\" class=\"dataframe\">\n",
       "  <thead>\n",
       "    <tr style=\"text-align: right;\">\n",
       "      <th></th>\n",
       "      <th>Accelerometer X</th>\n",
       "      <th>Accelerometer Y</th>\n",
       "      <th>Accelerometer Z</th>\n",
       "      <th>actual_datetime</th>\n",
       "      <th>file</th>\n",
       "    </tr>\n",
       "  </thead>\n",
       "  <tbody>\n",
       "    <tr>\n",
       "      <th>0</th>\n",
       "      <td>-0.896285</td>\n",
       "      <td>-0.120678</td>\n",
       "      <td>-0.398814</td>\n",
       "      <td>2017-10-04 01:43:57</td>\n",
       "      <td>AM_01re_DO1_anterior_thigh_left_accel_AGGREGATE</td>\n",
       "    </tr>\n",
       "    <tr>\n",
       "      <th>1</th>\n",
       "      <td>-0.915470</td>\n",
       "      <td>-0.194189</td>\n",
       "      <td>-0.301329</td>\n",
       "      <td>2017-10-04 01:43:58</td>\n",
       "      <td>AM_01re_DO1_anterior_thigh_left_accel_AGGREGATE</td>\n",
       "    </tr>\n",
       "    <tr>\n",
       "      <th>2</th>\n",
       "      <td>-0.927489</td>\n",
       "      <td>-0.191527</td>\n",
       "      <td>-0.287626</td>\n",
       "      <td>2017-10-04 01:43:59</td>\n",
       "      <td>AM_01re_DO1_anterior_thigh_left_accel_AGGREGATE</td>\n",
       "    </tr>\n",
       "    <tr>\n",
       "      <th>3</th>\n",
       "      <td>-0.924811</td>\n",
       "      <td>-0.199576</td>\n",
       "      <td>-0.285657</td>\n",
       "      <td>2017-10-04 01:44:00</td>\n",
       "      <td>AM_01re_DO1_anterior_thigh_left_accel_AGGREGATE</td>\n",
       "    </tr>\n",
       "    <tr>\n",
       "      <th>4</th>\n",
       "      <td>-0.923456</td>\n",
       "      <td>-0.231488</td>\n",
       "      <td>-0.265479</td>\n",
       "      <td>2017-10-04 01:44:01</td>\n",
       "      <td>AM_01re_DO1_anterior_thigh_left_accel_AGGREGATE</td>\n",
       "    </tr>\n",
       "  </tbody>\n",
       "</table>\n",
       "</div>"
      ],
      "text/plain": [
       "   Accelerometer X  Accelerometer Y  Accelerometer Z      actual_datetime  \\\n",
       "0        -0.896285        -0.120678        -0.398814  2017-10-04 01:43:57   \n",
       "1        -0.915470        -0.194189        -0.301329  2017-10-04 01:43:58   \n",
       "2        -0.927489        -0.191527        -0.287626  2017-10-04 01:43:59   \n",
       "3        -0.924811        -0.199576        -0.285657  2017-10-04 01:44:00   \n",
       "4        -0.923456        -0.231488        -0.265479  2017-10-04 01:44:01   \n",
       "\n",
       "                                              file  \n",
       "0  AM_01re_DO1_anterior_thigh_left_accel_AGGREGATE  \n",
       "1  AM_01re_DO1_anterior_thigh_left_accel_AGGREGATE  \n",
       "2  AM_01re_DO1_anterior_thigh_left_accel_AGGREGATE  \n",
       "3  AM_01re_DO1_anterior_thigh_left_accel_AGGREGATE  \n",
       "4  AM_01re_DO1_anterior_thigh_left_accel_AGGREGATE  "
      ]
     },
     "metadata": {},
     "output_type": "display_data"
    }
   ],
   "source": [
    "display(df_wrist.head())\n",
    "display(df_hip.head())\n",
    "display(df_chest.head())\n",
    "display(df_thigh.head())"
   ]
  },
  {
   "cell_type": "code",
   "execution_count": 10,
   "id": "advised-beads",
   "metadata": {},
   "outputs": [
    {
     "name": "stdout",
     "output_type": "stream",
     "text": [
      "15795431\n",
      "16777678\n",
      "524525\n",
      "521887\n"
     ]
    }
   ],
   "source": [
    "print(len(df_wrist))\n",
    "print(len(df_hip))\n",
    "print(len(df_chest))\n",
    "print(len(df_thigh))"
   ]
  },
  {
   "cell_type": "code",
   "execution_count": 11,
   "id": "imperial-assessment",
   "metadata": {},
   "outputs": [
    {
     "name": "stdout",
     "output_type": "stream",
     "text": [
      "341101\n"
     ]
    }
   ],
   "source": [
    "print(len(groundtruth))"
   ]
  },
  {
   "cell_type": "code",
   "execution_count": 12,
   "id": "familiar-comfort",
   "metadata": {},
   "outputs": [],
   "source": [
    "dt_vars = [\"time\", \"actual_time\", \"start.time\"]\n",
    "for var in dt_vars:\n",
    "    groundtruth[var] = pd.to_datetime(groundtruth[var])"
   ]
  },
  {
   "cell_type": "code",
   "execution_count": 13,
   "id": "recognized-depression",
   "metadata": {},
   "outputs": [
    {
     "data": {
      "text/plain": [
       "45    18:30:00\n",
       "46    18:30:00\n",
       "47    18:31:00\n",
       "48    18:31:00\n",
       "49    18:31:00\n",
       "Name: time, dtype: object"
      ]
     },
     "metadata": {},
     "output_type": "display_data"
    },
    {
     "data": {
      "text/plain": [
       "45    11:30:58\n",
       "46    11:30:59\n",
       "47    11:31:00\n",
       "48    11:31:01\n",
       "49    11:31:02\n",
       "Name: actual_time, dtype: object"
      ]
     },
     "metadata": {},
     "output_type": "display_data"
    }
   ],
   "source": [
    "# The time and actual_time variables give conflicting accounts of the time\n",
    "display(groundtruth[\"time\"].iloc[45:50].dt.time)\n",
    "display(groundtruth[\"actual_time\"].iloc[45:50].dt.time)"
   ]
  },
  {
   "cell_type": "code",
   "execution_count": 14,
   "id": "speaking-conversion",
   "metadata": {},
   "outputs": [
    {
     "data": {
      "text/plain": [
       "0   2017-08-02 18:30:13\n",
       "1   2017-08-02 18:30:14\n",
       "2   2017-08-02 18:30:15\n",
       "3   2017-08-02 18:30:16\n",
       "4   2017-08-02 18:30:17\n",
       "Name: time, dtype: datetime64[ns]"
      ]
     },
     "execution_count": 14,
     "metadata": {},
     "output_type": "execute_result"
    }
   ],
   "source": [
    "groundtruth[\"time\"] = groundtruth[\"time\"] + pd.to_timedelta(groundtruth[\"actual_time\"].dt.second, unit=\"s\")\n",
    "groundtruth[\"time\"].head()"
   ]
  },
  {
   "cell_type": "code",
   "execution_count": 15,
   "id": "crude-beijing",
   "metadata": {},
   "outputs": [
    {
     "data": {
      "text/plain": [
       "time                     datetime64[ns]\n",
       "id                               object\n",
       "coding                           object\n",
       "primary_behavior                 object\n",
       "primary_posture                  object\n",
       "primary_upperbody                object\n",
       "primary_intensity                object\n",
       "secondary_behavior               object\n",
       "secondary_posture                object\n",
       "secondary_upperbody              object\n",
       "secondary_intensity              object\n",
       "num_postures                      int64\n",
       "transition                        int64\n",
       "actual_time              datetime64[ns]\n",
       "posture_coding                   object\n",
       "type                             object\n",
       "start.time               datetime64[ns]\n",
       "broad_activity                   object\n",
       "detailed_activity                object\n",
       "walking_running_bouts            object\n",
       "updated_activity                 object\n",
       "act_type                         object\n",
       "act_type_broad                   object\n",
       "dtype: object"
      ]
     },
     "execution_count": 15,
     "metadata": {},
     "output_type": "execute_result"
    }
   ],
   "source": [
    "groundtruth.dtypes"
   ]
  },
  {
   "cell_type": "code",
   "execution_count": 16,
   "id": "hispanic-tuning",
   "metadata": {},
   "outputs": [],
   "source": [
    "kept_merge_variables = [\"time\", \"primary_behavior\", \"primary_posture\", \"primary_upperbody\", \n",
    "                        \"primary_intensity\", \"secondary_behavior\", \"secondary_posture\", \"secondary_upperbody\", \n",
    "                        \"secondary_intensity\", \"num_postures\", \"transition\", \"actual_time\", \"type\", \"start_time\",\n",
    "                        \"broad_activity\", \"detailed_activity\", \"updated_activity\", \"act_type\", \"act_type_broad\"]\n",
    "\n",
    "dropped_merge_variables = [\"id\", # Unnecessary\n",
    "                           \"coding\", # Duplicates primary_intensity\n",
    "                           \"posture_coding\", # Duplicates primary_posture\n",
    "                           \"walking_running_bouts\" # NaNs\n",
    "                          ]"
   ]
  },
  {
   "cell_type": "code",
   "execution_count": 17,
   "id": "medieval-miniature",
   "metadata": {},
   "outputs": [],
   "source": [
    "groundtruth.drop(dropped_merge_variables, axis=1, inplace=True)"
   ]
  },
  {
   "cell_type": "code",
   "execution_count": 18,
   "id": "resident-mercury",
   "metadata": {},
   "outputs": [],
   "source": [
    "df_wrist[\"actual_datetime\"] = pd.to_datetime(df_wrist[\"actual_datetime\"])\n",
    "df_hip[\"actual_datetime\"] = pd.to_datetime(df_hip[\"actual_datetime\"])\n",
    "df_chest[\"actual_datetime\"] = pd.to_datetime(df_chest[\"actual_datetime\"])\n",
    "df_thigh[\"actual_datetime\"] = pd.to_datetime(df_thigh[\"actual_datetime\"])"
   ]
  },
  {
   "cell_type": "code",
   "execution_count": 19,
   "id": "mobile-double",
   "metadata": {},
   "outputs": [
    {
     "name": "stdout",
     "output_type": "stream",
     "text": [
      "Wrist:\n"
     ]
    },
    {
     "data": {
      "text/plain": [
       "array([datetime.date(2017, 10, 2), datetime.date(2017, 10, 3),\n",
       "       datetime.date(2017, 10, 4), datetime.date(2017, 10, 5),\n",
       "       datetime.date(2017, 10, 6), datetime.date(2017, 10, 7),\n",
       "       datetime.date(2017, 10, 8), datetime.date(2017, 10, 9),\n",
       "       datetime.date(2017, 10, 10), datetime.date(2017, 10, 11),\n",
       "       datetime.date(2017, 10, 12), datetime.date(2017, 10, 13),\n",
       "       datetime.date(2017, 10, 14), datetime.date(2017, 10, 15),\n",
       "       datetime.date(2017, 10, 16), datetime.date(2017, 10, 23),\n",
       "       datetime.date(2017, 10, 24), datetime.date(2017, 10, 25),\n",
       "       datetime.date(2017, 10, 26), datetime.date(2017, 10, 27),\n",
       "       datetime.date(2017, 10, 28), datetime.date(2017, 10, 29),\n",
       "       datetime.date(2017, 10, 30)], dtype=object)"
      ]
     },
     "metadata": {},
     "output_type": "display_data"
    },
    {
     "name": "stdout",
     "output_type": "stream",
     "text": [
      "Hip:\n"
     ]
    },
    {
     "data": {
      "text/plain": [
       "array([datetime.date(2017, 10, 2), datetime.date(2017, 10, 3),\n",
       "       datetime.date(2017, 10, 4), datetime.date(2017, 10, 5),\n",
       "       datetime.date(2017, 10, 6), datetime.date(2017, 10, 7),\n",
       "       datetime.date(2017, 10, 8), datetime.date(2017, 10, 9),\n",
       "       datetime.date(2017, 10, 10), datetime.date(2017, 10, 11),\n",
       "       datetime.date(2017, 10, 12), datetime.date(2017, 10, 13),\n",
       "       datetime.date(2017, 10, 14), datetime.date(2017, 10, 15),\n",
       "       datetime.date(2017, 10, 16), datetime.date(2017, 10, 23),\n",
       "       datetime.date(2017, 10, 24), datetime.date(2017, 10, 25),\n",
       "       datetime.date(2017, 10, 26), datetime.date(2017, 10, 27),\n",
       "       datetime.date(2017, 10, 28), datetime.date(2017, 10, 29),\n",
       "       datetime.date(2017, 10, 30)], dtype=object)"
      ]
     },
     "metadata": {},
     "output_type": "display_data"
    },
    {
     "name": "stdout",
     "output_type": "stream",
     "text": [
      "Chest:\n"
     ]
    },
    {
     "data": {
      "text/plain": [
       "array([datetime.date(2017, 10, 4), datetime.date(2017, 10, 6),\n",
       "       datetime.date(2017, 10, 7), datetime.date(2017, 10, 13),\n",
       "       datetime.date(2017, 10, 14), datetime.date(2017, 10, 8),\n",
       "       datetime.date(2017, 10, 11), datetime.date(2017, 10, 25),\n",
       "       datetime.date(2017, 10, 27)], dtype=object)"
      ]
     },
     "metadata": {},
     "output_type": "display_data"
    },
    {
     "name": "stdout",
     "output_type": "stream",
     "text": [
      "Thigh:\n"
     ]
    },
    {
     "data": {
      "text/plain": [
       "array([datetime.date(2017, 10, 4), datetime.date(2017, 10, 6),\n",
       "       datetime.date(2017, 10, 7), datetime.date(2017, 10, 13),\n",
       "       datetime.date(2017, 10, 14), datetime.date(2017, 10, 8),\n",
       "       datetime.date(2017, 10, 11), datetime.date(2017, 10, 25),\n",
       "       datetime.date(2017, 10, 27)], dtype=object)"
      ]
     },
     "metadata": {},
     "output_type": "display_data"
    }
   ],
   "source": [
    "dfs = [df_wrist, df_hip, df_chest, df_thigh]\n",
    "locations = [\"Wrist\", \"Hip\", \"Chest\", \"Thigh\"]\n",
    "for i in range(len(dfs)):\n",
    "    print(locations[i] + \":\")\n",
    "    display(dfs[i][dfs[i][\"actual_datetime\"].dt.month == 10][\"actual_datetime\"].dt.date.unique())"
   ]
  },
  {
   "cell_type": "code",
   "execution_count": 20,
   "id": "integral-blanket",
   "metadata": {},
   "outputs": [
    {
     "data": {
      "text/plain": [
       "array([datetime.date(2017, 8, 2), datetime.date(2017, 10, 11),\n",
       "       datetime.date(2018, 2, 8), datetime.date(2017, 10, 25),\n",
       "       datetime.date(2017, 9, 21), datetime.date(2017, 10, 8),\n",
       "       datetime.date(2017, 8, 1), datetime.date(2017, 10, 27),\n",
       "       datetime.date(2018, 5, 18), datetime.date(2018, 1, 20),\n",
       "       datetime.date(2018, 2, 24), datetime.date(2018, 2, 25),\n",
       "       datetime.date(2017, 11, 4), datetime.date(2017, 11, 5),\n",
       "       datetime.date(2017, 10, 6), datetime.date(2017, 10, 7),\n",
       "       datetime.date(2017, 12, 2), datetime.date(2017, 9, 20),\n",
       "       datetime.date(2017, 11, 9), datetime.date(2017, 9, 2),\n",
       "       datetime.date(2017, 10, 4), datetime.date(2018, 5, 19),\n",
       "       datetime.date(2017, 9, 23), datetime.date(2017, 7, 27),\n",
       "       datetime.date(2017, 7, 25), datetime.date(2018, 2, 17),\n",
       "       datetime.date(2018, 1, 17), datetime.date(2017, 7, 24),\n",
       "       datetime.date(2018, 2, 6), datetime.date(2017, 9, 17),\n",
       "       datetime.date(2017, 8, 3), datetime.date(2017, 9, 12),\n",
       "       datetime.date(2017, 12, 3), datetime.date(2017, 10, 13),\n",
       "       datetime.date(2017, 10, 14), datetime.date(2017, 9, 19),\n",
       "       datetime.date(2017, 8, 16), datetime.date(2017, 7, 31),\n",
       "       datetime.date(2017, 8, 10), datetime.date(2017, 8, 11)],\n",
       "      dtype=object)"
      ]
     },
     "execution_count": 20,
     "metadata": {},
     "output_type": "execute_result"
    }
   ],
   "source": [
    "groundtruth[\"time\"].dt.date.unique()"
   ]
  },
  {
   "cell_type": "code",
   "execution_count": 21,
   "id": "oriental-antigua",
   "metadata": {},
   "outputs": [
    {
     "data": {
      "text/plain": [
       "array([datetime.date(2017, 10, 11), datetime.date(2017, 10, 25),\n",
       "       datetime.date(2017, 10, 8), datetime.date(2017, 10, 27),\n",
       "       datetime.date(2017, 10, 6), datetime.date(2017, 10, 7),\n",
       "       datetime.date(2017, 10, 4), datetime.date(2017, 10, 13),\n",
       "       datetime.date(2017, 10, 14)], dtype=object)"
      ]
     },
     "metadata": {},
     "output_type": "display_data"
    }
   ],
   "source": [
    "# Groundtruth unique dates in October\n",
    "display(groundtruth[groundtruth[\"time\"].dt.month == 10][\"time\"].dt.date.unique())"
   ]
  },
  {
   "cell_type": "code",
   "execution_count": 22,
   "id": "trying-green",
   "metadata": {},
   "outputs": [],
   "source": [
    "wrist_hip = []#df_wrist, df_hip]  # add these when the dfs are filtered for time\n",
    "chest_thigh = [df_chest, df_thigh]\n",
    "\n",
    "all_dfs = wrist_hip + chest_thigh"
   ]
  },
  {
   "cell_type": "code",
   "execution_count": 23,
   "id": "convenient-blame",
   "metadata": {},
   "outputs": [],
   "source": [
    "new_dfs = []\n",
    "for df in all_dfs:\n",
    "    df.drop(\"file\", axis=1, inplace=True)\n",
    "    new_dfs.append(df.merge(groundtruth, how = \"inner\", left_on = \"actual_datetime\", right_on = \"time\"))"
   ]
  },
  {
   "cell_type": "code",
   "execution_count": 24,
   "id": "trying-provider",
   "metadata": {},
   "outputs": [],
   "source": [
    "# df_wrist = new_dfs[0]\n",
    "# df_hip = new_dfs[1]\n",
    "# df_chest = new_dfs[2]\n",
    "# df_thigh = new_dfs[3]\n",
    "\n",
    "df_chest = new_dfs[0]\n",
    "df_thigh = new_dfs[1]"
   ]
  },
  {
   "cell_type": "code",
   "execution_count": 25,
   "id": "pleasant-vitamin",
   "metadata": {},
   "outputs": [
    {
     "data": {
      "text/html": [
       "<div>\n",
       "<style scoped>\n",
       "    .dataframe tbody tr th:only-of-type {\n",
       "        vertical-align: middle;\n",
       "    }\n",
       "\n",
       "    .dataframe tbody tr th {\n",
       "        vertical-align: top;\n",
       "    }\n",
       "\n",
       "    .dataframe thead th {\n",
       "        text-align: right;\n",
       "    }\n",
       "</style>\n",
       "<table border=\"1\" class=\"dataframe\">\n",
       "  <thead>\n",
       "    <tr style=\"text-align: right;\">\n",
       "      <th></th>\n",
       "      <th>Accelerometer X</th>\n",
       "      <th>Accelerometer Y</th>\n",
       "      <th>Accelerometer Z</th>\n",
       "      <th>actual_datetime</th>\n",
       "      <th>time</th>\n",
       "      <th>primary_behavior</th>\n",
       "      <th>primary_posture</th>\n",
       "      <th>primary_upperbody</th>\n",
       "      <th>primary_intensity</th>\n",
       "      <th>secondary_behavior</th>\n",
       "      <th>...</th>\n",
       "      <th>num_postures</th>\n",
       "      <th>transition</th>\n",
       "      <th>actual_time</th>\n",
       "      <th>type</th>\n",
       "      <th>start.time</th>\n",
       "      <th>broad_activity</th>\n",
       "      <th>detailed_activity</th>\n",
       "      <th>updated_activity</th>\n",
       "      <th>act_type</th>\n",
       "      <th>act_type_broad</th>\n",
       "    </tr>\n",
       "  </thead>\n",
       "  <tbody>\n",
       "    <tr>\n",
       "      <th>0</th>\n",
       "      <td>0.067628</td>\n",
       "      <td>0.870894</td>\n",
       "      <td>0.493904</td>\n",
       "      <td>2017-10-04 01:44:45</td>\n",
       "      <td>2017-10-04 01:44:45</td>\n",
       "      <td>LES- socializing, communicating, leisure time ...</td>\n",
       "      <td>LA- stand</td>\n",
       "      <td>no</td>\n",
       "      <td>light</td>\n",
       "      <td>None</td>\n",
       "      <td>...</td>\n",
       "      <td>1</td>\n",
       "      <td>0</td>\n",
       "      <td>2021-04-11 18:44:45</td>\n",
       "      <td>L-1</td>\n",
       "      <td>2017-10-03 18:44:00</td>\n",
       "      <td>sit/stand</td>\n",
       "      <td>stand still</td>\n",
       "      <td>stand still</td>\n",
       "      <td>LES-gen</td>\n",
       "      <td>LES</td>\n",
       "    </tr>\n",
       "    <tr>\n",
       "      <th>1</th>\n",
       "      <td>0.010120</td>\n",
       "      <td>0.876218</td>\n",
       "      <td>0.485257</td>\n",
       "      <td>2017-10-04 01:44:46</td>\n",
       "      <td>2017-10-04 01:44:46</td>\n",
       "      <td>LES- socializing, communicating, leisure time ...</td>\n",
       "      <td>LA- stand</td>\n",
       "      <td>no</td>\n",
       "      <td>light</td>\n",
       "      <td>None</td>\n",
       "      <td>...</td>\n",
       "      <td>1</td>\n",
       "      <td>0</td>\n",
       "      <td>2021-04-11 18:44:46</td>\n",
       "      <td>L-1</td>\n",
       "      <td>2017-10-03 18:44:00</td>\n",
       "      <td>sit/stand</td>\n",
       "      <td>stand still</td>\n",
       "      <td>stand still</td>\n",
       "      <td>LES-gen</td>\n",
       "      <td>LES</td>\n",
       "    </tr>\n",
       "    <tr>\n",
       "      <th>2</th>\n",
       "      <td>0.027951</td>\n",
       "      <td>0.922685</td>\n",
       "      <td>0.398483</td>\n",
       "      <td>2017-10-04 01:44:47</td>\n",
       "      <td>2017-10-04 01:44:47</td>\n",
       "      <td>LES- socializing, communicating, leisure time ...</td>\n",
       "      <td>LA- stand</td>\n",
       "      <td>no</td>\n",
       "      <td>light</td>\n",
       "      <td>None</td>\n",
       "      <td>...</td>\n",
       "      <td>1</td>\n",
       "      <td>0</td>\n",
       "      <td>2021-04-11 18:44:47</td>\n",
       "      <td>L-1</td>\n",
       "      <td>2017-10-03 18:44:00</td>\n",
       "      <td>sit/stand</td>\n",
       "      <td>stand still</td>\n",
       "      <td>stand still</td>\n",
       "      <td>LES-gen</td>\n",
       "      <td>LES</td>\n",
       "    </tr>\n",
       "    <tr>\n",
       "      <th>3</th>\n",
       "      <td>0.026076</td>\n",
       "      <td>0.905878</td>\n",
       "      <td>0.429324</td>\n",
       "      <td>2017-10-04 01:44:48</td>\n",
       "      <td>2017-10-04 01:44:48</td>\n",
       "      <td>LES- socializing, communicating, leisure time ...</td>\n",
       "      <td>LA- stand</td>\n",
       "      <td>no</td>\n",
       "      <td>light</td>\n",
       "      <td>None</td>\n",
       "      <td>...</td>\n",
       "      <td>1</td>\n",
       "      <td>0</td>\n",
       "      <td>2021-04-11 18:44:48</td>\n",
       "      <td>L-1</td>\n",
       "      <td>2017-10-03 18:44:00</td>\n",
       "      <td>sit/stand</td>\n",
       "      <td>stand still</td>\n",
       "      <td>stand still</td>\n",
       "      <td>LES-gen</td>\n",
       "      <td>LES</td>\n",
       "    </tr>\n",
       "    <tr>\n",
       "      <th>4</th>\n",
       "      <td>0.061737</td>\n",
       "      <td>0.872926</td>\n",
       "      <td>0.485052</td>\n",
       "      <td>2017-10-04 01:44:49</td>\n",
       "      <td>2017-10-04 01:44:49</td>\n",
       "      <td>LES- socializing, communicating, leisure time ...</td>\n",
       "      <td>LA- stand</td>\n",
       "      <td>no</td>\n",
       "      <td>light</td>\n",
       "      <td>None</td>\n",
       "      <td>...</td>\n",
       "      <td>1</td>\n",
       "      <td>0</td>\n",
       "      <td>2021-04-11 18:44:49</td>\n",
       "      <td>L-1</td>\n",
       "      <td>2017-10-03 18:44:00</td>\n",
       "      <td>sit/stand</td>\n",
       "      <td>stand still</td>\n",
       "      <td>stand still</td>\n",
       "      <td>LES-gen</td>\n",
       "      <td>LES</td>\n",
       "    </tr>\n",
       "  </tbody>\n",
       "</table>\n",
       "<p>5 rows × 23 columns</p>\n",
       "</div>"
      ],
      "text/plain": [
       "   Accelerometer X  Accelerometer Y  Accelerometer Z     actual_datetime  \\\n",
       "0         0.067628         0.870894         0.493904 2017-10-04 01:44:45   \n",
       "1         0.010120         0.876218         0.485257 2017-10-04 01:44:46   \n",
       "2         0.027951         0.922685         0.398483 2017-10-04 01:44:47   \n",
       "3         0.026076         0.905878         0.429324 2017-10-04 01:44:48   \n",
       "4         0.061737         0.872926         0.485052 2017-10-04 01:44:49   \n",
       "\n",
       "                 time                                   primary_behavior  \\\n",
       "0 2017-10-04 01:44:45  LES- socializing, communicating, leisure time ...   \n",
       "1 2017-10-04 01:44:46  LES- socializing, communicating, leisure time ...   \n",
       "2 2017-10-04 01:44:47  LES- socializing, communicating, leisure time ...   \n",
       "3 2017-10-04 01:44:48  LES- socializing, communicating, leisure time ...   \n",
       "4 2017-10-04 01:44:49  LES- socializing, communicating, leisure time ...   \n",
       "\n",
       "  primary_posture primary_upperbody primary_intensity secondary_behavior  ...  \\\n",
       "0       LA- stand                no             light               None  ...   \n",
       "1       LA- stand                no             light               None  ...   \n",
       "2       LA- stand                no             light               None  ...   \n",
       "3       LA- stand                no             light               None  ...   \n",
       "4       LA- stand                no             light               None  ...   \n",
       "\n",
       "  num_postures transition         actual_time  type          start.time  \\\n",
       "0            1          0 2021-04-11 18:44:45   L-1 2017-10-03 18:44:00   \n",
       "1            1          0 2021-04-11 18:44:46   L-1 2017-10-03 18:44:00   \n",
       "2            1          0 2021-04-11 18:44:47   L-1 2017-10-03 18:44:00   \n",
       "3            1          0 2021-04-11 18:44:48   L-1 2017-10-03 18:44:00   \n",
       "4            1          0 2021-04-11 18:44:49   L-1 2017-10-03 18:44:00   \n",
       "\n",
       "  broad_activity detailed_activity updated_activity act_type act_type_broad  \n",
       "0      sit/stand       stand still      stand still  LES-gen            LES  \n",
       "1      sit/stand       stand still      stand still  LES-gen            LES  \n",
       "2      sit/stand       stand still      stand still  LES-gen            LES  \n",
       "3      sit/stand       stand still      stand still  LES-gen            LES  \n",
       "4      sit/stand       stand still      stand still  LES-gen            LES  \n",
       "\n",
       "[5 rows x 23 columns]"
      ]
     },
     "execution_count": 25,
     "metadata": {},
     "output_type": "execute_result"
    }
   ],
   "source": [
    "df_chest.head()"
   ]
  },
  {
   "cell_type": "code",
   "execution_count": 26,
   "id": "opened-booking",
   "metadata": {},
   "outputs": [
    {
     "data": {
      "text/html": [
       "<div>\n",
       "<style scoped>\n",
       "    .dataframe tbody tr th:only-of-type {\n",
       "        vertical-align: middle;\n",
       "    }\n",
       "\n",
       "    .dataframe tbody tr th {\n",
       "        vertical-align: top;\n",
       "    }\n",
       "\n",
       "    .dataframe thead th {\n",
       "        text-align: right;\n",
       "    }\n",
       "</style>\n",
       "<table border=\"1\" class=\"dataframe\">\n",
       "  <thead>\n",
       "    <tr style=\"text-align: right;\">\n",
       "      <th></th>\n",
       "      <th>Accelerometer X</th>\n",
       "      <th>Accelerometer Y</th>\n",
       "      <th>Accelerometer Z</th>\n",
       "      <th>actual_datetime</th>\n",
       "      <th>time</th>\n",
       "      <th>primary_behavior</th>\n",
       "      <th>primary_posture</th>\n",
       "      <th>primary_upperbody</th>\n",
       "      <th>primary_intensity</th>\n",
       "      <th>secondary_behavior</th>\n",
       "      <th>...</th>\n",
       "      <th>num_postures</th>\n",
       "      <th>transition</th>\n",
       "      <th>actual_time</th>\n",
       "      <th>type</th>\n",
       "      <th>start.time</th>\n",
       "      <th>broad_activity</th>\n",
       "      <th>detailed_activity</th>\n",
       "      <th>updated_activity</th>\n",
       "      <th>act_type</th>\n",
       "      <th>act_type_broad</th>\n",
       "    </tr>\n",
       "  </thead>\n",
       "  <tbody>\n",
       "    <tr>\n",
       "      <th>0</th>\n",
       "      <td>-0.920621</td>\n",
       "      <td>-0.155646</td>\n",
       "      <td>-0.318593</td>\n",
       "      <td>2017-10-04 01:44:45</td>\n",
       "      <td>2017-10-04 01:44:45</td>\n",
       "      <td>LES- socializing, communicating, leisure time ...</td>\n",
       "      <td>LA- stand</td>\n",
       "      <td>no</td>\n",
       "      <td>light</td>\n",
       "      <td>None</td>\n",
       "      <td>...</td>\n",
       "      <td>1</td>\n",
       "      <td>0</td>\n",
       "      <td>2021-04-11 18:44:45</td>\n",
       "      <td>L-1</td>\n",
       "      <td>2017-10-03 18:44:00</td>\n",
       "      <td>sit/stand</td>\n",
       "      <td>stand still</td>\n",
       "      <td>stand still</td>\n",
       "      <td>LES-gen</td>\n",
       "      <td>LES</td>\n",
       "    </tr>\n",
       "    <tr>\n",
       "      <th>1</th>\n",
       "      <td>-0.928607</td>\n",
       "      <td>-0.150999</td>\n",
       "      <td>-0.310559</td>\n",
       "      <td>2017-10-04 01:44:46</td>\n",
       "      <td>2017-10-04 01:44:46</td>\n",
       "      <td>LES- socializing, communicating, leisure time ...</td>\n",
       "      <td>LA- stand</td>\n",
       "      <td>no</td>\n",
       "      <td>light</td>\n",
       "      <td>None</td>\n",
       "      <td>...</td>\n",
       "      <td>1</td>\n",
       "      <td>0</td>\n",
       "      <td>2021-04-11 18:44:46</td>\n",
       "      <td>L-1</td>\n",
       "      <td>2017-10-03 18:44:00</td>\n",
       "      <td>sit/stand</td>\n",
       "      <td>stand still</td>\n",
       "      <td>stand still</td>\n",
       "      <td>LES-gen</td>\n",
       "      <td>LES</td>\n",
       "    </tr>\n",
       "    <tr>\n",
       "      <th>2</th>\n",
       "      <td>-0.962693</td>\n",
       "      <td>-0.028313</td>\n",
       "      <td>-0.205231</td>\n",
       "      <td>2017-10-04 01:44:47</td>\n",
       "      <td>2017-10-04 01:44:47</td>\n",
       "      <td>LES- socializing, communicating, leisure time ...</td>\n",
       "      <td>LA- stand</td>\n",
       "      <td>no</td>\n",
       "      <td>light</td>\n",
       "      <td>None</td>\n",
       "      <td>...</td>\n",
       "      <td>1</td>\n",
       "      <td>0</td>\n",
       "      <td>2021-04-11 18:44:47</td>\n",
       "      <td>L-1</td>\n",
       "      <td>2017-10-03 18:44:00</td>\n",
       "      <td>sit/stand</td>\n",
       "      <td>stand still</td>\n",
       "      <td>stand still</td>\n",
       "      <td>LES-gen</td>\n",
       "      <td>LES</td>\n",
       "    </tr>\n",
       "    <tr>\n",
       "      <th>3</th>\n",
       "      <td>-0.967954</td>\n",
       "      <td>-0.025304</td>\n",
       "      <td>-0.199450</td>\n",
       "      <td>2017-10-04 01:44:48</td>\n",
       "      <td>2017-10-04 01:44:48</td>\n",
       "      <td>LES- socializing, communicating, leisure time ...</td>\n",
       "      <td>LA- stand</td>\n",
       "      <td>no</td>\n",
       "      <td>light</td>\n",
       "      <td>None</td>\n",
       "      <td>...</td>\n",
       "      <td>1</td>\n",
       "      <td>0</td>\n",
       "      <td>2021-04-11 18:44:48</td>\n",
       "      <td>L-1</td>\n",
       "      <td>2017-10-03 18:44:00</td>\n",
       "      <td>sit/stand</td>\n",
       "      <td>stand still</td>\n",
       "      <td>stand still</td>\n",
       "      <td>LES-gen</td>\n",
       "      <td>LES</td>\n",
       "    </tr>\n",
       "    <tr>\n",
       "      <th>4</th>\n",
       "      <td>-0.953352</td>\n",
       "      <td>-0.088372</td>\n",
       "      <td>-0.257887</td>\n",
       "      <td>2017-10-04 01:44:49</td>\n",
       "      <td>2017-10-04 01:44:49</td>\n",
       "      <td>LES- socializing, communicating, leisure time ...</td>\n",
       "      <td>LA- stand</td>\n",
       "      <td>no</td>\n",
       "      <td>light</td>\n",
       "      <td>None</td>\n",
       "      <td>...</td>\n",
       "      <td>1</td>\n",
       "      <td>0</td>\n",
       "      <td>2021-04-11 18:44:49</td>\n",
       "      <td>L-1</td>\n",
       "      <td>2017-10-03 18:44:00</td>\n",
       "      <td>sit/stand</td>\n",
       "      <td>stand still</td>\n",
       "      <td>stand still</td>\n",
       "      <td>LES-gen</td>\n",
       "      <td>LES</td>\n",
       "    </tr>\n",
       "  </tbody>\n",
       "</table>\n",
       "<p>5 rows × 23 columns</p>\n",
       "</div>"
      ],
      "text/plain": [
       "   Accelerometer X  Accelerometer Y  Accelerometer Z     actual_datetime  \\\n",
       "0        -0.920621        -0.155646        -0.318593 2017-10-04 01:44:45   \n",
       "1        -0.928607        -0.150999        -0.310559 2017-10-04 01:44:46   \n",
       "2        -0.962693        -0.028313        -0.205231 2017-10-04 01:44:47   \n",
       "3        -0.967954        -0.025304        -0.199450 2017-10-04 01:44:48   \n",
       "4        -0.953352        -0.088372        -0.257887 2017-10-04 01:44:49   \n",
       "\n",
       "                 time                                   primary_behavior  \\\n",
       "0 2017-10-04 01:44:45  LES- socializing, communicating, leisure time ...   \n",
       "1 2017-10-04 01:44:46  LES- socializing, communicating, leisure time ...   \n",
       "2 2017-10-04 01:44:47  LES- socializing, communicating, leisure time ...   \n",
       "3 2017-10-04 01:44:48  LES- socializing, communicating, leisure time ...   \n",
       "4 2017-10-04 01:44:49  LES- socializing, communicating, leisure time ...   \n",
       "\n",
       "  primary_posture primary_upperbody primary_intensity secondary_behavior  ...  \\\n",
       "0       LA- stand                no             light               None  ...   \n",
       "1       LA- stand                no             light               None  ...   \n",
       "2       LA- stand                no             light               None  ...   \n",
       "3       LA- stand                no             light               None  ...   \n",
       "4       LA- stand                no             light               None  ...   \n",
       "\n",
       "  num_postures transition         actual_time  type          start.time  \\\n",
       "0            1          0 2021-04-11 18:44:45   L-1 2017-10-03 18:44:00   \n",
       "1            1          0 2021-04-11 18:44:46   L-1 2017-10-03 18:44:00   \n",
       "2            1          0 2021-04-11 18:44:47   L-1 2017-10-03 18:44:00   \n",
       "3            1          0 2021-04-11 18:44:48   L-1 2017-10-03 18:44:00   \n",
       "4            1          0 2021-04-11 18:44:49   L-1 2017-10-03 18:44:00   \n",
       "\n",
       "  broad_activity detailed_activity updated_activity act_type act_type_broad  \n",
       "0      sit/stand       stand still      stand still  LES-gen            LES  \n",
       "1      sit/stand       stand still      stand still  LES-gen            LES  \n",
       "2      sit/stand       stand still      stand still  LES-gen            LES  \n",
       "3      sit/stand       stand still      stand still  LES-gen            LES  \n",
       "4      sit/stand       stand still      stand still  LES-gen            LES  \n",
       "\n",
       "[5 rows x 23 columns]"
      ]
     },
     "execution_count": 26,
     "metadata": {},
     "output_type": "execute_result"
    }
   ],
   "source": [
    "df_thigh.head()"
   ]
  },
  {
   "cell_type": "code",
   "execution_count": 27,
   "id": "spanish-egypt",
   "metadata": {},
   "outputs": [
    {
     "data": {
      "text/plain": [
       "array(['sit/lie', 'stand still', 'mixed-activity', 'walking', 'vehicle',\n",
       "       'running', 'bicycling'], dtype=object)"
      ]
     },
     "execution_count": 27,
     "metadata": {},
     "output_type": "execute_result"
    }
   ],
   "source": [
    "groundtruth[\"updated_activity\"].unique()"
   ]
  },
  {
   "cell_type": "code",
   "execution_count": 28,
   "id": "informed-council",
   "metadata": {},
   "outputs": [
    {
     "name": "stdout",
     "output_type": "stream",
     "text": [
      "353710\n",
      "351279\n"
     ]
    }
   ],
   "source": [
    "print(len(df_chest))\n",
    "print(len(df_thigh))"
   ]
  },
  {
   "cell_type": "code",
   "execution_count": 29,
   "id": "surprising-eight",
   "metadata": {},
   "outputs": [
    {
     "data": {
      "text/plain": [
       "Accelerometer X               float64\n",
       "Accelerometer Y               float64\n",
       "Accelerometer Z               float64\n",
       "actual_datetime        datetime64[ns]\n",
       "time                   datetime64[ns]\n",
       "primary_behavior               object\n",
       "primary_posture                object\n",
       "primary_upperbody              object\n",
       "primary_intensity              object\n",
       "secondary_behavior             object\n",
       "secondary_posture              object\n",
       "secondary_upperbody            object\n",
       "secondary_intensity            object\n",
       "num_postures                    int64\n",
       "transition                      int64\n",
       "actual_time            datetime64[ns]\n",
       "type                           object\n",
       "start.time             datetime64[ns]\n",
       "broad_activity                 object\n",
       "detailed_activity              object\n",
       "updated_activity               object\n",
       "act_type                       object\n",
       "act_type_broad                 object\n",
       "dtype: object"
      ]
     },
     "execution_count": 29,
     "metadata": {},
     "output_type": "execute_result"
    }
   ],
   "source": [
    "df_chest.dtypes"
   ]
  },
  {
   "cell_type": "code",
   "execution_count": 30,
   "id": "particular-vanilla",
   "metadata": {},
   "outputs": [],
   "source": [
    "response_activity = \"broad_activity\"\n",
    "\n",
    "categorical_variables = [\"primary_behavior\", \"primary_posture\", \"primary_upperbody\", \"primary_intensity\", \n",
    "                         \"secondary_behavior\", \"secondary_posture\", \"secondary_upperbody\", \"secondary_intensity\",\n",
    "                         \"type\", \"broad_activity\", \"detailed_activity\", \"act_type\", \"act_type_broad\"]\n",
    "\n",
    "float_variables = [\"Accelerometer X\", \"Accelerometer Y\", \"Accelerometer Z\"]\n",
    "\n",
    "int_variables = [\"num_postures\", \"transition\"]\n",
    "\n",
    "datetime_variables = [\"actual_datetime\", \"time\", \"actual_time\", \"start.time\"]"
   ]
  },
  {
   "cell_type": "code",
   "execution_count": 31,
   "id": "subject-stranger",
   "metadata": {
    "scrolled": true
   },
   "outputs": [
    {
     "data": {
      "text/html": [
       "<div>\n",
       "<style scoped>\n",
       "    .dataframe tbody tr th:only-of-type {\n",
       "        vertical-align: middle;\n",
       "    }\n",
       "\n",
       "    .dataframe tbody tr th {\n",
       "        vertical-align: top;\n",
       "    }\n",
       "\n",
       "    .dataframe thead th {\n",
       "        text-align: right;\n",
       "    }\n",
       "</style>\n",
       "<table border=\"1\" class=\"dataframe\">\n",
       "  <thead>\n",
       "    <tr style=\"text-align: right;\">\n",
       "      <th></th>\n",
       "      <th>Accelerometer X</th>\n",
       "      <th>Accelerometer Y</th>\n",
       "      <th>Accelerometer Z</th>\n",
       "      <th>num_postures</th>\n",
       "      <th>transition</th>\n",
       "    </tr>\n",
       "  </thead>\n",
       "  <tbody>\n",
       "    <tr>\n",
       "      <th>count</th>\n",
       "      <td>353710.000000</td>\n",
       "      <td>353710.000000</td>\n",
       "      <td>353710.000000</td>\n",
       "      <td>353710.000000</td>\n",
       "      <td>353710.000000</td>\n",
       "    </tr>\n",
       "    <tr>\n",
       "      <th>mean</th>\n",
       "      <td>0.035532</td>\n",
       "      <td>0.825666</td>\n",
       "      <td>0.324303</td>\n",
       "      <td>1.024642</td>\n",
       "      <td>0.024619</td>\n",
       "    </tr>\n",
       "    <tr>\n",
       "      <th>std</th>\n",
       "      <td>0.149071</td>\n",
       "      <td>0.227845</td>\n",
       "      <td>0.389453</td>\n",
       "      <td>0.155268</td>\n",
       "      <td>0.154961</td>\n",
       "    </tr>\n",
       "    <tr>\n",
       "      <th>min</th>\n",
       "      <td>-1.165490</td>\n",
       "      <td>-0.341416</td>\n",
       "      <td>-1.324940</td>\n",
       "      <td>1.000000</td>\n",
       "      <td>0.000000</td>\n",
       "    </tr>\n",
       "    <tr>\n",
       "      <th>25%</th>\n",
       "      <td>-0.042127</td>\n",
       "      <td>0.791177</td>\n",
       "      <td>0.131676</td>\n",
       "      <td>1.000000</td>\n",
       "      <td>0.000000</td>\n",
       "    </tr>\n",
       "    <tr>\n",
       "      <th>50%</th>\n",
       "      <td>0.034582</td>\n",
       "      <td>0.915029</td>\n",
       "      <td>0.352631</td>\n",
       "      <td>1.000000</td>\n",
       "      <td>0.000000</td>\n",
       "    </tr>\n",
       "    <tr>\n",
       "      <th>75%</th>\n",
       "      <td>0.122301</td>\n",
       "      <td>0.968851</td>\n",
       "      <td>0.570392</td>\n",
       "      <td>1.000000</td>\n",
       "      <td>0.000000</td>\n",
       "    </tr>\n",
       "    <tr>\n",
       "      <th>max</th>\n",
       "      <td>0.967276</td>\n",
       "      <td>1.368665</td>\n",
       "      <td>1.040457</td>\n",
       "      <td>3.000000</td>\n",
       "      <td>1.000000</td>\n",
       "    </tr>\n",
       "  </tbody>\n",
       "</table>\n",
       "</div>"
      ],
      "text/plain": [
       "       Accelerometer X  Accelerometer Y  Accelerometer Z   num_postures  \\\n",
       "count    353710.000000    353710.000000    353710.000000  353710.000000   \n",
       "mean          0.035532         0.825666         0.324303       1.024642   \n",
       "std           0.149071         0.227845         0.389453       0.155268   \n",
       "min          -1.165490        -0.341416        -1.324940       1.000000   \n",
       "25%          -0.042127         0.791177         0.131676       1.000000   \n",
       "50%           0.034582         0.915029         0.352631       1.000000   \n",
       "75%           0.122301         0.968851         0.570392       1.000000   \n",
       "max           0.967276         1.368665         1.040457       3.000000   \n",
       "\n",
       "          transition  \n",
       "count  353710.000000  \n",
       "mean        0.024619  \n",
       "std         0.154961  \n",
       "min         0.000000  \n",
       "25%         0.000000  \n",
       "50%         0.000000  \n",
       "75%         0.000000  \n",
       "max         1.000000  "
      ]
     },
     "execution_count": 31,
     "metadata": {},
     "output_type": "execute_result"
    }
   ],
   "source": [
    "df_chest[float_variables + int_variables].describe()"
   ]
  },
  {
   "cell_type": "code",
   "execution_count": 32,
   "id": "graduate-attention",
   "metadata": {},
   "outputs": [],
   "source": [
    "from sklearn.feature_selection import SelectKBest, f_classif\n",
    "\n",
    "#dropped_vars = [response_activity] + datetime_variables + categorical_variables + int_variables\n",
    "\n",
    "X = df_chest[float_variables]\n",
    "y = df_chest[response_activity]\n",
    "\n",
    "best_features = SelectKBest(f_classif, k=\"all\").fit(X,y)"
   ]
  },
  {
   "cell_type": "code",
   "execution_count": 33,
   "id": "premier-circuit",
   "metadata": {},
   "outputs": [
    {
     "data": {
      "text/plain": [
       "Accelerometer X     660.982425\n",
       "Accelerometer Y    3279.608722\n",
       "Accelerometer Z    9561.485042\n",
       "dtype: float64"
      ]
     },
     "execution_count": 33,
     "metadata": {},
     "output_type": "execute_result"
    }
   ],
   "source": [
    "features_results = pd.Series(best_features.scores_)\n",
    "features_results.index = float_variables\n",
    "features_results"
   ]
  },
  {
   "cell_type": "code",
   "execution_count": 34,
   "id": "suspected-nowhere",
   "metadata": {},
   "outputs": [],
   "source": [
    "activity_vars = [\"primary_behavior\", \"primary_posture\", \"primary_upperbody\", \"primary_intensity\", \n",
    "                 \"secondary_behavior\", \"secondary_posture\", \"secondary_upperbody\", \"secondary_intensity\",\n",
    "                 \"num_postures\", \"transition\", \"type\", \"broad_activity\", \"detailed_activity\", \"act_type\", \"act_type_broad\"]\n",
    "\n",
    "X_vars = [\"Accelerometer X\", \"Accelerometer Y\", \"Accelerometer Z\", \"time\"]\n",
    "y_var = \"broad_activity\""
   ]
  },
  {
   "cell_type": "code",
   "execution_count": 35,
   "id": "arabic-eight",
   "metadata": {},
   "outputs": [],
   "source": [
    "def cv_split(X, y, num_splits=4):\n",
    "    n = len(X)\n",
    "    X_trains, X_tests, y_trains, y_tests = [], [], [], []\n",
    "    \n",
    "    for i in range(num_splits):\n",
    "        current_range = list(range(n*i//num_splits, n*(i+1)//num_splits))\n",
    "        \n",
    "        X_train = X.drop(current_range, axis=0)\n",
    "        X_test = X.iloc[current_range]\n",
    "        y_train = y.drop(current_range)\n",
    "        y_test = y.iloc[current_range]\n",
    "        \n",
    "        X_trains.append(X_train)\n",
    "        X_tests.append(X_test)\n",
    "        y_trains.append(y_train)\n",
    "        y_tests.append(y_test)\n",
    "        \n",
    "    return (X_trains, X_tests, y_trains, y_tests)"
   ]
  },
  {
   "cell_type": "code",
   "execution_count": 36,
   "id": "iraqi-attendance",
   "metadata": {},
   "outputs": [],
   "source": [
    "train_test_dict = {}\n",
    "\n",
    "dfs = [#df_wrist, df_hip, \n",
    "       df_chest, df_thigh]\n",
    "\n",
    "bodyparts = [#\"wrist\", \"hip\",\n",
    "             \"chest\", \"thigh\"]\n",
    "\n",
    "for i in range(len(dfs)):\n",
    "    df = dfs[i]\n",
    "    bodypart = bodyparts[i]\n",
    "    \n",
    "    X = df[X_vars]\n",
    "    y = df[y_var]\n",
    "    \n",
    "    X_trains, X_tests, y_trains, y_tests = cv_split(X, y)\n",
    "    \n",
    "    train_test_dict[bodypart] = {}\n",
    "    \n",
    "    train_test_dict[bodypart][\"X_trains\"] = X_trains\n",
    "    train_test_dict[bodypart][\"X_tests\"] = X_tests\n",
    "    train_test_dict[bodypart][\"y_trains\"] = y_trains\n",
    "    train_test_dict[bodypart][\"y_tests\"] = y_tests"
   ]
  },
  {
   "cell_type": "code",
   "execution_count": 37,
   "id": "prescription-thong",
   "metadata": {},
   "outputs": [
    {
     "name": "stdout",
     "output_type": "stream",
     "text": [
      "353710\n",
      "351279\n"
     ]
    }
   ],
   "source": [
    "print(len(df_chest))\n",
    "print(len(df_thigh))"
   ]
  },
  {
   "cell_type": "code",
   "execution_count": 38,
   "id": "broke-starter",
   "metadata": {},
   "outputs": [
    {
     "data": {
      "text/html": [
       "<div>\n",
       "<style scoped>\n",
       "    .dataframe tbody tr th:only-of-type {\n",
       "        vertical-align: middle;\n",
       "    }\n",
       "\n",
       "    .dataframe tbody tr th {\n",
       "        vertical-align: top;\n",
       "    }\n",
       "\n",
       "    .dataframe thead th {\n",
       "        text-align: right;\n",
       "    }\n",
       "</style>\n",
       "<table border=\"1\" class=\"dataframe\">\n",
       "  <thead>\n",
       "    <tr style=\"text-align: right;\">\n",
       "      <th></th>\n",
       "      <th>Accelerometer X</th>\n",
       "      <th>Accelerometer Y</th>\n",
       "      <th>Accelerometer Z</th>\n",
       "      <th>time</th>\n",
       "    </tr>\n",
       "  </thead>\n",
       "  <tbody>\n",
       "    <tr>\n",
       "      <th>88427</th>\n",
       "      <td>-0.179619</td>\n",
       "      <td>0.986887</td>\n",
       "      <td>0.113732</td>\n",
       "      <td>2017-08-02 19:59:40</td>\n",
       "    </tr>\n",
       "    <tr>\n",
       "      <th>88428</th>\n",
       "      <td>-0.164073</td>\n",
       "      <td>0.989076</td>\n",
       "      <td>0.097650</td>\n",
       "      <td>2017-08-02 19:59:41</td>\n",
       "    </tr>\n",
       "    <tr>\n",
       "      <th>88429</th>\n",
       "      <td>-0.124584</td>\n",
       "      <td>0.990998</td>\n",
       "      <td>0.135610</td>\n",
       "      <td>2017-08-02 19:59:42</td>\n",
       "    </tr>\n",
       "    <tr>\n",
       "      <th>88430</th>\n",
       "      <td>-0.002103</td>\n",
       "      <td>0.997960</td>\n",
       "      <td>0.134051</td>\n",
       "      <td>2017-08-02 19:59:43</td>\n",
       "    </tr>\n",
       "    <tr>\n",
       "      <th>88431</th>\n",
       "      <td>0.042394</td>\n",
       "      <td>0.995566</td>\n",
       "      <td>0.143470</td>\n",
       "      <td>2017-08-02 19:59:44</td>\n",
       "    </tr>\n",
       "  </tbody>\n",
       "</table>\n",
       "</div>"
      ],
      "text/plain": [
       "       Accelerometer X  Accelerometer Y  Accelerometer Z                time\n",
       "88427        -0.179619         0.986887         0.113732 2017-08-02 19:59:40\n",
       "88428        -0.164073         0.989076         0.097650 2017-08-02 19:59:41\n",
       "88429        -0.124584         0.990998         0.135610 2017-08-02 19:59:42\n",
       "88430        -0.002103         0.997960         0.134051 2017-08-02 19:59:43\n",
       "88431         0.042394         0.995566         0.143470 2017-08-02 19:59:44"
      ]
     },
     "metadata": {},
     "output_type": "display_data"
    },
    {
     "data": {
      "text/html": [
       "<div>\n",
       "<style scoped>\n",
       "    .dataframe tbody tr th:only-of-type {\n",
       "        vertical-align: middle;\n",
       "    }\n",
       "\n",
       "    .dataframe tbody tr th {\n",
       "        vertical-align: top;\n",
       "    }\n",
       "\n",
       "    .dataframe thead th {\n",
       "        text-align: right;\n",
       "    }\n",
       "</style>\n",
       "<table border=\"1\" class=\"dataframe\">\n",
       "  <thead>\n",
       "    <tr style=\"text-align: right;\">\n",
       "      <th></th>\n",
       "      <th>Accelerometer X</th>\n",
       "      <th>Accelerometer Y</th>\n",
       "      <th>Accelerometer Z</th>\n",
       "      <th>time</th>\n",
       "    </tr>\n",
       "  </thead>\n",
       "  <tbody>\n",
       "    <tr>\n",
       "      <th>0</th>\n",
       "      <td>0.067628</td>\n",
       "      <td>0.870894</td>\n",
       "      <td>0.493904</td>\n",
       "      <td>2017-10-04 01:44:45</td>\n",
       "    </tr>\n",
       "    <tr>\n",
       "      <th>1</th>\n",
       "      <td>0.010120</td>\n",
       "      <td>0.876218</td>\n",
       "      <td>0.485257</td>\n",
       "      <td>2017-10-04 01:44:46</td>\n",
       "    </tr>\n",
       "    <tr>\n",
       "      <th>2</th>\n",
       "      <td>0.027951</td>\n",
       "      <td>0.922685</td>\n",
       "      <td>0.398483</td>\n",
       "      <td>2017-10-04 01:44:47</td>\n",
       "    </tr>\n",
       "    <tr>\n",
       "      <th>3</th>\n",
       "      <td>0.026076</td>\n",
       "      <td>0.905878</td>\n",
       "      <td>0.429324</td>\n",
       "      <td>2017-10-04 01:44:48</td>\n",
       "    </tr>\n",
       "    <tr>\n",
       "      <th>4</th>\n",
       "      <td>0.061737</td>\n",
       "      <td>0.872926</td>\n",
       "      <td>0.485052</td>\n",
       "      <td>2017-10-04 01:44:49</td>\n",
       "    </tr>\n",
       "  </tbody>\n",
       "</table>\n",
       "</div>"
      ],
      "text/plain": [
       "   Accelerometer X  Accelerometer Y  Accelerometer Z                time\n",
       "0         0.067628         0.870894         0.493904 2017-10-04 01:44:45\n",
       "1         0.010120         0.876218         0.485257 2017-10-04 01:44:46\n",
       "2         0.027951         0.922685         0.398483 2017-10-04 01:44:47\n",
       "3         0.026076         0.905878         0.429324 2017-10-04 01:44:48\n",
       "4         0.061737         0.872926         0.485052 2017-10-04 01:44:49"
      ]
     },
     "metadata": {},
     "output_type": "display_data"
    },
    {
     "data": {
      "text/plain": [
       "88427    sit/stand\n",
       "88428    sit/stand\n",
       "88429    sit/stand\n",
       "88430    sit/stand\n",
       "88431    sit/stand\n",
       "Name: broad_activity, dtype: object"
      ]
     },
     "metadata": {},
     "output_type": "display_data"
    },
    {
     "data": {
      "text/plain": [
       "0    sit/stand\n",
       "1    sit/stand\n",
       "2    sit/stand\n",
       "3    sit/stand\n",
       "4    sit/stand\n",
       "Name: broad_activity, dtype: object"
      ]
     },
     "metadata": {},
     "output_type": "display_data"
    }
   ],
   "source": [
    "display(train_test_dict[\"chest\"][\"X_trains\"][0].head())\n",
    "display(train_test_dict[\"chest\"][\"X_tests\"][0].head())\n",
    "display(train_test_dict[\"chest\"][\"y_trains\"][0].head())\n",
    "display(train_test_dict[\"chest\"][\"y_tests\"][0].head())"
   ]
  },
  {
   "cell_type": "code",
   "execution_count": 39,
   "id": "greatest-teaching",
   "metadata": {},
   "outputs": [
    {
     "data": {
      "text/html": [
       "<div>\n",
       "<style scoped>\n",
       "    .dataframe tbody tr th:only-of-type {\n",
       "        vertical-align: middle;\n",
       "    }\n",
       "\n",
       "    .dataframe tbody tr th {\n",
       "        vertical-align: top;\n",
       "    }\n",
       "\n",
       "    .dataframe thead th {\n",
       "        text-align: right;\n",
       "    }\n",
       "</style>\n",
       "<table border=\"1\" class=\"dataframe\">\n",
       "  <thead>\n",
       "    <tr style=\"text-align: right;\">\n",
       "      <th></th>\n",
       "      <th>Accelerometer X</th>\n",
       "      <th>Accelerometer Y</th>\n",
       "      <th>Accelerometer Z</th>\n",
       "      <th>time</th>\n",
       "    </tr>\n",
       "  </thead>\n",
       "  <tbody>\n",
       "    <tr>\n",
       "      <th>0</th>\n",
       "      <td>-0.920621</td>\n",
       "      <td>-0.155646</td>\n",
       "      <td>-0.318593</td>\n",
       "      <td>2017-10-04 01:44:45</td>\n",
       "    </tr>\n",
       "    <tr>\n",
       "      <th>1</th>\n",
       "      <td>-0.928607</td>\n",
       "      <td>-0.150999</td>\n",
       "      <td>-0.310559</td>\n",
       "      <td>2017-10-04 01:44:46</td>\n",
       "    </tr>\n",
       "    <tr>\n",
       "      <th>2</th>\n",
       "      <td>-0.962693</td>\n",
       "      <td>-0.028313</td>\n",
       "      <td>-0.205231</td>\n",
       "      <td>2017-10-04 01:44:47</td>\n",
       "    </tr>\n",
       "    <tr>\n",
       "      <th>3</th>\n",
       "      <td>-0.967954</td>\n",
       "      <td>-0.025304</td>\n",
       "      <td>-0.199450</td>\n",
       "      <td>2017-10-04 01:44:48</td>\n",
       "    </tr>\n",
       "    <tr>\n",
       "      <th>4</th>\n",
       "      <td>-0.953352</td>\n",
       "      <td>-0.088372</td>\n",
       "      <td>-0.257887</td>\n",
       "      <td>2017-10-04 01:44:49</td>\n",
       "    </tr>\n",
       "  </tbody>\n",
       "</table>\n",
       "</div>"
      ],
      "text/plain": [
       "   Accelerometer X  Accelerometer Y  Accelerometer Z                time\n",
       "0        -0.920621        -0.155646        -0.318593 2017-10-04 01:44:45\n",
       "1        -0.928607        -0.150999        -0.310559 2017-10-04 01:44:46\n",
       "2        -0.962693        -0.028313        -0.205231 2017-10-04 01:44:47\n",
       "3        -0.967954        -0.025304        -0.199450 2017-10-04 01:44:48\n",
       "4        -0.953352        -0.088372        -0.257887 2017-10-04 01:44:49"
      ]
     },
     "metadata": {},
     "output_type": "display_data"
    },
    {
     "data": {
      "text/html": [
       "<div>\n",
       "<style scoped>\n",
       "    .dataframe tbody tr th:only-of-type {\n",
       "        vertical-align: middle;\n",
       "    }\n",
       "\n",
       "    .dataframe tbody tr th {\n",
       "        vertical-align: top;\n",
       "    }\n",
       "\n",
       "    .dataframe thead th {\n",
       "        text-align: right;\n",
       "    }\n",
       "</style>\n",
       "<table border=\"1\" class=\"dataframe\">\n",
       "  <thead>\n",
       "    <tr style=\"text-align: right;\">\n",
       "      <th></th>\n",
       "      <th>Accelerometer X</th>\n",
       "      <th>Accelerometer Y</th>\n",
       "      <th>Accelerometer Z</th>\n",
       "      <th>time</th>\n",
       "    </tr>\n",
       "  </thead>\n",
       "  <tbody>\n",
       "    <tr>\n",
       "      <th>175639</th>\n",
       "      <td>-0.090578</td>\n",
       "      <td>0.065754</td>\n",
       "      <td>1.009694</td>\n",
       "      <td>2017-10-13 18:09:55</td>\n",
       "    </tr>\n",
       "    <tr>\n",
       "      <th>175640</th>\n",
       "      <td>-0.110487</td>\n",
       "      <td>0.066195</td>\n",
       "      <td>1.004670</td>\n",
       "      <td>2017-10-13 18:09:56</td>\n",
       "    </tr>\n",
       "    <tr>\n",
       "      <th>175641</th>\n",
       "      <td>-0.033857</td>\n",
       "      <td>0.060414</td>\n",
       "      <td>1.013868</td>\n",
       "      <td>2017-10-13 18:09:57</td>\n",
       "    </tr>\n",
       "    <tr>\n",
       "      <th>175642</th>\n",
       "      <td>-0.068053</td>\n",
       "      <td>0.047057</td>\n",
       "      <td>1.010435</td>\n",
       "      <td>2017-10-13 18:09:58</td>\n",
       "    </tr>\n",
       "    <tr>\n",
       "      <th>175643</th>\n",
       "      <td>-0.056445</td>\n",
       "      <td>0.052570</td>\n",
       "      <td>1.006355</td>\n",
       "      <td>2017-10-13 18:09:59</td>\n",
       "    </tr>\n",
       "  </tbody>\n",
       "</table>\n",
       "</div>"
      ],
      "text/plain": [
       "        Accelerometer X  Accelerometer Y  Accelerometer Z                time\n",
       "175639        -0.090578         0.065754         1.009694 2017-10-13 18:09:55\n",
       "175640        -0.110487         0.066195         1.004670 2017-10-13 18:09:56\n",
       "175641        -0.033857         0.060414         1.013868 2017-10-13 18:09:57\n",
       "175642        -0.068053         0.047057         1.010435 2017-10-13 18:09:58\n",
       "175643        -0.056445         0.052570         1.006355 2017-10-13 18:09:59"
      ]
     },
     "metadata": {},
     "output_type": "display_data"
    },
    {
     "data": {
      "text/plain": [
       "0    sit/stand\n",
       "1    sit/stand\n",
       "2    sit/stand\n",
       "3    sit/stand\n",
       "4    sit/stand\n",
       "Name: broad_activity, dtype: object"
      ]
     },
     "metadata": {},
     "output_type": "display_data"
    },
    {
     "data": {
      "text/plain": [
       "175639    sit/stand\n",
       "175640    sit/stand\n",
       "175641    sit/stand\n",
       "175642    sit/stand\n",
       "175643    sit/stand\n",
       "Name: broad_activity, dtype: object"
      ]
     },
     "metadata": {},
     "output_type": "display_data"
    }
   ],
   "source": [
    "display(train_test_dict[\"thigh\"][\"X_trains\"][2].head())\n",
    "display(train_test_dict[\"thigh\"][\"X_tests\"][2].head())\n",
    "display(train_test_dict[\"thigh\"][\"y_trains\"][2].head())\n",
    "display(train_test_dict[\"thigh\"][\"y_tests\"][2].head())"
   ]
  },
  {
   "cell_type": "code",
   "execution_count": 40,
   "id": "express-henry",
   "metadata": {},
   "outputs": [],
   "source": [
    "# Created a function to split with cross-validation in mind\n",
    "# Since time is a variable, I did not randomly assign indexes to train and test, but rather grouped them together"
   ]
  },
  {
   "cell_type": "code",
   "execution_count": 41,
   "id": "computational-portrait",
   "metadata": {},
   "outputs": [],
   "source": [
    "# Any other explanatory features we should use besides the 4 above? All the others seem too closely related to activity\n",
    "# Are we going to try using different response variables? There are so many activity variables we could try several"
   ]
  },
  {
   "cell_type": "code",
   "execution_count": 42,
   "id": "right-nightlife",
   "metadata": {},
   "outputs": [],
   "source": [
    "from hmmlearn import hmm"
   ]
  },
  {
   "cell_type": "code",
   "execution_count": 43,
   "id": "proprietary-default",
   "metadata": {},
   "outputs": [
    {
     "data": {
      "text/html": [
       "<div>\n",
       "<style scoped>\n",
       "    .dataframe tbody tr th:only-of-type {\n",
       "        vertical-align: middle;\n",
       "    }\n",
       "\n",
       "    .dataframe tbody tr th {\n",
       "        vertical-align: top;\n",
       "    }\n",
       "\n",
       "    .dataframe thead th {\n",
       "        text-align: right;\n",
       "    }\n",
       "</style>\n",
       "<table border=\"1\" class=\"dataframe\">\n",
       "  <thead>\n",
       "    <tr style=\"text-align: right;\">\n",
       "      <th></th>\n",
       "      <th>Accelerometer X</th>\n",
       "      <th>Accelerometer Y</th>\n",
       "      <th>Accelerometer Z</th>\n",
       "    </tr>\n",
       "  </thead>\n",
       "  <tbody>\n",
       "    <tr>\n",
       "      <th>0</th>\n",
       "      <td>-0.920621</td>\n",
       "      <td>-0.155646</td>\n",
       "      <td>-0.318593</td>\n",
       "    </tr>\n",
       "    <tr>\n",
       "      <th>1</th>\n",
       "      <td>-0.928607</td>\n",
       "      <td>-0.150999</td>\n",
       "      <td>-0.310559</td>\n",
       "    </tr>\n",
       "    <tr>\n",
       "      <th>2</th>\n",
       "      <td>-0.962693</td>\n",
       "      <td>-0.028313</td>\n",
       "      <td>-0.205231</td>\n",
       "    </tr>\n",
       "    <tr>\n",
       "      <th>3</th>\n",
       "      <td>-0.967954</td>\n",
       "      <td>-0.025304</td>\n",
       "      <td>-0.199450</td>\n",
       "    </tr>\n",
       "    <tr>\n",
       "      <th>4</th>\n",
       "      <td>-0.953352</td>\n",
       "      <td>-0.088372</td>\n",
       "      <td>-0.257887</td>\n",
       "    </tr>\n",
       "    <tr>\n",
       "      <th>...</th>\n",
       "      <td>...</td>\n",
       "      <td>...</td>\n",
       "      <td>...</td>\n",
       "    </tr>\n",
       "    <tr>\n",
       "      <th>351274</th>\n",
       "      <td>-0.060729</td>\n",
       "      <td>0.297250</td>\n",
       "      <td>0.977845</td>\n",
       "    </tr>\n",
       "    <tr>\n",
       "      <th>351275</th>\n",
       "      <td>-0.060036</td>\n",
       "      <td>0.297439</td>\n",
       "      <td>0.978145</td>\n",
       "    </tr>\n",
       "    <tr>\n",
       "      <th>351276</th>\n",
       "      <td>-0.058587</td>\n",
       "      <td>0.296746</td>\n",
       "      <td>0.977751</td>\n",
       "    </tr>\n",
       "    <tr>\n",
       "      <th>351277</th>\n",
       "      <td>-0.059548</td>\n",
       "      <td>0.297391</td>\n",
       "      <td>0.978003</td>\n",
       "    </tr>\n",
       "    <tr>\n",
       "      <th>351278</th>\n",
       "      <td>-0.058603</td>\n",
       "      <td>0.297486</td>\n",
       "      <td>0.979751</td>\n",
       "    </tr>\n",
       "  </tbody>\n",
       "</table>\n",
       "<p>351279 rows × 3 columns</p>\n",
       "</div>"
      ],
      "text/plain": [
       "        Accelerometer X  Accelerometer Y  Accelerometer Z\n",
       "0             -0.920621        -0.155646        -0.318593\n",
       "1             -0.928607        -0.150999        -0.310559\n",
       "2             -0.962693        -0.028313        -0.205231\n",
       "3             -0.967954        -0.025304        -0.199450\n",
       "4             -0.953352        -0.088372        -0.257887\n",
       "...                 ...              ...              ...\n",
       "351274        -0.060729         0.297250         0.977845\n",
       "351275        -0.060036         0.297439         0.978145\n",
       "351276        -0.058587         0.296746         0.977751\n",
       "351277        -0.059548         0.297391         0.978003\n",
       "351278        -0.058603         0.297486         0.979751\n",
       "\n",
       "[351279 rows x 3 columns]"
      ]
     },
     "execution_count": 43,
     "metadata": {},
     "output_type": "execute_result"
    }
   ],
   "source": [
    "X.drop(\"time\", axis=1)"
   ]
  },
  {
   "cell_type": "code",
   "execution_count": 44,
   "id": "intellectual-cowboy",
   "metadata": {},
   "outputs": [],
   "source": [
    "# First runthrough\n",
    "\n",
    "#time will have to be made into int or float variable\n",
    "X = df_chest[X_vars].drop(\"time\", axis=1)\n",
    "y = df_chest[y_var]\n",
    "states = list(y.unique())\n",
    "\n",
    "hm_model = hmm.GaussianHMM(n_components = len(states))\n",
    "\n",
    "\n",
    "hm_model.fit(X)\n",
    "predictions = hm_model.predict(X)"
   ]
  },
  {
   "cell_type": "code",
   "execution_count": 45,
   "id": "aware-extraction",
   "metadata": {},
   "outputs": [
    {
     "data": {
      "text/plain": [
       "['sit/stand', 'mixed-activity', 'walking', 'vehicle', 'bicycling']"
      ]
     },
     "execution_count": 45,
     "metadata": {},
     "output_type": "execute_result"
    }
   ],
   "source": [
    "states"
   ]
  },
  {
   "cell_type": "code",
   "execution_count": 46,
   "id": "swedish-sucking",
   "metadata": {},
   "outputs": [],
   "source": [
    "def print_highest_accuracy(pred, y):\n",
    "    num_list = []\n",
    "    for state in y.unique():\n",
    "        subset = y[y == state]\n",
    "        indexes = list(subset.index)\n",
    "        \n",
    "        numbers = pred.iloc[indexes].value_counts().sort_index()\n",
    "\n",
    "        print(\"State:\", state)\n",
    "        print(pd.Series(numbers))\n",
    "        print(\"\\n\")\n",
    "        \n",
    "        num_list.append(list(numbers))\n",
    "\n",
    "    return highest_accuracy(num_list)\n",
    "\n",
    "#With n as number of states:\n",
    "# O(n!) -- incredibly inefficient\n",
    "def highest_accuracy(numbers):\n",
    "    n = len(numbers)\n",
    "    \n",
    "#     highest_count, best_sequence = correct_count(numbers, [], 0)\n",
    "    highest_count, best_sequence = lazy_correct_count(numbers)\n",
    "    \n",
    "    return highest_count, best_sequence\n",
    "    \n",
    "# def correct_count(numbers, illegal_nums, count):\n",
    "#     n = len(numbers)\n",
    "#     results = {}\n",
    "    \n",
    "#     #state\n",
    "#     for i in range(n):\n",
    "#         if i not in illegal_nums:\n",
    "#         #numbers\n",
    "#             for j in range(n):\n",
    "#                 print(i, j)\n",
    "#                 count += numbers[i][j]\n",
    "#                 print(count)\n",
    "#                 illegal_nums.append(i)\n",
    "\n",
    "#                 if len(illegal_nums) == n:\n",
    "#                     sequence = \"\"\n",
    "#                     for number in illegal_nums:\n",
    "#                         sequence = sequence + str(number)\n",
    "#                     results[sequence] = count\n",
    "#                 else:\n",
    "#                     correct_count(numbers, illegal_nums, count)\n",
    "#     return results\n",
    "\n",
    "def lazy_correct_count(numbers):\n",
    "    results = {}\n",
    "    n = len(numbers)\n",
    "    \n",
    "    for a in range(n):\n",
    "        a_count = numbers[0][a]\n",
    "        \n",
    "        for b in range(n):\n",
    "            if b == a:\n",
    "                continue\n",
    "                \n",
    "            b_count = a_count + numbers[1][b]\n",
    "            \n",
    "            for c in range(n):\n",
    "                if c in [a,b]:\n",
    "                    continue\n",
    "                    \n",
    "                c_count = b_count + numbers[2][c]\n",
    "                \n",
    "                for d in range(n):\n",
    "                    if d in [a,b,c]:\n",
    "                        continue\n",
    "                        \n",
    "                    d_count = c_count + numbers[3][d]\n",
    "                                        \n",
    "                    for e in range(n):\n",
    "                        if e in [a,b,c,d]:\n",
    "                            continue\n",
    "                            \n",
    "                        #1 and 4 never appear for biking\n",
    "                        if e == 0:\n",
    "                            e_count = d_count + numbers[4][e]\n",
    "                        elif e in [2,3]:\n",
    "                            e_count = d_count + numbers[4][e-1]\n",
    "                        elif e in [1,4]:\n",
    "                            e_count = d_count\n",
    "\n",
    "                        results[e_count] = [a,b,c,d,e]\n",
    "    \n",
    "    highest_count = max(results.keys())\n",
    "    best_sequence = results[highest_count]\n",
    "    return highest_count, best_sequence"
   ]
  },
  {
   "cell_type": "code",
   "execution_count": 47,
   "id": "described-security",
   "metadata": {},
   "outputs": [
    {
     "name": "stdout",
     "output_type": "stream",
     "text": [
      "State: sit/stand\n",
      "0    58723\n",
      "1    58995\n",
      "2    58663\n",
      "3     9491\n",
      "4    66266\n",
      "dtype: int64\n",
      "\n",
      "\n",
      "State: mixed-activity\n",
      "0     5472\n",
      "1      474\n",
      "2     7306\n",
      "3     4537\n",
      "4    10906\n",
      "dtype: int64\n",
      "\n",
      "\n",
      "State: walking\n",
      "0    13165\n",
      "1      667\n",
      "2    13277\n",
      "3     1299\n",
      "4    25998\n",
      "dtype: int64\n",
      "\n",
      "\n",
      "State: vehicle\n",
      "0     291\n",
      "1    1553\n",
      "2    5487\n",
      "3       6\n",
      "4    4960\n",
      "dtype: int64\n",
      "\n",
      "\n",
      "State: bicycling\n",
      "0    4397\n",
      "3    1729\n",
      "4      48\n",
      "dtype: int64\n",
      "\n",
      "\n"
     ]
    },
    {
     "data": {
      "text/plain": [
       "[1, 3, 4, 2, 0]"
      ]
     },
     "execution_count": 47,
     "metadata": {},
     "output_type": "execute_result"
    }
   ],
   "source": [
    "highest_count, best_sequence = print_highest_accuracy(pd.Series(predictions), y)\n",
    "best_sequence"
   ]
  },
  {
   "cell_type": "code",
   "execution_count": 48,
   "id": "wrapped-california",
   "metadata": {},
   "outputs": [],
   "source": [
    "def assign_hidden_states(val, states, results):\n",
    "    for i in range(len(states)):\n",
    "        if val == results[i]:\n",
    "            return states[i]\n",
    "\n",
    "y_pred = pd.Series(predictions).apply(lambda x: assign_hidden_states(x, states, best_sequence))"
   ]
  },
  {
   "cell_type": "code",
   "execution_count": 49,
   "id": "bottom-homeless",
   "metadata": {},
   "outputs": [
    {
     "name": "stdout",
     "output_type": "stream",
     "text": [
      "Accuracy: 28.10607559865426%\n"
     ]
    }
   ],
   "source": [
    "correct = y_pred == y\n",
    "print(\"Accuracy: \" + str(sum(correct)/len(y)*100) + \"%\")"
   ]
  },
  {
   "cell_type": "code",
   "execution_count": 50,
   "id": "focused-brazil",
   "metadata": {},
   "outputs": [
    {
     "data": {
      "text/plain": [
       "True"
      ]
     },
     "execution_count": 50,
     "metadata": {},
     "output_type": "execute_result"
    }
   ],
   "source": [
    "sum(correct) == highest_count"
   ]
  },
  {
   "cell_type": "code",
   "execution_count": 51,
   "id": "french-privacy",
   "metadata": {},
   "outputs": [
    {
     "data": {
      "text/plain": [
       "sit/stand         252138\n",
       "walking            54406\n",
       "mixed-activity     28695\n",
       "vehicle            12297\n",
       "bicycling           6174\n",
       "Name: broad_activity, dtype: int64"
      ]
     },
     "metadata": {},
     "output_type": "display_data"
    },
    {
     "data": {
      "text/plain": [
       "sit/stand         58995\n",
       "walking           25998\n",
       "vehicle            5487\n",
       "mixed-activity     4537\n",
       "bicycling          4397\n",
       "Name: broad_activity, dtype: int64"
      ]
     },
     "metadata": {},
     "output_type": "display_data"
    }
   ],
   "source": [
    "display(y.value_counts())\n",
    "display(y[correct].value_counts())"
   ]
  }
 ],
 "metadata": {
  "kernelspec": {
   "display_name": "Python 3",
   "language": "python",
   "name": "python3"
  },
  "language_info": {
   "codemirror_mode": {
    "name": "ipython",
    "version": 3
   },
   "file_extension": ".py",
   "mimetype": "text/x-python",
   "name": "python",
   "nbconvert_exporter": "python",
   "pygments_lexer": "ipython3",
   "version": "3.7.4"
  }
 },
 "nbformat": 4,
 "nbformat_minor": 5
}
